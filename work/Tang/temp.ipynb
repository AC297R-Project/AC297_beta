{
 "cells": [
  {
   "cell_type": "code",
   "execution_count": 2,
   "metadata": {
    "collapsed": true
   },
   "outputs": [],
   "source": [
    "from StockDescription import *\n",
    "from Hedge import Hedge\n",
    "\n",
    "import sys\n",
    "sys.path.append('../../source/')\n",
    "\n",
    "import numpy as np\n",
    "import pandas as pd"
   ]
  },
  {
   "cell_type": "code",
   "execution_count": 2,
   "metadata": {
    "collapsed": false
   },
   "outputs": [],
   "source": [
    "hedge = Hedge(begindate='2005-01-01', enddate='2015-12-31')"
   ]
  },
  {
   "cell_type": "code",
   "execution_count": 4,
   "metadata": {
    "collapsed": false
   },
   "outputs": [],
   "source": [
    "hedge.allstockdf.to_csv('allstock_ret.csv')"
   ]
  },
  {
   "cell_type": "code",
   "execution_count": 3,
   "metadata": {
    "collapsed": false
   },
   "outputs": [],
   "source": [
    "stockuniverse = getStockUniverse()"
   ]
  },
  {
   "cell_type": "code",
   "execution_count": 12,
   "metadata": {
    "collapsed": false,
    "scrolled": false
   },
   "outputs": [
    {
     "data": {
      "text/html": [
       "<div>\n",
       "<table border=\"1\" class=\"dataframe\">\n",
       "  <thead>\n",
       "    <tr style=\"text-align: right;\">\n",
       "      <th></th>\n",
       "      <th>Symbol</th>\n",
       "      <th>Name</th>\n",
       "      <th>LastSale</th>\n",
       "      <th>MarketCap</th>\n",
       "      <th>IPOyear</th>\n",
       "      <th>Sector</th>\n",
       "      <th>industry</th>\n",
       "      <th>Summary Quote</th>\n",
       "      <th>Market</th>\n",
       "    </tr>\n",
       "  </thead>\n",
       "  <tbody>\n",
       "    <tr>\n",
       "      <th>0</th>\n",
       "      <td>AAPL</td>\n",
       "      <td>Apple Inc.</td>\n",
       "      <td>96.91</td>\n",
       "      <td>537330</td>\n",
       "      <td>1980</td>\n",
       "      <td>Technology</td>\n",
       "      <td>Computer Manufacturing</td>\n",
       "      <td>http://www.nasdaq.com/symbol/aapl</td>\n",
       "      <td>NASDAQ</td>\n",
       "    </tr>\n",
       "    <tr>\n",
       "      <th>1</th>\n",
       "      <td>GOOG</td>\n",
       "      <td>Alphabet Inc.</td>\n",
       "      <td>705.07</td>\n",
       "      <td>485310</td>\n",
       "      <td>2004</td>\n",
       "      <td>Technology</td>\n",
       "      <td>Computer Software: Programming, Data Processing</td>\n",
       "      <td>http://www.nasdaq.com/symbol/goog</td>\n",
       "      <td>NASDAQ</td>\n",
       "    </tr>\n",
       "    <tr>\n",
       "      <th>2</th>\n",
       "      <td>MSFT</td>\n",
       "      <td>Microsoft Corporation</td>\n",
       "      <td>51.3</td>\n",
       "      <td>405750</td>\n",
       "      <td>1986</td>\n",
       "      <td>Technology</td>\n",
       "      <td>Computer Software: Prepackaged Software</td>\n",
       "      <td>http://www.nasdaq.com/symbol/msft</td>\n",
       "      <td>NASDAQ</td>\n",
       "    </tr>\n",
       "    <tr>\n",
       "      <th>4</th>\n",
       "      <td>FB</td>\n",
       "      <td>Facebook, Inc.</td>\n",
       "      <td>107.92</td>\n",
       "      <td>307170</td>\n",
       "      <td>2012</td>\n",
       "      <td>Technology</td>\n",
       "      <td>Computer Software: Programming, Data Processing</td>\n",
       "      <td>http://www.nasdaq.com/symbol/fb</td>\n",
       "      <td>NASDAQ</td>\n",
       "    </tr>\n",
       "    <tr>\n",
       "      <th>25</th>\n",
       "      <td>ORCL</td>\n",
       "      <td>Oracle Corporation</td>\n",
       "      <td>36.96</td>\n",
       "      <td>155280</td>\n",
       "      <td>1986</td>\n",
       "      <td>Technology</td>\n",
       "      <td>Computer Software: Prepackaged Software</td>\n",
       "      <td>http://www.nasdaq.com/symbol/orcl</td>\n",
       "      <td>NYSE</td>\n",
       "    </tr>\n",
       "    <tr>\n",
       "      <th>29</th>\n",
       "      <td>INTC</td>\n",
       "      <td>Intel Corporation</td>\n",
       "      <td>29.8</td>\n",
       "      <td>140780</td>\n",
       "      <td>n/a</td>\n",
       "      <td>Technology</td>\n",
       "      <td>Semiconductors</td>\n",
       "      <td>http://www.nasdaq.com/symbol/intc</td>\n",
       "      <td>NASDAQ</td>\n",
       "    </tr>\n",
       "    <tr>\n",
       "      <th>32</th>\n",
       "      <td>CSCO</td>\n",
       "      <td>Cisco Systems, Inc.</td>\n",
       "      <td>26.41</td>\n",
       "      <td>132900</td>\n",
       "      <td>1990</td>\n",
       "      <td>Technology</td>\n",
       "      <td>Computer Communications Equipment</td>\n",
       "      <td>http://www.nasdaq.com/symbol/csco</td>\n",
       "      <td>NASDAQ</td>\n",
       "    </tr>\n",
       "    <tr>\n",
       "      <th>36</th>\n",
       "      <td>IBM</td>\n",
       "      <td>International Business Machines Corporation</td>\n",
       "      <td>132.03</td>\n",
       "      <td>128080</td>\n",
       "      <td>n/a</td>\n",
       "      <td>Technology</td>\n",
       "      <td>Computer Manufacturing</td>\n",
       "      <td>http://www.nasdaq.com/symbol/ibm</td>\n",
       "      <td>NYSE</td>\n",
       "    </tr>\n",
       "    <tr>\n",
       "      <th>39</th>\n",
       "      <td>TSM</td>\n",
       "      <td>Taiwan Semiconductor Manufacturing Company Ltd.</td>\n",
       "      <td>23.77</td>\n",
       "      <td>123270</td>\n",
       "      <td>1997</td>\n",
       "      <td>Technology</td>\n",
       "      <td>Semiconductors</td>\n",
       "      <td>http://www.nasdaq.com/symbol/tsm</td>\n",
       "      <td>NYSE</td>\n",
       "    </tr>\n",
       "    <tr>\n",
       "      <th>55</th>\n",
       "      <td>DCM</td>\n",
       "      <td>NTT DOCOMO, Inc</td>\n",
       "      <td>23.18</td>\n",
       "      <td>94710</td>\n",
       "      <td>n/a</td>\n",
       "      <td>Technology</td>\n",
       "      <td>Radio And Television Broadcasting And Communic...</td>\n",
       "      <td>http://www.nasdaq.com/symbol/dcm</td>\n",
       "      <td>NYSE</td>\n",
       "    </tr>\n",
       "    <tr>\n",
       "      <th>57</th>\n",
       "      <td>SAP</td>\n",
       "      <td>SAP SE</td>\n",
       "      <td>76.42</td>\n",
       "      <td>91340</td>\n",
       "      <td>n/a</td>\n",
       "      <td>Technology</td>\n",
       "      <td>Computer Software: Prepackaged Software</td>\n",
       "      <td>http://www.nasdaq.com/symbol/sap</td>\n",
       "      <td>NYSE</td>\n",
       "    </tr>\n",
       "  </tbody>\n",
       "</table>\n",
       "</div>"
      ],
      "text/plain": [
       "   Symbol                                             Name LastSale  \\\n",
       "0    AAPL                                       Apple Inc.    96.91   \n",
       "1    GOOG                                    Alphabet Inc.   705.07   \n",
       "2    MSFT                            Microsoft Corporation     51.3   \n",
       "4      FB                                   Facebook, Inc.   107.92   \n",
       "25   ORCL                               Oracle Corporation    36.96   \n",
       "29   INTC                                Intel Corporation     29.8   \n",
       "32   CSCO                              Cisco Systems, Inc.    26.41   \n",
       "36    IBM      International Business Machines Corporation   132.03   \n",
       "39    TSM  Taiwan Semiconductor Manufacturing Company Ltd.    23.77   \n",
       "55    DCM                                  NTT DOCOMO, Inc    23.18   \n",
       "57    SAP                                           SAP SE    76.42   \n",
       "\n",
       "    MarketCap IPOyear      Sector  \\\n",
       "0      537330    1980  Technology   \n",
       "1      485310    2004  Technology   \n",
       "2      405750    1986  Technology   \n",
       "4      307170    2012  Technology   \n",
       "25     155280    1986  Technology   \n",
       "29     140780     n/a  Technology   \n",
       "32     132900    1990  Technology   \n",
       "36     128080     n/a  Technology   \n",
       "39     123270    1997  Technology   \n",
       "55      94710     n/a  Technology   \n",
       "57      91340     n/a  Technology   \n",
       "\n",
       "                                             industry  \\\n",
       "0                              Computer Manufacturing   \n",
       "1     Computer Software: Programming, Data Processing   \n",
       "2             Computer Software: Prepackaged Software   \n",
       "4     Computer Software: Programming, Data Processing   \n",
       "25            Computer Software: Prepackaged Software   \n",
       "29                                     Semiconductors   \n",
       "32                  Computer Communications Equipment   \n",
       "36                             Computer Manufacturing   \n",
       "39                                     Semiconductors   \n",
       "55  Radio And Television Broadcasting And Communic...   \n",
       "57            Computer Software: Prepackaged Software   \n",
       "\n",
       "                        Summary Quote  Market  \n",
       "0   http://www.nasdaq.com/symbol/aapl  NASDAQ  \n",
       "1   http://www.nasdaq.com/symbol/goog  NASDAQ  \n",
       "2   http://www.nasdaq.com/symbol/msft  NASDAQ  \n",
       "4     http://www.nasdaq.com/symbol/fb  NASDAQ  \n",
       "25  http://www.nasdaq.com/symbol/orcl    NYSE  \n",
       "29  http://www.nasdaq.com/symbol/intc  NASDAQ  \n",
       "32  http://www.nasdaq.com/symbol/csco  NASDAQ  \n",
       "36   http://www.nasdaq.com/symbol/ibm    NYSE  \n",
       "39   http://www.nasdaq.com/symbol/tsm    NYSE  \n",
       "55   http://www.nasdaq.com/symbol/dcm    NYSE  \n",
       "57   http://www.nasdaq.com/symbol/sap    NYSE  "
      ]
     },
     "execution_count": 12,
     "metadata": {},
     "output_type": "execute_result"
    }
   ],
   "source": [
    "stockuniverse[stockuniverse['Sector']=='Technology'].head(11)"
   ]
  },
  {
   "cell_type": "code",
   "execution_count": 7,
   "metadata": {
    "collapsed": false
   },
   "outputs": [
    {
     "data": {
      "text/plain": [
       "['Basic Industries',\n",
       " 'Capital Goods',\n",
       " 'Consumer Durables',\n",
       " 'Consumer Non-Durables',\n",
       " 'Consumer Services',\n",
       " 'Energy',\n",
       " 'Finance',\n",
       " 'Health Care',\n",
       " 'Miscellaneous',\n",
       " 'Public Utilities',\n",
       " 'Technology',\n",
       " 'Transportation',\n",
       " 'n/a']"
      ]
     },
     "execution_count": 7,
     "metadata": {},
     "output_type": "execute_result"
    }
   ],
   "source": [
    "SECTORS"
   ]
  },
  {
   "cell_type": "code",
   "execution_count": null,
   "metadata": {
    "collapsed": true
   },
   "outputs": [],
   "source": []
  }
 ],
 "metadata": {
  "kernelspec": {
   "display_name": "Python 2",
   "language": "python",
   "name": "python2"
  },
  "language_info": {
   "codemirror_mode": {
    "name": "ipython",
    "version": 2
   },
   "file_extension": ".py",
   "mimetype": "text/x-python",
   "name": "python",
   "nbconvert_exporter": "python",
   "pygments_lexer": "ipython2",
   "version": "2.7.11"
  }
 },
 "nbformat": 4,
 "nbformat_minor": 0
}
