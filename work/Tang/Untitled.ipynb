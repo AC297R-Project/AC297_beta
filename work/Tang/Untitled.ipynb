{
 "cells": [
  {
   "cell_type": "code",
   "execution_count": 1,
   "metadata": {
    "collapsed": true
   },
   "outputs": [],
   "source": [
    "from Hedge import Hedge"
   ]
  },
  {
   "cell_type": "code",
   "execution_count": 2,
   "metadata": {
    "collapsed": true
   },
   "outputs": [],
   "source": [
    "hedge =  Hedge(begindate='2007-01-01',enddate='2007-12-31')"
   ]
  },
  {
   "cell_type": "code",
   "execution_count": 3,
   "metadata": {
    "collapsed": false
   },
   "outputs": [
    {
     "data": {
      "text/plain": [
       "array(['RGC', 'BFY', 'CRWS', 'SCCO', 'PZC', 'AVK', 'NTRI', 'DGSE', 'GLO',\n",
       "       'PX', 'TRST', 'DDE', 'VVR', 'AMAT', 'ACIW', 'IHS', 'COBZ', 'RYAAY',\n",
       "       'CIEN', 'UPIP'], dtype=object)"
      ]
     },
     "execution_count": 3,
     "metadata": {},
     "output_type": "execute_result"
    }
   ],
   "source": [
    "hedge.generateRandomPort()"
   ]
  },
  {
   "cell_type": "code",
   "execution_count": 4,
   "metadata": {
    "collapsed": false
   },
   "outputs": [
    {
     "data": {
      "text/plain": [
       "array(['NVLS', 'ADSK', 'PCYG', 'ESL', 'VG', 'BBL', 'NPP', 'ECPG', 'CRT',\n",
       "       'NPK', 'STRS', 'FMNB', 'SBUX', 'FARO', 'MGM', 'GD', 'VBF', 'NMA',\n",
       "       'AGII', 'PAI'], dtype=object)"
      ]
     },
     "execution_count": 4,
     "metadata": {},
     "output_type": "execute_result"
    }
   ],
   "source": [
    "hedge.generateRandomMarket()"
   ]
  },
  {
   "cell_type": "code",
   "execution_count": 8,
   "metadata": {
    "collapsed": false
   },
   "outputs": [
    {
     "data": {
      "text/plain": [
       "Date\n",
       "2007-01-03    1000.000000\n",
       "2007-01-04    1014.197401\n",
       "2007-01-05    1024.677788\n",
       "2007-01-08    1000.481405\n",
       "2007-01-09     992.031135\n",
       "2007-01-10     995.945623\n",
       "2007-01-11    1010.883365\n",
       "2007-01-12    1009.380751\n",
       "2007-01-16    1007.246899\n",
       "2007-01-17    1005.334977\n",
       "2007-01-18     992.329779\n",
       "2007-01-19     996.728204\n",
       "2007-01-22     987.216475\n",
       "2007-01-23     992.415444\n",
       "2007-01-24    1007.601462\n",
       "2007-01-25     992.013832\n",
       "2007-01-26    1006.534980\n",
       "2007-01-29    1010.579248\n",
       "2007-01-30    1011.882669\n",
       "2007-01-31    1020.295653\n",
       "2007-02-01    1033.589238\n",
       "2007-02-02    1032.298222\n",
       "2007-02-05    1046.969350\n",
       "2007-02-06    1042.144452\n",
       "2007-02-07    1045.412582\n",
       "2007-02-08    1034.103136\n",
       "2007-02-09    1025.578596\n",
       "2007-02-12    1030.421172\n",
       "2007-02-13    1026.266409\n",
       "2007-02-14    1026.635364\n",
       "                 ...     \n",
       "2007-11-16     965.914010\n",
       "2007-11-19     944.444936\n",
       "2007-11-20     940.478330\n",
       "2007-11-21     923.228401\n",
       "2007-11-23     933.322398\n",
       "2007-11-26     905.059383\n",
       "2007-11-27     917.664978\n",
       "2007-11-28     943.275030\n",
       "2007-11-29     931.596796\n",
       "2007-11-30     951.551755\n",
       "2007-12-03     935.624677\n",
       "2007-12-04     926.815235\n",
       "2007-12-05     940.585940\n",
       "2007-12-06     954.731144\n",
       "2007-12-07     951.073046\n",
       "2007-12-10     954.935269\n",
       "2007-12-11     937.368140\n",
       "2007-12-12     928.978089\n",
       "2007-12-13     921.840102\n",
       "2007-12-14     902.207042\n",
       "2007-12-17     879.020141\n",
       "2007-12-18     889.671951\n",
       "2007-12-19     878.331607\n",
       "2007-12-20     872.405972\n",
       "2007-12-21     885.457518\n",
       "2007-12-24     895.057418\n",
       "2007-12-26     893.495300\n",
       "2007-12-27     868.631981\n",
       "2007-12-28     870.431023\n",
       "2007-12-31     860.492976\n",
       "dtype: float64"
      ]
     },
     "execution_count": 8,
     "metadata": {},
     "output_type": "execute_result"
    }
   ],
   "source": [
    "hedge.dollar_market_sum"
   ]
  },
  {
   "cell_type": "code",
   "execution_count": 7,
   "metadata": {
    "collapsed": false
   },
   "outputs": [
    {
     "data": {
      "text/plain": [
       "array(['CEF', 'APOG', 'SBSA', 'ASUR', 'SBUX', 'HRB', 'WSBC', 'HNH', 'SUP',\n",
       "       'NSL', 'NFEC', 'PTR', 'AGII', 'NATL', 'PLX', 'NOM', 'MAS', 'GNK',\n",
       "       'ESIO', 'DPW'], dtype=object)"
      ]
     },
     "execution_count": 7,
     "metadata": {},
     "output_type": "execute_result"
    }
   ],
   "source": [
    "hedge.generateRandomMarket()"
   ]
  },
  {
   "cell_type": "code",
   "execution_count": null,
   "metadata": {
    "collapsed": true
   },
   "outputs": [],
   "source": []
  }
 ],
 "metadata": {
  "kernelspec": {
   "display_name": "Python 2",
   "language": "python",
   "name": "python2"
  },
  "language_info": {
   "codemirror_mode": {
    "name": "ipython",
    "version": 2
   },
   "file_extension": ".py",
   "mimetype": "text/x-python",
   "name": "python",
   "nbconvert_exporter": "python",
   "pygments_lexer": "ipython2",
   "version": "2.7.11"
  }
 },
 "nbformat": 4,
 "nbformat_minor": 0
}
