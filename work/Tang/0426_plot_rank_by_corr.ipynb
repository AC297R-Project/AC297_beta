{
 "cells": [
  {
   "cell_type": "markdown",
   "metadata": {},
   "source": [
    "TODOs:\n",
    "1. Portfolio by sectors\n",
    "2. Sector hedgings\n",
    "3. Dynamic portfolio\n",
    "4. Incidents"
   ]
  },
  {
   "cell_type": "code",
   "execution_count": 1,
   "metadata": {
    "collapsed": true
   },
   "outputs": [],
   "source": [
    "import numpy as np\n",
    "import matplotlib.pyplot as plt\n",
    "%matplotlib inline"
   ]
  },
  {
   "cell_type": "code",
   "execution_count": 2,
   "metadata": {
    "collapsed": true
   },
   "outputs": [],
   "source": [
    "import pandas as pd"
   ]
  },
  {
   "cell_type": "code",
   "execution_count": 3,
   "metadata": {
    "collapsed": true
   },
   "outputs": [],
   "source": [
    "import sys\n",
    "sys.path.append('../../source/')\n",
    "\n",
    "from Hedge import Hedge"
   ]
  },
  {
   "cell_type": "code",
   "execution_count": 4,
   "metadata": {
    "collapsed": true
   },
   "outputs": [],
   "source": [
    "from BetaUtils import beta_hedging_ret, get_beta\n",
    "from energy_functions import correlation, neg_returns, neg_sharpe, volatility"
   ]
  },
  {
   "cell_type": "code",
   "execution_count": 7,
   "metadata": {
    "collapsed": true
   },
   "outputs": [],
   "source": [
    "portfolios = []\n",
    "with open('./sim041102/portfolios.txt') as f:\n",
    "    for i,line in enumerate(f):\n",
    "        portfolios.append(line.split(',')[1:-1])"
   ]
  },
  {
   "cell_type": "code",
   "execution_count": 10,
   "metadata": {
    "collapsed": false
   },
   "outputs": [
    {
     "name": "stdout",
     "output_type": "stream",
     "text": [
      "['VSCP', 'FRME', 'CGNX', 'CTG', 'IVAC', 'MATR', 'FAST', 'FHCO', 'MEI', 'THC', 'IBKC', 'HNP', 'PAAS', 'KOPN', 'LEE', 'NSL', 'EVO', 'PBR', 'CMI', 'TKR', 'HL', 'CF', 'AEZS', 'BCBP', 'USAK', 'UCFC', 'WWW', 'OBAS', 'PTEN', 'MOSY', 'OSHC', 'WGL', 'NIO', 'PCBK', 'PPT', 'IBN', 'TOF', 'SNA', 'ESTE', 'ROK', 'GHI', 'CKEC', 'DIS', 'QQQ', 'MTOR', 'LOGI', 'HHS', 'NOM', 'AXDX', 'FPO']\n"
     ]
    }
   ],
   "source": [
    "print portfolios[0]"
   ]
  },
  {
   "cell_type": "code",
   "execution_count": 5,
   "metadata": {
    "collapsed": true
   },
   "outputs": [],
   "source": [
    "hedge = Hedge(stocksdir='../../data/all_stocks.csv', spydir='../../data/spy.csv', begindate='2008-10-01',enddate='2009-12-31')\n"
   ]
  },
  {
   "cell_type": "code",
   "execution_count": null,
   "metadata": {
    "collapsed": true
   },
   "outputs": [],
   "source": [
    "def rankCorr(hedge):\n",
    "    portRet = hedge.dollar_portfolio_sum_ret.values\n",
    "    corr_tuple_array = []\n",
    "\n",
    "    for stock in hedge.stockuniverse:\n",
    "        if stock not in hedge.portfolio:\n",
    "            s_ret = hedge.allstock_return[stock].values\n",
    "            assert len(portRet) ==len(s_ret)\n",
    "            corr = np.abs(np.corrcoef(portRet[1:], s_ret[1:]))[0,1]\n",
    "            corr_tuple_array.append((stock, corr))\n",
    "\n",
    "    return corr_tuple_array"
   ]
  },
  {
   "cell_type": "code",
   "execution_count": 11,
   "metadata": {
    "collapsed": true
   },
   "outputs": [],
   "source": [
    "hedge.portfolio = ['VSCP', 'FRME', 'CGNX', 'CTG', 'IVAC', 'MATR', 'FAST', 'FHCO', 'MEI', 'THC', 'IBKC', 'HNP', \n",
    "                   'PAAS', 'KOPN', 'LEE', 'NSL', 'EVO', 'PBR', 'CMI', 'TKR', 'HL', 'CF', 'AEZS', 'BCBP', 'USAK', \n",
    "                   'UCFC', 'WWW', 'OBAS', 'PTEN', 'MOSY', 'OSHC', 'WGL', 'NIO', 'PCBK', 'PPT', 'IBN', 'TOF', 'SNA', \n",
    "                   'ESTE', 'ROK', 'GHI', 'CKEC', 'DIS', 'QQQ', 'MTOR', 'LOGI', 'HHS', 'NOM', 'AXDX', 'FPO']"
   ]
  },
  {
   "cell_type": "code",
   "execution_count": 12,
   "metadata": {
    "collapsed": true
   },
   "outputs": [],
   "source": [
    "hedge.market = ['SFG', 'EMR', 'AKS', 'STR', 'CAT', 'ESV', 'KBR', 'APA', 'ITW',\n",
    "       'CRS', 'EQT', 'KMT', 'EXG', 'ZF', 'PH', 'JTD', 'CSCO', 'CAM', 'XEC',\n",
    "       'CEE', 'RDC', 'FFA', 'DRQ', 'EEA', 'PX', 'X', 'FLS', 'HON', 'JDD',\n",
    "       'GGG', 'TDW', 'WOOD', 'NFG', 'MT', 'AVY', 'EGN', 'EVT', 'EME',\n",
    "       'LECO', 'CW', 'FTI', 'MRO', 'SID', 'ROP', 'MLHR', 'SPN', 'ADRD',\n",
    "       'GF', 'MTX', 'ERF', 'OIS', 'ETO', 'L', 'SCCO', 'SEIC', 'BHP',\n",
    "       'NDSN', 'GLF', 'VALE', 'TS', 'LAQ', 'BBL', 'DOV', 'BBVA', 'APD',\n",
    "       'UNT', 'PNR', 'GGB', 'ABB', 'WMB', 'SAN', 'QTEC', 'GAM', 'GLQ',\n",
    "       'IFGL', 'USA', 'HSC', 'FOX', 'SE', 'QQXT', 'AAXJ', 'BBD', 'JCE',\n",
    "       'RPM', 'TY', 'PPG', 'DD', 'ADRA', 'ALB', 'FUL', 'QCLN', 'MLI',\n",
    "       'GLO', 'ADX', 'QQEW', 'ADRE', 'ACWX', 'ONEQ', 'ACWI', 'PRFZ']"
   ]
  },
  {
   "cell_type": "code",
   "execution_count": null,
   "metadata": {
    "collapsed": true
   },
   "outputs": [],
   "source": []
  },
  {
   "cell_type": "code",
   "execution_count": 25,
   "metadata": {
    "collapsed": true
   },
   "outputs": [],
   "source": [
    "def plot_hedge(hedge):\n",
    "    \n",
    "    _, betas_byrank = get_beta(hedge.dollar_portfolio_sum_ret, hedge.dollar_market_sum_ret)\n",
    "\n",
    "    beta_hedging_returns_byrank = beta_hedging_ret(betas_byrank[1:],hedge.dollar_portfolio_sum_ret[60+1:],\n",
    "                                                   hedge.dollar_market_sum_ret[60+1:])\n",
    "    \n",
    "    _, betas_spy = get_beta(hedge.dollar_portfolio_sum_ret, hedge.spy.pct_change())\n",
    "    \n",
    "    beta_hedging_returns_spy = beta_hedging_ret(betas_spy[1:],hedge.dollar_portfolio_sum_ret[60+1:],\n",
    "                                                hedge.dollar_market_sum_ret[60+1:])\n",
    "    \n",
    "    \n",
    "    func = {'sharpe': lambda x,y: -neg_sharpe(x,y), 'correlation': correlation, 'volatility': volatility, 'returns': lambda x,y: -neg_returns(x,y)}\n",
    "    \n",
    "    for metric in ['sharpe','correlation','volatility','returns']:\n",
    "        market_hedged = func[metric](beta_hedging_returns_byrank, hedge.dollar_market_sum_ret[61:])\n",
    "        spy_hedged = func[metric](beta_hedging_returns_spy, hedge.dollar_market_sum_ret[61:])\n",
    "        unhedged = func[metric](hedge.dollar_portfolio_sum_ret[1:], hedge.dollar_market_sum_ret[1:])\n",
    "\n",
    "        market_mean = np.mean(market_hedged)\n",
    "        spy_mean = np.mean(spy_hedged)\n",
    "        un_mean = np.mean(unhedged)\n",
    "\n",
    "        market_std = 0\n",
    "        spy_std = 0\n",
    "        un_std = 0\n",
    "\n",
    "\n",
    "\n",
    "        plt.bar([0,1,2],[market_mean, spy_mean, un_mean], color=['r','g','b'],yerr=[market_std,spy_std,un_std])\n",
    "        plt.xticks(np.array([0,1,2]) + 0.4, ('Market_hedged', 'SPY_hedged', 'Unhedged'), fontsize = 16)\n",
    "\n",
    "        plt.title(metric.capitalize(), fontsize=20)\n",
    "        plt.tight_layout()\n",
    "        plt.show()"
   ]
  },
  {
   "cell_type": "code",
   "execution_count": 26,
   "metadata": {
    "collapsed": false
   },
   "outputs": [
    {
     "data": {
      "image/png": "[encoded data removed]",
      "text/plain": [
       "<matplotlib.figure.Figure at 0x1137d4550>"
      ]
     },
     "metadata": {},
     "output_type": "display_data"
    },
    {
     "data": {
      "image/png": "[encoded data removed]",
      "text/plain": [
       "<matplotlib.figure.Figure at 0x115645210>"
      ]
     },
     "metadata": {},
     "output_type": "display_data"
    },
    {
     "data": {
      "image/png": "[encoded data removed]",
      "text/plain": [
       "<matplotlib.figure.Figure at 0x119d77b10>"
      ]
     },
     "metadata": {},
     "output_type": "display_data"
    },
    {
     "data": {
      "image/png": "[encoded data removed]",
      "text/plain": [
       "<matplotlib.figure.Figure at 0x1137b92d0>"
      ]
     },
     "metadata": {},
     "output_type": "display_data"
    }
   ],
   "source": [
    "plot_hedge(hedge)"
   ]
  },
  {
   "cell_type": "code",
   "execution_count": null,
   "metadata": {
    "collapsed": true
   },
   "outputs": [],
   "source": []
  }
 ],
 "metadata": {
  "kernelspec": {
   "display_name": "Python 2",
   "language": "python",
   "name": "python2"
  },
  "language_info": {
   "codemirror_mode": {
    "name": "ipython",
    "version": 2
   },
   "file_extension": ".py",
   "mimetype": "text/x-python",
   "name": "python",
   "nbconvert_exporter": "python",
   "pygments_lexer": "ipython2",
   "version": "2.7.11"
  }
 },
 "nbformat": 4,
 "nbformat_minor": 0
}
