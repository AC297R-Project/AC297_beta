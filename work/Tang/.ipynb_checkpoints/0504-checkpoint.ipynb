{
 "cells": [
  {
   "cell_type": "code",
   "execution_count": 1,
   "metadata": {
    "collapsed": true
   },
   "outputs": [],
   "source": [
    "import numpy as np\n",
    "import matplotlib.pyplot as plt\n",
    "%matplotlib inline"
   ]
  },
  {
   "cell_type": "code",
   "execution_count": 2,
   "metadata": {
    "collapsed": true
   },
   "outputs": [],
   "source": [
    "import pandas as pd\n",
    "import sys\n",
    "sys.path.append('../../source/')\n",
    "\n",
    "from Hedge import Hedge\n",
    "from BetaUtils import beta_hedging_ret, get_beta\n",
    "from energy_functions import correlation, neg_returns, neg_sharpe, volatility\n"
   ]
  },
  {
   "cell_type": "code",
   "execution_count": null,
   "metadata": {
    "collapsed": true
   },
   "outputs": [],
   "source": [
    "portfolios = []\n",
    "with open('./portfolios_quarterly.txt') as f:\n",
    "    for i,line in enumerate(f):\n",
    "        l = line.split(',')\n",
    "        portfolios.append(l[1:-1])\n",
    "        portfolios[-1].append(l[-1][:-1])"
   ]
  },
  {
   "cell_type": "code",
   "execution_count": 14,
   "metadata": {
    "collapsed": false
   },
   "outputs": [
    {
     "data": {
      "text/plain": [
       "4000"
      ]
     },
     "execution_count": 14,
     "metadata": {},
     "output_type": "execute_result"
    }
   ],
   "source": [
    "len(portfolios)"
   ]
  },
  {
   "cell_type": "code",
   "execution_count": null,
   "metadata": {
    "collapsed": true
   },
   "outputs": [],
   "source": []
  },
  {
   "cell_type": "code",
   "execution_count": 15,
   "metadata": {
    "collapsed": true
   },
   "outputs": [],
   "source": [
    "hedge = Hedge(stocksdir='../../data/all_stocks.csv', spydir='../../data/spy.csv', begindate='2005-01-01',enddate='2006-03-31')"
   ]
  },
  {
   "cell_type": "code",
   "execution_count": 16,
   "metadata": {
    "collapsed": true
   },
   "outputs": [],
   "source": [
    "def rankCorr(hedge):\n",
    "    portRet = hedge.dollar_portfolio_sum_ret.values\n",
    "    \n",
    "    corr_tuple_array = []\n",
    "    \n",
    "    for stock in hedge.stockuniverse:\n",
    "        if stock not in hedge.portfolio:\n",
    "            s_ret = hedge.allstock_return[stock].values\n",
    "            assert len(portRet) ==len(s_ret)\n",
    "            corr = np.abs(np.corrcoef(portRet[1:], s_ret[1:]))[0,1]\n",
    "            corr_tuple_array.append((stock, corr))\n",
    "            \n",
    "    return corr_tuple_array"
   ]
  },
  {
   "cell_type": "code",
   "execution_count": 17,
   "metadata": {
    "collapsed": true
   },
   "outputs": [],
   "source": [
    "hedge.portfolio = portfolios[0]"
   ]
  },
  {
   "cell_type": "code",
   "execution_count": 18,
   "metadata": {
    "collapsed": false
   },
   "outputs": [
    {
     "name": "stdout",
     "output_type": "stream",
     "text": [
      "CPU times: user 1min 49s, sys: 20.6 s, total: 2min 10s\n",
      "Wall time: 1min 40s\n"
     ]
    }
   ],
   "source": [
    "%%time\n",
    "corr_dict_res = rankCorr(hedge)"
   ]
  },
  {
   "cell_type": "code",
   "execution_count": 20,
   "metadata": {
    "collapsed": false
   },
   "outputs": [],
   "source": [
    "sort_ind = np.array([i[1] for i in corr_dict_res]).argsort()"
   ]
  },
  {
   "cell_type": "code",
   "execution_count": 22,
   "metadata": {
    "collapsed": false
   },
   "outputs": [],
   "source": [
    "highcorrmarket = np.array(corr_dict_res)[sort_ind][:,0]"
   ]
  },
  {
   "cell_type": "code",
   "execution_count": 29,
   "metadata": {
    "collapsed": false
   },
   "outputs": [
    {
     "name": "stdout",
     "output_type": "stream",
     "text": [
      "MOS , KEP , UNH , SNH , CNOB , DVAX , HTLF , SCX , CTG , IP , KATE , OPXA , PHM , GPM , GENC , CHEV , OMC , EIP , AVNW , RFI , XL , CMN , CALM , SNHY , TUP , DKS , QBAK , FINL , CSWC , HUM , HYF , CCC , CSH , NCA , PFIN , HEI , PUK , QUIK , SRDX , GROW , FAM , URI , NOM , CERN , CFFI , TRT , URBN , LFC , ESCA , RTIX ,\n"
     ]
    }
   ],
   "source": [
    "for i in portfolios[0]:\n",
    "    print i, ',',"
   ]
  },
  {
   "cell_type": "code",
   "execution_count": 27,
   "metadata": {
    "collapsed": false
   },
   "outputs": [
    {
     "name": "stdout",
     "output_type": "stream",
     "text": [
      "WSCI , MCI , MXC , AXGN , CXE , ELLO , STRM , NEON , INTT , PRCP , SGRP , HDSN , OPOF , SBW , EVI , NTIP , GYB , VCF , CRDS , INSM ,\n"
     ]
    }
   ],
   "source": [
    "for i in highcorrmarket[:20]:\n",
    "    print i, ',',"
   ]
  },
  {
   "cell_type": "markdown",
   "metadata": {},
   "source": [
    "---\n",
    "Time series analysis"
   ]
  },
  {
   "cell_type": "code",
   "execution_count": null,
   "metadata": {
    "collapsed": true
   },
   "outputs": [],
   "source": [
    "hedge.portfolio = "
   ]
  },
  {
   "cell_type": "code",
   "execution_count": 44,
   "metadata": {
    "collapsed": true
   },
   "outputs": [],
   "source": [
    "def changestyle(ls):\n",
    "    n = 0\n",
    "    for l in ls:\n",
    "        print n,\n",
    "        for i in l:\n",
    "            print i,',',\n",
    "        print ''\n",
    "        n += 1"
   ]
  },
  {
   "cell_type": "code",
   "execution_count": 45,
   "metadata": {
    "collapsed": false
   },
   "outputs": [
    {
     "ename": "UnboundLocalError",
     "evalue": "local variable 'i' referenced before assignment",
     "output_type": "error",
     "traceback": [
      "\u001b[0;31m---------------------------------------------------------------------------\u001b[0m",
      "\u001b[0;31mUnboundLocalError\u001b[0m                         Traceback (most recent call last)",
      "\u001b[0;32m<ipython-input-45-77e269e22920>\u001b[0m in \u001b[0;36m<module>\u001b[0;34m()\u001b[0m\n\u001b[1;32m      1\u001b[0m changestyle(\n\u001b[0;32m----> 2\u001b[0;31m \u001b[0;34m[\u001b[0m\u001b[0;34m'MCHP'\u001b[0m\u001b[0;34m,\u001b[0m \u001b[0;34m'SNX'\u001b[0m\u001b[0;34m,\u001b[0m \u001b[0;34m'BLKB'\u001b[0m\u001b[0;34m,\u001b[0m \u001b[0;34m'AUO'\u001b[0m\u001b[0;34m,\u001b[0m \u001b[0;34m'YOKU'\u001b[0m\u001b[0;34m,\u001b[0m \u001b[0;34m'ULTI'\u001b[0m\u001b[0;34m,\u001b[0m \u001b[0;34m'AVGO'\u001b[0m\u001b[0;34m,\u001b[0m \u001b[0;34m'ETN'\u001b[0m\u001b[0;34m,\u001b[0m \u001b[0;34m'AL'\u001b[0m\u001b[0;34m,\u001b[0m \u001b[0;34m'SNPS'\u001b[0m\u001b[0;34m,\u001b[0m \u001b[0;34m'SPIL'\u001b[0m\u001b[0;34m,\u001b[0m \u001b[0;34m'N'\u001b[0m\u001b[0;34m,\u001b[0m \u001b[0;34m'LRCX'\u001b[0m\u001b[0;34m,\u001b[0m \u001b[0;34m'AAPL'\u001b[0m\u001b[0;34m,\u001b[0m \u001b[0;34m'JKHY'\u001b[0m\u001b[0;34m,\u001b[0m \u001b[0;34m'NUAN'\u001b[0m\u001b[0;34m,\u001b[0m \u001b[0;34m'FFIV'\u001b[0m\u001b[0;34m,\u001b[0m \u001b[0;34m'INTU'\u001b[0m\u001b[0;34m,\u001b[0m \u001b[0;34m'NICE'\u001b[0m\u001b[0;34m,\u001b[0m \u001b[0;34m'CHKP'\u001b[0m\u001b[0;34m,\u001b[0m \u001b[0;34m'CDNS'\u001b[0m\u001b[0;34m]\u001b[0m\u001b[0;34m,\u001b[0m\u001b[0;34m\u001b[0m\u001b[0m\n\u001b[0m\u001b[1;32m      3\u001b[0m )\n",
      "\u001b[0;32m<ipython-input-44-49f6fcd261b1>\u001b[0m in \u001b[0;36mchangestyle\u001b[0;34m(ls)\u001b[0m\n\u001b[1;32m      2\u001b[0m     \u001b[0mn\u001b[0m \u001b[0;34m=\u001b[0m \u001b[0;36m0\u001b[0m\u001b[0;34m\u001b[0m\u001b[0m\n\u001b[1;32m      3\u001b[0m     \u001b[0;32mfor\u001b[0m \u001b[0ml\u001b[0m \u001b[0;32min\u001b[0m \u001b[0mls\u001b[0m\u001b[0;34m:\u001b[0m\u001b[0;34m\u001b[0m\u001b[0m\n\u001b[0;32m----> 4\u001b[0;31m         \u001b[0;32mprint\u001b[0m \u001b[0mi\u001b[0m\u001b[0;34m,\u001b[0m\u001b[0;34m\u001b[0m\u001b[0m\n\u001b[0m\u001b[1;32m      5\u001b[0m         \u001b[0;32mfor\u001b[0m \u001b[0mi\u001b[0m \u001b[0;32min\u001b[0m \u001b[0ml\u001b[0m\u001b[0;34m:\u001b[0m\u001b[0;34m\u001b[0m\u001b[0m\n\u001b[1;32m      6\u001b[0m             \u001b[0;32mprint\u001b[0m \u001b[0mi\u001b[0m\u001b[0;34m,\u001b[0m\u001b[0;34m','\u001b[0m\u001b[0;34m,\u001b[0m\u001b[0;34m\u001b[0m\u001b[0m\n",
      "\u001b[0;31mUnboundLocalError\u001b[0m: local variable 'i' referenced before assignment"
     ]
    }
   ],
   "source": [
    "changestyle(\n",
    "['MCHP', 'SNX', 'BLKB', 'AUO', 'YOKU', 'ULTI', 'AVGO', 'ETN', 'AL', 'SNPS', 'SPIL', 'N', 'LRCX', 'AAPL', 'JKHY', 'NUAN', 'FFIV', 'INTU', 'NICE', 'CHKP', 'CDNS'],\n",
    ")"
   ]
  },
  {
   "cell_type": "code",
   "execution_count": null,
   "metadata": {
    "collapsed": true
   },
   "outputs": [],
   "source": []
  }
 ],
 "metadata": {
  "kernelspec": {
   "display_name": "Python 2",
   "language": "python",
   "name": "python2"
  },
  "language_info": {
   "codemirror_mode": {
    "name": "ipython",
    "version": 2
   },
   "file_extension": ".py",
   "mimetype": "text/x-python",
   "name": "python",
   "nbconvert_exporter": "python",
   "pygments_lexer": "ipython2",
   "version": "2.7.11"
  }
 },
 "nbformat": 4,
 "nbformat_minor": 0
}
