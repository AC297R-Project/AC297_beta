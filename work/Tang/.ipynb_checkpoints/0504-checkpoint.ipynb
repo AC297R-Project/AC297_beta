{
 "cells": [
  {
   "cell_type": "code",
   "execution_count": 1,
   "metadata": {
    "collapsed": true
   },
   "outputs": [],
   "source": [
    "import numpy as np\n",
    "import matplotlib.pyplot as plt\n",
    "%matplotlib inline"
   ]
  },
  {
   "cell_type": "code",
   "execution_count": 2,
   "metadata": {
    "collapsed": true
   },
   "outputs": [],
   "source": [
    "import pandas as pd"
   ]
  },
  {
   "cell_type": "code",
   "execution_count": 3,
   "metadata": {
    "collapsed": true
   },
   "outputs": [],
   "source": [
    "import sys\n",
    "sys.path.append('../../source/')\n",
    "\n",
    "from Hedge import Hedge"
   ]
  },
  {
   "cell_type": "code",
   "execution_count": 4,
   "metadata": {
    "collapsed": true
   },
   "outputs": [],
   "source": [
    "from BetaUtils import beta_hedging_ret, get_beta\n",
    "from energy_functions import correlation, neg_returns, neg_sharpe, volatility"
   ]
  },
  {
   "cell_type": "code",
   "execution_count": 8,
   "metadata": {
    "collapsed": true
   },
   "outputs": [],
   "source": [
    "portfolios = []\n",
    "with open('./portfolios_quarterly.txt') as f:\n",
    "    for i,line in enumerate(f):\n",
    "        l = line.split(',')\n",
    "        portfolios.append(l[1:-1])\n",
    "        portfolios[-1].append()"
   ]
  },
  {
   "cell_type": "code",
   "execution_count": 9,
   "metadata": {
    "collapsed": false
   },
   "outputs": [
    {
     "data": {
      "text/plain": [
       "['MOS',\n",
       " 'KEP',\n",
       " 'UNH',\n",
       " 'SNH',\n",
       " 'CNOB',\n",
       " 'DVAX',\n",
       " 'HTLF',\n",
       " 'SCX',\n",
       " 'CTG',\n",
       " 'IP',\n",
       " 'KATE',\n",
       " 'OPXA',\n",
       " 'PHM',\n",
       " 'GPM',\n",
       " 'GENC',\n",
       " 'CHEV',\n",
       " 'OMC',\n",
       " 'EIP',\n",
       " 'AVNW',\n",
       " 'RFI',\n",
       " 'XL',\n",
       " 'CMN',\n",
       " 'CALM',\n",
       " 'SNHY',\n",
       " 'TUP',\n",
       " 'DKS',\n",
       " 'QBAK',\n",
       " 'FINL',\n",
       " 'CSWC',\n",
       " 'HUM',\n",
       " 'HYF',\n",
       " 'CCC',\n",
       " 'CSH',\n",
       " 'NCA',\n",
       " 'PFIN',\n",
       " 'HEI',\n",
       " 'PUK',\n",
       " 'QUIK',\n",
       " 'SRDX',\n",
       " 'GROW',\n",
       " 'FAM',\n",
       " 'URI',\n",
       " 'NOM',\n",
       " 'CERN',\n",
       " 'CFFI',\n",
       " 'TRT',\n",
       " 'URBN',\n",
       " 'LFC',\n",
       " 'ESCA',\n",
       " 'RTIX\\n']"
      ]
     },
     "execution_count": 9,
     "metadata": {},
     "output_type": "execute_result"
    }
   ],
   "source": [
    "portfolios[0]"
   ]
  },
  {
   "cell_type": "code",
   "execution_count": null,
   "metadata": {
    "collapsed": true
   },
   "outputs": [],
   "source": []
  }
 ],
 "metadata": {
  "kernelspec": {
   "display_name": "Python 2",
   "language": "python",
   "name": "python2"
  },
  "language_info": {
   "codemirror_mode": {
    "name": "ipython",
    "version": 2
   },
   "file_extension": ".py",
   "mimetype": "text/x-python",
   "name": "python",
   "nbconvert_exporter": "python",
   "pygments_lexer": "ipython2",
   "version": "2.7.11"
  }
 },
 "nbformat": 4,
 "nbformat_minor": 0
}
