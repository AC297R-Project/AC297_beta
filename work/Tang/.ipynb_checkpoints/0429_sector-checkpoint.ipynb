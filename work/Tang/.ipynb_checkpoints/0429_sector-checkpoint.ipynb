{
 "cells": [
  {
   "cell_type": "code",
   "execution_count": 1,
   "metadata": {
    "collapsed": true
   },
   "outputs": [],
   "source": [
    "from StockDescription import *\n",
    "from Hedge import Hedge\n",
    " "
   ]
  },
  {
   "cell_type": "code",
   "execution_count": 2,
   "metadata": {
    "collapsed": true
   },
   "outputs": [],
   "source": [
    "import sys\n",
    "sys.path.append('../../source/')"
   ]
  },
  {
   "cell_type": "code",
   "execution_count": 3,
   "metadata": {
    "collapsed": true
   },
   "outputs": [],
   "source": [
    "\n",
    "import numpy as np\n",
    "import pandas as pd"
   ]
  },
  {
   "cell_type": "code",
   "execution_count": 4,
   "metadata": {
    "collapsed": true
   },
   "outputs": [],
   "source": [
    "stockuniverse = getStockUniverse()"
   ]
  },
  {
   "cell_type": "code",
   "execution_count": 37,
   "metadata": {
    "collapsed": false
   },
   "outputs": [
    {
     "data": {
      "text/html": [
       "<div>\n",
       "<table border=\"1\" class=\"dataframe\">\n",
       "  <thead>\n",
       "    <tr style=\"text-align: right;\">\n",
       "      <th></th>\n",
       "      <th>Symbol</th>\n",
       "      <th>Name</th>\n",
       "      <th>LastSale</th>\n",
       "      <th>MarketCap</th>\n",
       "      <th>IPOyear</th>\n",
       "      <th>Sector</th>\n",
       "      <th>industry</th>\n",
       "      <th>Summary Quote</th>\n",
       "      <th>Market</th>\n",
       "    </tr>\n",
       "  </thead>\n",
       "  <tbody>\n",
       "    <tr>\n",
       "      <th>3</th>\n",
       "      <td>XOM</td>\n",
       "      <td>Exxon Mobil Corporation</td>\n",
       "      <td>81.75</td>\n",
       "      <td>340320</td>\n",
       "      <td>n/a</td>\n",
       "      <td>Energy</td>\n",
       "      <td>Integrated oil Companies</td>\n",
       "      <td>http://www.nasdaq.com/symbol/xom</td>\n",
       "      <td>NYSE</td>\n",
       "    </tr>\n",
       "    <tr>\n",
       "      <th>5</th>\n",
       "      <td>GE</td>\n",
       "      <td>General Electric Company</td>\n",
       "      <td>29.39</td>\n",
       "      <td>297110</td>\n",
       "      <td>n/a</td>\n",
       "      <td>Energy</td>\n",
       "      <td>Consumer Electronics/Appliances</td>\n",
       "      <td>http://www.nasdaq.com/symbol/ge</td>\n",
       "      <td>NYSE</td>\n",
       "    </tr>\n",
       "    <tr>\n",
       "      <th>23</th>\n",
       "      <td>CVX</td>\n",
       "      <td>Chevron Corporation</td>\n",
       "      <td>84.35</td>\n",
       "      <td>158750</td>\n",
       "      <td>n/a</td>\n",
       "      <td>Energy</td>\n",
       "      <td>Integrated oil Companies</td>\n",
       "      <td>http://www.nasdaq.com/symbol/cvx</td>\n",
       "      <td>NYSE</td>\n",
       "    </tr>\n",
       "    <tr>\n",
       "      <th>40</th>\n",
       "      <td>PTR</td>\n",
       "      <td>PetroChina Company Limited</td>\n",
       "      <td>66.32</td>\n",
       "      <td>121380</td>\n",
       "      <td>n/a</td>\n",
       "      <td>Energy</td>\n",
       "      <td>Oil &amp; Gas Production</td>\n",
       "      <td>http://www.nasdaq.com/symbol/ptr</td>\n",
       "      <td>NYSE</td>\n",
       "    </tr>\n",
       "    <tr>\n",
       "      <th>45</th>\n",
       "      <td>TOT</td>\n",
       "      <td>TotalFinaElf, S.A.</td>\n",
       "      <td>44.71</td>\n",
       "      <td>107980</td>\n",
       "      <td>n/a</td>\n",
       "      <td>Energy</td>\n",
       "      <td>Oil &amp; Gas Production</td>\n",
       "      <td>http://www.nasdaq.com/symbol/tot</td>\n",
       "      <td>NYSE</td>\n",
       "    </tr>\n",
       "    <tr>\n",
       "      <th>58</th>\n",
       "      <td>SLB</td>\n",
       "      <td>Schlumberger N.V.</td>\n",
       "      <td>72.47</td>\n",
       "      <td>91050</td>\n",
       "      <td>n/a</td>\n",
       "      <td>Energy</td>\n",
       "      <td>Oilfield Services/Equipment</td>\n",
       "      <td>http://www.nasdaq.com/symbol/slb</td>\n",
       "      <td>NYSE</td>\n",
       "    </tr>\n",
       "    <tr>\n",
       "      <th>60</th>\n",
       "      <td>BP</td>\n",
       "      <td>BP p.l.c.</td>\n",
       "      <td>29</td>\n",
       "      <td>88690</td>\n",
       "      <td>n/a</td>\n",
       "      <td>Energy</td>\n",
       "      <td>Integrated oil Companies</td>\n",
       "      <td>http://www.nasdaq.com/symbol/bp</td>\n",
       "      <td>NYSE</td>\n",
       "    </tr>\n",
       "    <tr>\n",
       "      <th>82</th>\n",
       "      <td>SNP</td>\n",
       "      <td>China Petroleum &amp; Chemical Corporation</td>\n",
       "      <td>57.02</td>\n",
       "      <td>67440</td>\n",
       "      <td>n/a</td>\n",
       "      <td>Energy</td>\n",
       "      <td>Integrated oil Companies</td>\n",
       "      <td>http://www.nasdaq.com/symbol/snp</td>\n",
       "      <td>NYSE</td>\n",
       "    </tr>\n",
       "    <tr>\n",
       "      <th>107</th>\n",
       "      <td>OXY</td>\n",
       "      <td>Occidental Petroleum Corporation</td>\n",
       "      <td>69.8</td>\n",
       "      <td>53310</td>\n",
       "      <td>n/a</td>\n",
       "      <td>Energy</td>\n",
       "      <td>Oil &amp; Gas Production</td>\n",
       "      <td>http://www.nasdaq.com/symbol/oxy</td>\n",
       "      <td>NYSE</td>\n",
       "    </tr>\n",
       "    <tr>\n",
       "      <th>109</th>\n",
       "      <td>BBL</td>\n",
       "      <td>BHP Billiton plc</td>\n",
       "      <td>19.8</td>\n",
       "      <td>52680</td>\n",
       "      <td>n/a</td>\n",
       "      <td>Energy</td>\n",
       "      <td>Coal Mining</td>\n",
       "      <td>http://www.nasdaq.com/symbol/bbl</td>\n",
       "      <td>NYSE</td>\n",
       "    </tr>\n",
       "  </tbody>\n",
       "</table>\n",
       "</div>"
      ],
      "text/plain": [
       "    Symbol                                    Name LastSale  MarketCap  \\\n",
       "3      XOM                 Exxon Mobil Corporation    81.75     340320   \n",
       "5       GE                General Electric Company    29.39     297110   \n",
       "23     CVX                     Chevron Corporation    84.35     158750   \n",
       "40     PTR              PetroChina Company Limited    66.32     121380   \n",
       "45     TOT                      TotalFinaElf, S.A.    44.71     107980   \n",
       "58     SLB                       Schlumberger N.V.    72.47      91050   \n",
       "60      BP                               BP p.l.c.       29      88690   \n",
       "82     SNP  China Petroleum & Chemical Corporation    57.02      67440   \n",
       "107    OXY        Occidental Petroleum Corporation     69.8      53310   \n",
       "109    BBL                        BHP Billiton plc     19.8      52680   \n",
       "\n",
       "    IPOyear  Sector                         industry  \\\n",
       "3       n/a  Energy         Integrated oil Companies   \n",
       "5       n/a  Energy  Consumer Electronics/Appliances   \n",
       "23      n/a  Energy         Integrated oil Companies   \n",
       "40      n/a  Energy             Oil & Gas Production   \n",
       "45      n/a  Energy             Oil & Gas Production   \n",
       "58      n/a  Energy      Oilfield Services/Equipment   \n",
       "60      n/a  Energy         Integrated oil Companies   \n",
       "82      n/a  Energy         Integrated oil Companies   \n",
       "107     n/a  Energy             Oil & Gas Production   \n",
       "109     n/a  Energy                      Coal Mining   \n",
       "\n",
       "                        Summary Quote Market  \n",
       "3    http://www.nasdaq.com/symbol/xom   NYSE  \n",
       "5     http://www.nasdaq.com/symbol/ge   NYSE  \n",
       "23   http://www.nasdaq.com/symbol/cvx   NYSE  \n",
       "40   http://www.nasdaq.com/symbol/ptr   NYSE  \n",
       "45   http://www.nasdaq.com/symbol/tot   NYSE  \n",
       "58   http://www.nasdaq.com/symbol/slb   NYSE  \n",
       "60    http://www.nasdaq.com/symbol/bp   NYSE  \n",
       "82   http://www.nasdaq.com/symbol/snp   NYSE  \n",
       "107  http://www.nasdaq.com/symbol/oxy   NYSE  \n",
       "109  http://www.nasdaq.com/symbol/bbl   NYSE  "
      ]
     },
     "execution_count": 37,
     "metadata": {},
     "output_type": "execute_result"
    }
   ],
   "source": [
    "stockuniverse[stockuniverse['Sector']=='Energy'].head(10)"
   ]
  },
  {
   "cell_type": "code",
   "execution_count": 6,
   "metadata": {
    "collapsed": false
   },
   "outputs": [
    {
     "name": "stdout",
     "output_type": "stream",
     "text": [
      "*******Warning: insufficient candidates, reduce number of samples\n",
      "Top 5 rows of selected portfolio:\n",
      "     Symbol                            Name  MarketCap      Sector  \\\n",
      "1381   MPWR  Monolithic Power Systems, Inc.       2320  Technology   \n",
      "458      CA                         CA Inc.      12240  Technology   \n",
      "55      DCM                 NTT DOCOMO, Inc      94710  Technology   \n",
      "232     WIT                   Wipro Limited      27730  Technology   \n",
      "1380   SFUN         SouFun Holdings Limited       2320  Technology   \n",
      "\n",
      "                                               industry  Market  \n",
      "1381                                     Semiconductors  NASDAQ  \n",
      "458             Computer Software: Prepackaged Software  NASDAQ  \n",
      "55    Radio And Television Broadcasting And Communic...    NYSE  \n",
      "232                                        EDP Services    NYSE  \n",
      "1380                                       EDP Services    NYSE  \n",
      "*******Warning: insufficient candidates, reduce number of samples\n",
      "Top 5 rows of selected portfolio:\n",
      "     Symbol                          Name  MarketCap             Sector  \\\n",
      "927     WSO                  Watsco, Inc.       4550  Consumer Durables   \n",
      "431     MHK       Mohawk Industries, Inc.      13200  Consumer Durables   \n",
      "1232    DLX            Deluxe Corporation       2810  Consumer Durables   \n",
      "576     AYI             Acuity Brands Inc       9140  Consumer Durables   \n",
      "1419    CTB  Cooper Tire & Rubber Company       2220  Consumer Durables   \n",
      "\n",
      "                             industry Market  \n",
      "927   Industrial Machinery/Components   NYSE  \n",
      "431                  Home Furnishings   NYSE  \n",
      "1232                       Publishing   NYSE  \n",
      "576                 Building Products   NYSE  \n",
      "1419           Automotive Aftermarket   NYSE  \n",
      "*******Warning: insufficient candidates, reduce number of samples\n",
      "Top 5 rows of selected portfolio:\n",
      "     Symbol                               Name  MarketCap  Sector  \\\n",
      "445     CAM  Cameron International Corporation      12660  Energy   \n",
      "586     DVN           Devon Energy Corporation       8950  Energy   \n",
      "5        GE           General Electric Company     297110  Energy   \n",
      "1282     NS                 Nustar Energy L.P.       2630  Energy   \n",
      "665     IEP             Icahn Enterprises L.P.       7400  Energy   \n",
      "\n",
      "                             industry  Market  \n",
      "445                Metal Fabrications    NYSE  \n",
      "586              Oil & Gas Production    NYSE  \n",
      "5     Consumer Electronics/Appliances    NYSE  \n",
      "1282         Natural Gas Distribution    NYSE  \n",
      "665          Integrated oil Companies  NASDAQ  \n",
      "*******Warning: insufficient candidates, reduce number of samples\n",
      "Top 5 rows of selected portfolio:\n",
      "     Symbol                     Name  MarketCap       Sector  \\\n",
      "423    HSIC       Henry Schein, Inc.      13730  Health Care   \n",
      "1131    HLS  HealthSouth Corporation       3200  Health Care   \n",
      "1092   AMSG             Amsurg Corp.       3420  Health Care   \n",
      "74      AZN          Astrazeneca PLC      74250  Health Care   \n",
      "892     HNT          Health Net Inc.       4830  Health Care   \n",
      "\n",
      "                         industry  Market  \n",
      "423          Medical Specialities  NASDAQ  \n",
      "1131  Hospital/Nursing Management    NYSE  \n",
      "1092     Medical/Nursing Services  NASDAQ  \n",
      "74          Major Pharmaceuticals    NYSE  \n",
      "892          Medical Specialities    NYSE  \n"
     ]
    }
   ],
   "source": [
    "\n",
    "techs = getSamplePortfolio(stockuniverse,sector=['Technology'])\n",
    "consumer_durable = getSamplePortfolio(stockuniverse,sector=['Consumer Durables'])\n",
    "energy = getSamplePortfolio(stockuniverse, sector=['Energy'])\n",
    "health_care = getSamplePortfolio(stockuniverse, sector=['Health Care'])"
   ]
  },
  {
   "cell_type": "markdown",
   "metadata": {},
   "source": [
    "---Consumer durables--"
   ]
  },
  {
   "cell_type": "code",
   "execution_count": 25,
   "metadata": {
    "collapsed": false
   },
   "outputs": [],
   "source": [
    "hedge = Hedge(begindate='2013-01-01', enddate='2014-12-31',fromlist=consumer_durable)"
   ]
  },
  {
   "cell_type": "code",
   "execution_count": 11,
   "metadata": {
    "collapsed": false
   },
   "outputs": [
    {
     "name": "stdout",
     "output_type": "stream",
     "text": [
      "ASH , JAH , LEG , AVY , CCK , NJ , GT , OI , KAR , PKG ,\n"
     ]
    }
   ],
   "source": [
    "for i in np.random.choice(hedge.allstockdf.columns, size=10):\n",
    "    print i,',',"
   ]
  },
  {
   "cell_type": "code",
   "execution_count": 12,
   "metadata": {
    "collapsed": false
   },
   "outputs": [
    {
     "name": "stdout",
     "output_type": "stream",
     "text": [
      "POOL , BMS , CTB , POOL , BEAV , ABB , PKG , OI , KMX , NJ ,\n"
     ]
    }
   ],
   "source": [
    "for i in np.random.choice(hedge.allstockdf.columns, size=10):\n",
    "    print i,',',"
   ]
  },
  {
   "cell_type": "code",
   "execution_count": 13,
   "metadata": {
    "collapsed": false
   },
   "outputs": [
    {
     "name": "stdout",
     "output_type": "stream",
     "text": [
      "GPK , GNRC , AME , AN , GNRC , HELE , AYI , JAH , WSO , GPK ,\n"
     ]
    }
   ],
   "source": [
    "for i in np.random.choice(hedge.allstockdf.columns, size=10):\n",
    "    print i,',',"
   ]
  },
  {
   "cell_type": "code",
   "execution_count": 14,
   "metadata": {
    "collapsed": false
   },
   "outputs": [
    {
     "name": "stdout",
     "output_type": "stream",
     "text": [
      "CASY , CLX , CCK , POOL , HELE , KMB , NJ , POOL , AYI , CCK ,\n"
     ]
    }
   ],
   "source": [
    "for i in np.random.choice(hedge.allstockdf.columns, size=10):\n",
    "    print i,',',"
   ]
  },
  {
   "cell_type": "code",
   "execution_count": 15,
   "metadata": {
    "collapsed": false
   },
   "outputs": [
    {
     "name": "stdout",
     "output_type": "stream",
     "text": [
      "BLL , GT , BMS , CPRT , GNRC , SON , WHR , GNRC , TPX , JCI ,\n"
     ]
    }
   ],
   "source": [
    "for i in np.random.choice(hedge.allstockdf.columns, size=10):\n",
    "    print i,',',"
   ]
  },
  {
   "cell_type": "code",
   "execution_count": 17,
   "metadata": {
    "collapsed": false
   },
   "outputs": [
    {
     "data": {
      "text/plain": [
       "45"
      ]
     },
     "execution_count": 17,
     "metadata": {},
     "output_type": "execute_result"
    }
   ],
   "source": [
    "len(consumer_durable)"
   ]
  },
  {
   "cell_type": "code",
   "execution_count": 27,
   "metadata": {
    "collapsed": false
   },
   "outputs": [
    {
     "data": {
      "text/plain": [
       "40"
      ]
     },
     "execution_count": 27,
     "metadata": {},
     "output_type": "execute_result"
    }
   ],
   "source": [
    "len(hedge.allstockdf.columns)"
   ]
  },
  {
   "cell_type": "markdown",
   "metadata": {},
   "source": [
    "##Health Care"
   ]
  },
  {
   "cell_type": "code",
   "execution_count": 20,
   "metadata": {
    "collapsed": true
   },
   "outputs": [],
   "source": [
    "hedge = Hedge(begindate='2013-01-01', enddate='2014-12-31',fromlist=health_care)"
   ]
  },
  {
   "cell_type": "code",
   "execution_count": 21,
   "metadata": {
    "collapsed": false
   },
   "outputs": [
    {
     "name": "stdout",
     "output_type": "stream",
     "text": [
      "PRXL , JNJ , BCR , CBPO , MCK , RDY , GMED , NVS , NBIX , GMED ,\n"
     ]
    }
   ],
   "source": [
    "for i in np.random.choice(hedge.allstockdf.columns, size=10):\n",
    "    print i,',',"
   ]
  },
  {
   "cell_type": "code",
   "execution_count": 22,
   "metadata": {
    "collapsed": false
   },
   "outputs": [
    {
     "name": "stdout",
     "output_type": "stream",
     "text": [
      "GMED , GSK , NBIX , AET , ALGN , RDY , PFE , XRAY , MMM , HOLX ,\n"
     ]
    }
   ],
   "source": [
    "for i in np.random.choice(hedge.allstockdf.columns, size=10):\n",
    "    print i,',',"
   ]
  },
  {
   "cell_type": "code",
   "execution_count": 23,
   "metadata": {
    "collapsed": false
   },
   "outputs": [
    {
     "name": "stdout",
     "output_type": "stream",
     "text": [
      "NBIX , BKD , MMM , AKRX , MYL , CBPO , ENDP , THC , SHPG , VAR ,\n"
     ]
    }
   ],
   "source": [
    "for i in np.random.choice(hedge.allstockdf.columns, size=10):\n",
    "    print i,',',"
   ]
  },
  {
   "cell_type": "code",
   "execution_count": 29,
   "metadata": {
    "collapsed": false
   },
   "outputs": [
    {
     "name": "stdout",
     "output_type": "stream",
     "text": [
      "SLGN , OI , OI , PKG , CLX , BEAV , KAR , GPK , CTB , GNRC ,\n"
     ]
    }
   ],
   "source": [
    "for i in np.random.choice(hedge.allstockdf.columns, size=10):\n",
    "    print i,',',"
   ]
  },
  {
   "cell_type": "code",
   "execution_count": 30,
   "metadata": {
    "collapsed": false
   },
   "outputs": [
    {
     "name": "stdout",
     "output_type": "stream",
     "text": [
      "AN , CLX , POOL , WSO , OI , HELE , ASH , KAR , POOL , GT ,\n"
     ]
    }
   ],
   "source": [
    "for i in np.random.choice(hedge.allstockdf.columns, size=10):\n",
    "    print i,',',"
   ]
  },
  {
   "cell_type": "markdown",
   "metadata": {},
   "source": [
    "## Energy"
   ]
  },
  {
   "cell_type": "code",
   "execution_count": 31,
   "metadata": {
    "collapsed": true
   },
   "outputs": [],
   "source": [
    "hedge = Hedge(begindate='2013-01-01', enddate='2014-12-31',fromlist=energy)"
   ]
  },
  {
   "cell_type": "code",
   "execution_count": 32,
   "metadata": {
    "collapsed": false
   },
   "outputs": [
    {
     "name": "stdout",
     "output_type": "stream",
     "text": [
      "DO , NS , VET , DO , DRQ , BHI , EOG , BHI , CNQ , NOV ,\n"
     ]
    }
   ],
   "source": [
    "for i in np.random.choice(hedge.allstockdf.columns, size=10):\n",
    "    print i,',',"
   ]
  },
  {
   "cell_type": "code",
   "execution_count": 33,
   "metadata": {
    "collapsed": false
   },
   "outputs": [
    {
     "name": "stdout",
     "output_type": "stream",
     "text": [
      "NOV , XOM , SU , NOV , STO , EMR , BPL , CMI , MRO , VLO ,\n"
     ]
    }
   ],
   "source": [
    "for i in np.random.choice(hedge.allstockdf.columns, size=10):\n",
    "    print i,',',"
   ]
  },
  {
   "cell_type": "code",
   "execution_count": 34,
   "metadata": {
    "collapsed": false
   },
   "outputs": [
    {
     "name": "stdout",
     "output_type": "stream",
     "text": [
      "WWD , CLB , INT , COP , BPL , PBA , FTI , EOG , GPOR , PHG ,\n"
     ]
    }
   ],
   "source": [
    "for i in np.random.choice(hedge.allstockdf.columns, size=10):\n",
    "    print i,',',"
   ]
  },
  {
   "cell_type": "code",
   "execution_count": 35,
   "metadata": {
    "collapsed": false
   },
   "outputs": [
    {
     "name": "stdout",
     "output_type": "stream",
     "text": [
      "TOT , DVN , XEC , INT , PBR , GEL , PHG , STO , PBR , NS ,\n"
     ]
    }
   ],
   "source": [
    "for i in np.random.choice(hedge.allstockdf.columns, size=10):\n",
    "    print i,',',"
   ]
  },
  {
   "cell_type": "code",
   "execution_count": 36,
   "metadata": {
    "collapsed": false
   },
   "outputs": [
    {
     "name": "stdout",
     "output_type": "stream",
     "text": [
      "IEP , PXD , YZC , CVE , MPC , CVX , BPL , CPG , COG , ENB ,\n"
     ]
    }
   ],
   "source": [
    "for i in np.random.choice(hedge.allstockdf.columns, size=10):\n",
    "    print i,',',"
   ]
  },
  {
   "cell_type": "code",
   "execution_count": 40,
   "metadata": {
    "collapsed": false
   },
   "outputs": [
    {
     "name": "stdout",
     "output_type": "stream",
     "text": [
      "XOM GE CVX PTR TOT SLB BP SNP OXY BBL\n"
     ]
    }
   ],
   "source": [
    "for k in stockuniverse[stockuniverse['Sector']=='Energy'].head(10).Symbol.values:\n",
    "    print k,','"
   ]
  },
  {
   "cell_type": "code",
   "execution_count": null,
   "metadata": {
    "collapsed": true
   },
   "outputs": [],
   "source": []
  }
 ],
 "metadata": {
  "kernelspec": {
   "display_name": "Python 2",
   "language": "python",
   "name": "python2"
  },
  "language_info": {
   "codemirror_mode": {
    "name": "ipython",
    "version": 2
   },
   "file_extension": ".py",
   "mimetype": "text/x-python",
   "name": "python",
   "nbconvert_exporter": "python",
   "pygments_lexer": "ipython2",
   "version": "2.7.11"
  }
 },
 "nbformat": 4,
 "nbformat_minor": 0
}
