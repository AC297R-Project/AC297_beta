{
 "cells": [
  {
   "cell_type": "code",
   "execution_count": 1,
   "metadata": {
    "collapsed": true
   },
   "outputs": [],
   "source": [
    "from Hedge import Hedge"
   ]
  },
  {
   "cell_type": "code",
   "execution_count": 2,
   "metadata": {
    "collapsed": true
   },
   "outputs": [],
   "source": [
    "hedge =  Hedge(begindate='2007-01-01',enddate='2007-12-31')"
   ]
  },
  {
   "cell_type": "code",
   "execution_count": 3,
   "metadata": {
    "collapsed": false
   },
   "outputs": [
    {
     "data": {
      "text/plain": [
       "array(['RGC', 'BFY', 'CRWS', 'SCCO', 'PZC', 'AVK', 'NTRI', 'DGSE', 'GLO',\n",
       "       'PX', 'TRST', 'DDE', 'VVR', 'AMAT', 'ACIW', 'IHS', 'COBZ', 'RYAAY',\n",
       "       'CIEN', 'UPIP'], dtype=object)"
      ]
     },
     "execution_count": 3,
     "metadata": {},
     "output_type": "execute_result"
    }
   ],
   "source": [
    "hedge.generateRandomPort()"
   ]
  },
  {
   "cell_type": "code",
   "execution_count": 4,
   "metadata": {
    "collapsed": false
   },
   "outputs": [
    {
     "data": {
      "text/plain": [
       "array(['NVLS', 'ADSK', 'PCYG', 'ESL', 'VG', 'BBL', 'NPP', 'ECPG', 'CRT',\n",
       "       'NPK', 'STRS', 'FMNB', 'SBUX', 'FARO', 'MGM', 'GD', 'VBF', 'NMA',\n",
       "       'AGII', 'PAI'], dtype=object)"
      ]
     },
     "execution_count": 4,
     "metadata": {},
     "output_type": "execute_result"
    }
   ],
   "source": [
    "hedge.generateRandomMarket()"
   ]
  },
  {
   "cell_type": "code",
   "execution_count": 8,
   "metadata": {
    "collapsed": false,
    "scrolled": true
   },
   "outputs": [
    {
     "data": {
      "text/plain": [
       "Date\n",
       "2007-01-03    1000.000000\n",
       "2007-01-04    1014.197401\n",
       "2007-01-05    1024.677788\n",
       "2007-01-08    1000.481405\n",
       "2007-01-09     992.031135\n",
       "2007-01-10     995.945623\n",
       "2007-01-11    1010.883365\n",
       "2007-01-12    1009.380751\n",
       "2007-01-16    1007.246899\n",
       "2007-01-17    1005.334977\n",
       "2007-01-18     992.329779\n",
       "2007-01-19     996.728204\n",
       "2007-01-22     987.216475\n",
       "2007-01-23     992.415444\n",
       "2007-01-24    1007.601462\n",
       "2007-01-25     992.013832\n",
       "2007-01-26    1006.534980\n",
       "2007-01-29    1010.579248\n",
       "2007-01-30    1011.882669\n",
       "2007-01-31    1020.295653\n",
       "2007-02-01    1033.589238\n",
       "2007-02-02    1032.298222\n",
       "2007-02-05    1046.969350\n",
       "2007-02-06    1042.144452\n",
       "2007-02-07    1045.412582\n",
       "2007-02-08    1034.103136\n",
       "2007-02-09    1025.578596\n",
       "2007-02-12    1030.421172\n",
       "2007-02-13    1026.266409\n",
       "2007-02-14    1026.635364\n",
       "                 ...     \n",
       "2007-11-16     965.914010\n",
       "2007-11-19     944.444936\n",
       "2007-11-20     940.478330\n",
       "2007-11-21     923.228401\n",
       "2007-11-23     933.322398\n",
       "2007-11-26     905.059383\n",
       "2007-11-27     917.664978\n",
       "2007-11-28     943.275030\n",
       "2007-11-29     931.596796\n",
       "2007-11-30     951.551755\n",
       "2007-12-03     935.624677\n",
       "2007-12-04     926.815235\n",
       "2007-12-05     940.585940\n",
       "2007-12-06     954.731144\n",
       "2007-12-07     951.073046\n",
       "2007-12-10     954.935269\n",
       "2007-12-11     937.368140\n",
       "2007-12-12     928.978089\n",
       "2007-12-13     921.840102\n",
       "2007-12-14     902.207042\n",
       "2007-12-17     879.020141\n",
       "2007-12-18     889.671951\n",
       "2007-12-19     878.331607\n",
       "2007-12-20     872.405972\n",
       "2007-12-21     885.457518\n",
       "2007-12-24     895.057418\n",
       "2007-12-26     893.495300\n",
       "2007-12-27     868.631981\n",
       "2007-12-28     870.431023\n",
       "2007-12-31     860.492976\n",
       "dtype: float64"
      ]
     },
     "execution_count": 8,
     "metadata": {},
     "output_type": "execute_result"
    }
   ],
   "source": [
    "hedge.dollar_market_sum"
   ]
  },
  {
   "cell_type": "code",
   "execution_count": 7,
   "metadata": {
    "collapsed": false
   },
   "outputs": [
    {
     "data": {
      "text/plain": [
       "array(['CEF', 'APOG', 'SBSA', 'ASUR', 'SBUX', 'HRB', 'WSBC', 'HNH', 'SUP',\n",
       "       'NSL', 'NFEC', 'PTR', 'AGII', 'NATL', 'PLX', 'NOM', 'MAS', 'GNK',\n",
       "       'ESIO', 'DPW'], dtype=object)"
      ]
     },
     "execution_count": 7,
     "metadata": {},
     "output_type": "execute_result"
    }
   ],
   "source": [
    "hedge.generateRandomMarket()"
   ]
  },
  {
   "cell_type": "markdown",
   "metadata": {},
   "source": [
    "---\n",
    "Test"
   ]
  },
  {
   "cell_type": "code",
   "execution_count": 18,
   "metadata": {
    "collapsed": true
   },
   "outputs": [],
   "source": [
    "def beta_hedging_ret(betas, port_ret, market_ret):\n",
    "    assert len(market_ret) == len(betas) == len(port_ret), 'Beta, Market, Portfolio returns should have same dimension'\n",
    "    assert not any(np.isnan(betas)), 'beta contains nan'\n",
    "    assert not any(np.isnan(market_ret)), 'market contains nan'\n",
    "    assert not any(np.isnan(port_ret)), 'portfolio contains nan'\n",
    "    \n",
    "    return np.array(port_ret) - np.array(betas)*np.array(market_ret)\n",
    "    "
   ]
  },
  {
   "cell_type": "code",
   "execution_count": 35,
   "metadata": {
    "collapsed": true
   },
   "outputs": [],
   "source": [
    "def cum_ret(rets):\n",
    "    prd = np.cumprod(np.array(rets)+1)\n",
    "    return prd/prd[0]"
   ]
  },
  {
   "cell_type": "code",
   "execution_count": 60,
   "metadata": {
    "collapsed": true
   },
   "outputs": [],
   "source": [
    "hedge =  Hedge(begindate='2005-01-01',enddate='2015-12-31')"
   ]
  },
  {
   "cell_type": "code",
   "execution_count": 61,
   "metadata": {
    "collapsed": true
   },
   "outputs": [],
   "source": [
    "import get_beta"
   ]
  },
  {
   "cell_type": "code",
   "execution_count": 64,
   "metadata": {
    "collapsed": false
   },
   "outputs": [
    {
     "data": {
      "text/plain": [
       "array(['DWA', 'NTN', 'PFL', 'LPNT', 'NTWK', 'JLL', 'CTXS', 'CELG', 'FRO',\n",
       "       'BJZ', 'CNI', 'BCV', 'USAT', 'CBB', 'NEM', 'CTBI', 'EGAS', 'UMBF',\n",
       "       'KTEC', 'MTSN'], dtype=object)"
      ]
     },
     "execution_count": 64,
     "metadata": {},
     "output_type": "execute_result"
    }
   ],
   "source": [
    "hedge.generateRandomMarket()\n",
    "hedge.generateRandomPort()"
   ]
  },
  {
   "cell_type": "code",
   "execution_count": 63,
   "metadata": {
    "collapsed": false
   },
   "outputs": [
    {
     "ename": "AssertionError",
     "evalue": "",
     "output_type": "error",
     "traceback": [
      "\u001b[0;31m---------------------------------------------------------------------------\u001b[0m",
      "\u001b[0;31mAssertionError\u001b[0m                            Traceback (most recent call last)",
      "\u001b[0;32m<ipython-input-63-9cc5623ddcac>\u001b[0m in \u001b[0;36m<module>\u001b[0;34m()\u001b[0m\n\u001b[1;32m      1\u001b[0m hedge.portfolio = ['FLIR', 'IVC', 'KNDI', 'MHO', 'EVC', 'PCO', 'COWN', 'NILE', 'MIW',\n\u001b[1;32m      2\u001b[0m        \u001b[0;34m'ANAC'\u001b[0m\u001b[0;34m,\u001b[0m \u001b[0;34m'ADHD'\u001b[0m\u001b[0;34m,\u001b[0m \u001b[0;34m'PLBC'\u001b[0m\u001b[0;34m,\u001b[0m \u001b[0;34m'ESXB'\u001b[0m\u001b[0;34m,\u001b[0m \u001b[0;34m'JRO'\u001b[0m\u001b[0;34m,\u001b[0m \u001b[0;34m'WES'\u001b[0m\u001b[0;34m,\u001b[0m \u001b[0;34m'HURC'\u001b[0m\u001b[0;34m,\u001b[0m \u001b[0;34m'MQT'\u001b[0m\u001b[0;34m,\u001b[0m \u001b[0;34m'EROS'\u001b[0m\u001b[0;34m,\u001b[0m\u001b[0;34m\u001b[0m\u001b[0m\n\u001b[0;32m----> 3\u001b[0;31m        'RPAI', 'HMNF']\n\u001b[0m\u001b[1;32m      4\u001b[0m hedge.market = ['GPX', 'GRMN', 'MPWR', 'ENR', 'CTHR', 'PRFZ', 'SUMR', 'CUBE',\n\u001b[1;32m      5\u001b[0m        \u001b[0;34m'ACTS'\u001b[0m\u001b[0;34m,\u001b[0m \u001b[0;34m'ANF'\u001b[0m\u001b[0;34m,\u001b[0m \u001b[0;34m'MYI'\u001b[0m\u001b[0;34m,\u001b[0m \u001b[0;34m'SON'\u001b[0m\u001b[0;34m,\u001b[0m \u001b[0;34m'SSL'\u001b[0m\u001b[0;34m,\u001b[0m \u001b[0;34m'PW'\u001b[0m\u001b[0;34m,\u001b[0m \u001b[0;34m'KT'\u001b[0m\u001b[0;34m,\u001b[0m \u001b[0;34m'TWN'\u001b[0m\u001b[0;34m,\u001b[0m \u001b[0;34m'IPWR'\u001b[0m\u001b[0;34m,\u001b[0m\u001b[0;34m\u001b[0m\u001b[0m\n",
      "\u001b[0;32m/Users/haosutang/Dropbox/2016Spring/AC_297r/project/work/Tang/Hedge.pyc\u001b[0m in \u001b[0;36mportfolio\u001b[0;34m(self, portfolio)\u001b[0m\n\u001b[1;32m     96\u001b[0m     \u001b[0;34m@\u001b[0m\u001b[0mportfolio\u001b[0m\u001b[0;34m.\u001b[0m\u001b[0msetter\u001b[0m\u001b[0;34m\u001b[0m\u001b[0m\n\u001b[1;32m     97\u001b[0m     \u001b[0;32mdef\u001b[0m \u001b[0mportfolio\u001b[0m\u001b[0;34m(\u001b[0m\u001b[0mself\u001b[0m\u001b[0;34m,\u001b[0m \u001b[0mportfolio\u001b[0m\u001b[0;34m)\u001b[0m\u001b[0;34m:\u001b[0m\u001b[0;34m\u001b[0m\u001b[0m\n\u001b[0;32m---> 98\u001b[0;31m         \u001b[0;32massert\u001b[0m \u001b[0mall\u001b[0m\u001b[0;34m(\u001b[0m\u001b[0;34m[\u001b[0m\u001b[0mi\u001b[0m \u001b[0;32min\u001b[0m \u001b[0mself\u001b[0m\u001b[0;34m.\u001b[0m\u001b[0mallstockdf\u001b[0m\u001b[0;34m.\u001b[0m\u001b[0mcolumns\u001b[0m \u001b[0;32mfor\u001b[0m \u001b[0mi\u001b[0m \u001b[0;32min\u001b[0m \u001b[0mportfolio\u001b[0m\u001b[0;34m]\u001b[0m\u001b[0;34m)\u001b[0m\u001b[0;34m\u001b[0m\u001b[0m\n\u001b[0m\u001b[1;32m     99\u001b[0m         \u001b[0mself\u001b[0m\u001b[0;34m.\u001b[0m\u001b[0m_portfolio\u001b[0m \u001b[0;34m=\u001b[0m \u001b[0mportfolio\u001b[0m\u001b[0;34m\u001b[0m\u001b[0m\n\u001b[1;32m    100\u001b[0m         \u001b[0mself\u001b[0m\u001b[0;34m.\u001b[0m\u001b[0m_portfolio_size\u001b[0m \u001b[0;34m=\u001b[0m \u001b[0mlen\u001b[0m\u001b[0;34m(\u001b[0m\u001b[0mself\u001b[0m\u001b[0;34m.\u001b[0m\u001b[0m_portfolio\u001b[0m\u001b[0;34m)\u001b[0m\u001b[0;34m\u001b[0m\u001b[0m\n",
      "\u001b[0;31mAssertionError\u001b[0m: "
     ]
    }
   ],
   "source": [
    "hedge.portfolio = ['FLIR', 'IVC', 'KNDI', 'MHO', 'EVC', 'PCO', 'COWN', 'NILE', 'MIW',\n",
    "       'ANAC', 'ADHD', 'PLBC', 'ESXB', 'JRO', 'WES', 'HURC', 'MQT', 'EROS',\n",
    "       'RPAI', 'HMNF']\n",
    "hedge.market = ['GPX', 'GRMN', 'MPWR', 'ENR', 'CTHR', 'PRFZ', 'SUMR', 'CUBE',\n",
    "       'ACTS', 'ANF', 'MYI', 'SON', 'SSL', 'PW', 'KT', 'TWN', 'IPWR',\n",
    "       'AAN', 'CASH', 'DISCA', 'RFP', 'HPS', 'WMB', 'VRSN', 'ETN', 'WPZ',\n",
    "       'RAI', 'BOXC', 'ARCI', 'EMN', 'LMOS', 'EXPD', 'NQS', 'GB', 'KNOP',\n",
    "       'CNL', 'ENDP', 'SPSC', 'SCVL', 'EPAY']"
   ]
  },
  {
   "cell_type": "code",
   "execution_count": 65,
   "metadata": {
    "collapsed": false
   },
   "outputs": [],
   "source": [
    "_,betas = get_beta.get_beta(hedge.dollar_portfolio_sum_ret, hedge.spy.pct_change())"
   ]
  },
  {
   "cell_type": "code",
   "execution_count": 10,
   "metadata": {
    "collapsed": false
   },
   "outputs": [
    {
     "data": {
      "text/plain": [
       "(192,)"
      ]
     },
     "execution_count": 10,
     "metadata": {},
     "output_type": "execute_result"
    }
   ],
   "source": [
    "betas.shape"
   ]
  },
  {
   "cell_type": "code",
   "execution_count": 13,
   "metadata": {
    "collapsed": true
   },
   "outputs": [],
   "source": [
    "import numpy as np"
   ]
  },
  {
   "cell_type": "code",
   "execution_count": 17,
   "metadata": {
    "collapsed": false
   },
   "outputs": [
    {
     "data": {
      "text/plain": [
       "False"
      ]
     },
     "execution_count": 17,
     "metadata": {},
     "output_type": "execute_result"
    }
   ],
   "source": [
    "any(np.isnan(betas[1:]))"
   ]
  },
  {
   "cell_type": "code",
   "execution_count": 66,
   "metadata": {
    "collapsed": false,
    "scrolled": true
   },
   "outputs": [],
   "source": [
    "bhr = beta_hedging_ret(betas[1:], hedge.dollar_portfolio_sum_ret[61:], hedge.spy.pct_change()[61:])"
   ]
  },
  {
   "cell_type": "code",
   "execution_count": 58,
   "metadata": {
    "collapsed": false
   },
   "outputs": [],
   "source": [
    "import matplotlib.pyplot as plt\n",
    "%matplotlib inline"
   ]
  },
  {
   "cell_type": "code",
   "execution_count": 67,
   "metadata": {
    "collapsed": false
   },
   "outputs": [
    {
     "data": {
      "text/plain": [
       "[<matplotlib.lines.Line2D at 0x10cb1a3d0>]"
      ]
     },
     "execution_count": 67,
     "metadata": {},
     "output_type": "execute_result"
    },
    {
     "data": {
      "image/png": "[encoded data removed]",
      "text/plain": [
       "<matplotlib.figure.Figure at 0x10c947890>"
      ]
     },
     "metadata": {},
     "output_type": "display_data"
    }
   ],
   "source": [
    "plt.plot(bhr)\n",
    "plt.plot(hedge.dollar_portfolio_sum_ret[61:].values)"
   ]
  },
  {
   "cell_type": "code",
   "execution_count": 68,
   "metadata": {
    "collapsed": false
   },
   "outputs": [
    {
     "data": {
      "text/plain": [
       "[<matplotlib.lines.Line2D at 0x11036e890>]"
      ]
     },
     "execution_count": 68,
     "metadata": {},
     "output_type": "execute_result"
    },
    {
     "data": {
      "image/png": "[encoded data removed]",
      "text/plain": [
       "<matplotlib.figure.Figure at 0x10cffba50>"
      ]
     },
     "metadata": {},
     "output_type": "display_data"
    }
   ],
   "source": [
    "plt.plot(cum_ret(bhr))\n",
    "plt.plot(cum_ret(hedge.dollar_portfolio_sum_ret[61:].values))\n",
    "plt.plot(cum_ret(hedge.spy.pct_change()[61:].values))"
   ]
  },
  {
   "cell_type": "code",
   "execution_count": 69,
   "metadata": {
    "collapsed": true
   },
   "outputs": [],
   "source": [
    "def simulated_annealing(hedge, init_temp, min_temp, cool_by, reanneal, num_iter, energy_func):\n",
    "    \"\"\"\n",
    "    Inputs:\n",
    "    -------\n",
    "    hedge: \n",
    "        hedge object that already has an instantiated market and portfolio. \n",
    "    init_temp: \n",
    "        float that controls the initial temperature of the algorithm\n",
    "    min_temp: \n",
    "        float that acts as a floor for the decreasing temperature.  When this is hit, we heat back up to init_temp.  \n",
    "    cool_by: \n",
    "        float that controls the speed that the cooling occurs\n",
    "    reanneal: \n",
    "        integer that controls how many iterations pass between cooling steps\n",
    "    num_iter: \n",
    "        integer that controls the total number of iterations that the algorithm runs\n",
    "    energy_func:\n",
    "        function that determines the energy state, eg correlation, volatility, sharpe ratio\n",
    "    \n",
    "    Returns:\n",
    "    --------\n",
    "    states: \n",
    "        a history of the current energy state at each iteration\n",
    "    best_market: \n",
    "        list of the symbols for the best hedging market found\n",
    "    \"\"\"\n",
    "\n",
    "    \n",
    "#     hedge.generateRandomMarket()\n",
    "    \n",
    "    portfolio_values = hedge.dollar_portfolio_sum\n",
    "    portfolio_returns = hedge.dollar_portfolio_sum_ret\n",
    "    \n",
    "    market = list(hedge.market)\n",
    "    market_values = hedge.dollar_market_sum\n",
    "    market_returns = hedge.dollar_market_sum_ret\n",
    "    \n",
    "    spy_returns = hedge.spy.pct_change()[61:]\n",
    "    \n",
    "    # Get betas from portfolio returns and market returns.\n",
    "    _, betas = get_beta(portfolio_returns, market_returns)\n",
    "    \n",
    "    # Perform beta hedging.\n",
    "    hedged_returns = beta_hedging_ret(betas[1:], portfolio_returns[61:], market_returns[61:])\n",
    "\n",
    "        \n",
    "    # A running account of the best market found.  This is updated as better markets are found.       \n",
    "    best_market_energy = energy_func(hedged_returns[1:], spy_returns[1:])\n",
    "    best_market = hedge.market\n",
    "    \n",
    "    # Initial value for old_E is the initial total value of the starting point.\n",
    "    old_E = best_market_energy\n",
    "    \n",
    "    temperature = init_temp\n",
    "    \n",
    "    # A history of the current state of the algorithm.\n",
    "    states = np.zeros(num_iter)\n",
    "    \n",
    "    for i in range(num_iter):\n",
    "        if i%10==0:\n",
    "            print i,\n",
    "        \n",
    "        # Switch the bag up a little bit and recalculate market values and returns.  \n",
    "        market = list(hedge.market)\n",
    "        hedge.market = swap(market, hedge.stockuniverse)\n",
    "        \n",
    "        market_values = hedge.dollar_market_sum\n",
    "        market_returns = hedge.dollar_market_sum_ret\n",
    "            \n",
    "        \n",
    "        \n",
    "        # Get betas from portfolio returns and market returns.\n",
    "        _, betas = get_beta(portfolio_returns, market_returns)\n",
    "    \n",
    "        # Perform beta hedging.\n",
    "        hedged_returns = beta_hedging_ret(betas[1:], portfolio_returns[61:], market_returns[61:])\n",
    "    \n",
    "\n",
    "        # Examine energy state of the new bag.\n",
    "        new_E = energy_func(hedged_returns[1:], spy_returns[1:])\n",
    "        \n",
    "        delta_E = new_E - old_E\n",
    "        \n",
    "        # We always accept an improvement.\n",
    "        if new_E < old_E:\n",
    "            #market = proposed_market\n",
    "            states[i] = new_E\n",
    "            old_E = new_E\n",
    "            # Update our running best bag found.\n",
    "            if new_E > best_market_energy:\n",
    "                best_market_energy = new_E\n",
    "                best_market = market\n",
    "        # We sometimes accept a decline because this can get us out of a local minimum.\n",
    "        elif np.random.rand() < np.exp(-delta_E / temperature):\n",
    "            #market = proposed_proposed\n",
    "            states[i] = new_E\n",
    "            old_E = new_E\n",
    "\n",
    "        # And sometimes we just stay where we are until something better comes along.\n",
    "        else: \n",
    "            states[i] = old_E\n",
    "            # Put the old market back in\n",
    "            hedge.market = market\n",
    "            \n",
    "        # Cool down slowly at the defined interval.\n",
    "        if num_iter % reanneal == 0:\n",
    "            temperature = temperature * cool_by\n",
    "            \n",
    "            # Reheat when the temperature gets too cold.\n",
    "            if temperature < min_temp:\n",
    "                temperature = init_temp\n",
    "    \n",
    "    hedge.market = best_market\n",
    "    return states, best_market"
   ]
  },
  {
   "cell_type": "code",
   "execution_count": 70,
   "metadata": {
    "collapsed": true
   },
   "outputs": [],
   "source": [
    "def swap(market_symbols, year_symbols):\n",
    "    \"\"\"\n",
    "    Randomly changes the symbols in a market. Can either grow or shrink the market by 1 asset.  \n",
    "    \n",
    "    Inputs:\n",
    "    -------\n",
    "    market_symbols: list of symbols that are in a market\n",
    "    year_symbols:   list of all the possible symbols for a given year\n",
    "    \n",
    "    Output:\n",
    "    -------\n",
    "    symbols: list of symbols in the market after the random change.  \n",
    "    \n",
    "    \"\"\"\n",
    "    coin_flip = np.random.binomial(1, 0.5)\n",
    "    \n",
    "    if (coin_flip == 0) and len(market_symbols)>10: # Shrink the market by one asset\n",
    "        \n",
    "        # Pick a random list index and pop that symbol off\n",
    "        market_symbols.pop(np.random.randint(len(market_symbols)))\n",
    "        return market_symbols\n",
    "    \n",
    "    else: # Grow the market by one asset\n",
    "        \n",
    "        # Get a list of the symbols for that year that are not already in the portfolio\n",
    "        potential_symbols = list(set(year_symbols) - set(market_symbols))\n",
    "        symbol_to_add = np.random.choice(potential_symbols)\n",
    "        market_symbols.append(symbol_to_add)\n",
    "        return market_symbols"
   ]
  },
  {
   "cell_type": "code",
   "execution_count": 75,
   "metadata": {
    "collapsed": false
   },
   "outputs": [],
   "source": [
    "import sys\n",
    "from get_beta import get_beta\n",
    "\n",
    "sys.path.append('../../source/')\n",
    "from energy_functions import correlation, sharpe, volatility"
   ]
  },
  {
   "cell_type": "code",
   "execution_count": 77,
   "metadata": {
    "collapsed": false
   },
   "outputs": [
    {
     "name": "stdout",
     "output_type": "stream",
     "text": [
      " 0 10 20 30 40 50 60 70 80 90\n"
     ]
    }
   ],
   "source": [
    "hedge = Hedge(begindate='2014-01-01', enddate='2014-12-31')\n",
    "hedge.portfolio = ['FLIR', 'IVC', 'KNDI', 'MHO', 'EVC', 'PCO', 'COWN', 'NILE', 'MIW',\n",
    "       'ANAC', 'ADHD', 'PLBC', 'ESXB', 'JRO', 'WES', 'HURC', 'MQT', 'EROS',\n",
    "       'RPAI', 'HMNF']\n",
    "hedge.market = ['GPX', 'GRMN', 'MPWR', 'ENR', 'CTHR', 'PRFZ', 'SUMR', 'CUBE',\n",
    "       'ACTS', 'ANF', 'MYI', 'SON', 'SSL', 'PW', 'KT', 'TWN', 'IPWR',\n",
    "       'AAN', 'CASH', 'DISCA', 'RFP', 'HPS', 'WMB', 'VRSN', 'ETN', 'WPZ',\n",
    "       'RAI', 'BOXC', 'ARCI', 'EMN', 'LMOS', 'EXPD', 'NQS', 'GB', 'KNOP',\n",
    "       'CNL', 'ENDP', 'SPSC', 'SCVL', 'EPAY']\n",
    "\n",
    "\n",
    "st, bm = simulated_annealing(hedge, init_temp=0.01, min_temp=0.01, cool_by=0.99, reanneal=100, num_iter=100, \\\n",
    "                    energy_func=sharpe)"
   ]
  },
  {
   "cell_type": "code",
   "execution_count": 79,
   "metadata": {
    "collapsed": false
   },
   "outputs": [],
   "source": [
    "hedge.market = bm"
   ]
  },
  {
   "cell_type": "code",
   "execution_count": 82,
   "metadata": {
    "collapsed": false
   },
   "outputs": [
    {
     "data": {
      "text/plain": [
       "192"
      ]
     },
     "execution_count": 82,
     "metadata": {},
     "output_type": "execute_result"
    }
   ],
   "source": [
    "_, betas = get_beta(hedge.dollar_portfolio_sum_ret, hedge.dollar_market_sum_ret)\n",
    "len(betas)"
   ]
  },
  {
   "cell_type": "code",
   "execution_count": 83,
   "metadata": {
    "collapsed": false
   },
   "outputs": [],
   "source": [
    "bhr = beta_hedging_ret(betas[1:], hedge.dollar_portfolio_sum_ret[61:], hedge.dollar_market_sum_ret[61:])"
   ]
  },
  {
   "cell_type": "code",
   "execution_count": 84,
   "metadata": {
    "collapsed": false
   },
   "outputs": [
    {
     "data": {
      "text/plain": [
       "[<matplotlib.lines.Line2D at 0x108552890>]"
      ]
     },
     "execution_count": 84,
     "metadata": {},
     "output_type": "execute_result"
    },
    {
     "data": {
      "image/png": "[encoded data removed]",
      "text/plain": [
       "<matplotlib.figure.Figure at 0x10856ea90>"
      ]
     },
     "metadata": {},
     "output_type": "display_data"
    }
   ],
   "source": [
    "plt.plot(bhr)\n",
    "plt.plot(hedge.dollar_portfolio_sum_ret[61:].values)"
   ]
  },
  {
   "cell_type": "code",
   "execution_count": 85,
   "metadata": {
    "collapsed": false
   },
   "outputs": [
    {
     "data": {
      "text/plain": [
       "[<matplotlib.lines.Line2D at 0x107cad590>]"
      ]
     },
     "execution_count": 85,
     "metadata": {},
     "output_type": "execute_result"
    },
    {
     "data": {
      "image/png": "[encoded data removed]",
      "text/plain": [
       "<matplotlib.figure.Figure at 0x110384f90>"
      ]
     },
     "metadata": {},
     "output_type": "display_data"
    }
   ],
   "source": [
    "plt.plot(cum_ret(bhr))\n",
    "plt.plot(cum_ret(hedge.dollar_portfolio_sum_ret[61:].values))\n",
    "plt.plot(cum_ret(hedge.spy.pct_change()[61:].values))\n",
    "plt.plot(cum_ret(hedge.dollar_market_sum_ret[61:].values))"
   ]
  },
  {
   "cell_type": "code",
   "execution_count": 89,
   "metadata": {
    "collapsed": false
   },
   "outputs": [
    {
     "data": {
      "text/plain": [
       "(-0.045834767575711935,\n",
       " -0.03728871359351336,\n",
       " -0.007591007429988591,\n",
       " -0.07403793521686199)"
      ]
     },
     "execution_count": 89,
     "metadata": {},
     "output_type": "execute_result"
    }
   ],
   "source": [
    "sharpe((bhr)), sharpe(hedge.dollar_portfolio_sum_ret[61:]),sharpe(hedge.dollar_market_sum_ret[61:]), sharpe(hedge.spy.pct_change()[61:])"
   ]
  },
  {
   "cell_type": "markdown",
   "metadata": {},
   "source": [
    "---"
   ]
  },
  {
   "cell_type": "code",
   "execution_count": 8,
   "metadata": {
    "collapsed": false
   },
   "outputs": [],
   "source": [
    "import sys\n",
    "sys.path.append('../../source/')\n",
    "from energy_functions import correlation, neg_sharpe, volatility\n",
    "from Hedge import Hedge"
   ]
  },
  {
   "cell_type": "code",
   "execution_count": 9,
   "metadata": {
    "collapsed": false
   },
   "outputs": [],
   "source": [
    "hedge = Hedge(begindate='2014-01-01', enddate='2014-12-31')\n",
    "hedge.portfolio = ['FLIR', 'IVC', 'KNDI', 'MHO', 'EVC', 'PCO', 'COWN', 'NILE', 'MIW',\n",
    "       'ANAC', 'ADHD', 'PLBC', 'ESXB', 'JRO', 'WES', 'HURC', 'MQT', 'EROS',\n",
    "       'RPAI', 'HMNF']\n",
    "hedge.market = ['GPX', 'GRMN', 'MPWR', 'ENR', 'CTHR', 'PRFZ', 'SUMR', 'CUBE',\n",
    "       'ACTS', 'ANF', 'MYI', 'SON', 'SSL', 'PW', 'KT', 'TWN', 'IPWR',\n",
    "       'AAN', 'CASH', 'DISCA', 'RFP', 'HPS', 'WMB', 'VRSN', 'ETN', 'WPZ',\n",
    "       'RAI', 'BOXC', 'ARCI', 'EMN', 'LMOS', 'EXPD', 'NQS', 'GB', 'KNOP',\n",
    "       'CNL', 'ENDP', 'SPSC', 'SCVL', 'EPAY']"
   ]
  },
  {
   "cell_type": "code",
   "execution_count": 15,
   "metadata": {
    "collapsed": false
   },
   "outputs": [
    {
     "data": {
      "text/plain": [
       "<module 'Simulations' from '../../source/Simulations.py'>"
      ]
     },
     "execution_count": 15,
     "metadata": {},
     "output_type": "execute_result"
    },
    {
     "name": "stdout",
     "output_type": "stream",
     "text": [
      "\n"
     ]
    }
   ],
   "source": [
    "reload(Simulations)"
   ]
  },
  {
   "cell_type": "code",
   "execution_count": 11,
   "metadata": {
    "collapsed": false
   },
   "outputs": [],
   "source": [
    "import Simulations"
   ]
  },
  {
   "cell_type": "code",
   "execution_count": 16,
   "metadata": {
    "collapsed": false
   },
   "outputs": [
    {
     "name": "stdout",
     "output_type": "stream",
     "text": [
      "0 10 20 30\n"
     ]
    }
   ],
   "source": [
    "s, bm, bb = Simulations.simulated_annealing(hedge, init_temp=0.01, min_temp=0.01, cool_by=0.99, reanneal=100, num_iter=40, \\\n",
    "                    energy_func=neg_sharpe)"
   ]
  },
  {
   "cell_type": "code",
   "execution_count": 19,
   "metadata": {
    "collapsed": false
   },
   "outputs": [
    {
     "data": {
      "text/plain": [
       "array([-0.04243027, -0.04639024, -0.04174179, -0.04090767, -0.04410223,\n",
       "       -0.04410223, -0.02878843, -0.0256798 , -0.026357  , -0.04822765,\n",
       "       -0.06206047, -0.06206047, -0.06056939, -0.0630847 , -0.05896916,\n",
       "       -0.05896916, -0.05896916, -0.05896916, -0.05896916, -0.05896916,\n",
       "       -0.05896916, -0.04669569, -0.05138131, -0.05597391, -0.06929484,\n",
       "       -0.06929484, -0.07245707, -0.07416808, -0.07674676, -0.07322997,\n",
       "       -0.07329491, -0.06995822, -0.07980949, -0.07975451, -0.07980949,\n",
       "       -0.08086327, -0.07979942, -0.08390106, -0.08390106, -0.07753688])"
      ]
     },
     "execution_count": 19,
     "metadata": {},
     "output_type": "execute_result"
    }
   ],
   "source": [
    "s"
   ]
  },
  {
   "cell_type": "code",
   "execution_count": null,
   "metadata": {
    "collapsed": true
   },
   "outputs": [],
   "source": []
  }
 ],
 "metadata": {
  "kernelspec": {
   "display_name": "Python 2",
   "language": "python",
   "name": "python2"
  },
  "language_info": {
   "codemirror_mode": {
    "name": "ipython",
    "version": 2
   },
   "file_extension": ".py",
   "mimetype": "text/x-python",
   "name": "python",
   "nbconvert_exporter": "python",
   "pygments_lexer": "ipython2",
   "version": "2.7.11"
  }
 },
 "nbformat": 4,
 "nbformat_minor": 0
}
