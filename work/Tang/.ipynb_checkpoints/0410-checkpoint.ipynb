{
 "cells": [
  {
   "cell_type": "code",
   "execution_count": 2,
   "metadata": {
    "collapsed": true
   },
   "outputs": [],
   "source": [
    "import sys\n",
    "sys.path.append('../../source/')"
   ]
  },
  {
   "cell_type": "code",
   "execution_count": 3,
   "metadata": {
    "collapsed": false
   },
   "outputs": [],
   "source": [
    "from Hedge import Hedge"
   ]
  },
  {
   "cell_type": "code",
   "execution_count": null,
   "metadata": {
    "collapsed": true
   },
   "outputs": [],
   "source": []
  },
  {
   "cell_type": "code",
   "execution_count": 4,
   "metadata": {
    "collapsed": true
   },
   "outputs": [],
   "source": [
    "hedge = Hedge(stocksdir='../../data/all_stocks.csv', spydir='../../data/spy.csv', begindate='2013-01-01', enddate='2014-12-31')"
   ]
  },
  {
   "cell_type": "code",
   "execution_count": 5,
   "metadata": {
    "collapsed": true
   },
   "outputs": [],
   "source": [
    "with open('markets.txt', 'w') as f:\n",
    "    for ii in range(20):\n",
    "        market = hedge.generateRandomMarket(100)\n",
    "        f.write('{},'.format(ii))\n",
    "        for stock in market:\n",
    "            f.write('{},'.format(stock))\n",
    "        f.write('\\n')"
   ]
  },
  {
   "cell_type": "code",
   "execution_count": 6,
   "metadata": {
    "collapsed": true
   },
   "outputs": [],
   "source": [
    "with open('portfolios.txt', 'w') as f:\n",
    "    for ii in range(20):\n",
    "        market = hedge.generateRandomPort(50)\n",
    "        f.write('{},'.format(ii))\n",
    "        for stock in market:\n",
    "            f.write('{},'.format(stock))\n",
    "        f.write('\\n')"
   ]
  },
  {
   "cell_type": "code",
   "execution_count": 8,
   "metadata": {
    "collapsed": true
   },
   "outputs": [],
   "source": [
    "with open('in.txt', 'w') as f:\n",
    "    for j in range(20):\n",
    "        i=str(j)\n",
    "        ba= '2013-01-01,2013-12-31,2014-01-01,2014-12-31,60,'+i+','+i+',0.01,0.99,0.001,100,10000,0,1,0,0,1\\n'\n",
    "        f.write(ba)"
   ]
  },
  {
   "cell_type": "code",
   "execution_count": null,
   "metadata": {
    "collapsed": true
   },
   "outputs": [],
   "source": []
  }
 ],
 "metadata": {
  "kernelspec": {
   "display_name": "Python 2",
   "language": "python",
   "name": "python2"
  },
  "language_info": {
   "codemirror_mode": {
    "name": "ipython",
    "version": 2
   },
   "file_extension": ".py",
   "mimetype": "text/x-python",
   "name": "python",
   "nbconvert_exporter": "python",
   "pygments_lexer": "ipython2",
   "version": "2.7.11"
  }
 },
 "nbformat": 4,
 "nbformat_minor": 0
}
