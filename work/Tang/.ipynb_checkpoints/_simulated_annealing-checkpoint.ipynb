{
 "cells": [
  {
   "cell_type": "code",
   "execution_count": 2,
   "metadata": {
    "collapsed": true
   },
   "outputs": [],
   "source": [
    "import pandas as pd\n",
    "import numpy as np\n",
    "%matplotlib inline\n",
    "import matplotlib.pyplot as plt\n",
    "import sys\n",
    "import scipy\n",
    "import pickle"
   ]
  },
  {
   "cell_type": "code",
   "execution_count": 3,
   "metadata": {
    "collapsed": false
   },
   "outputs": [],
   "source": [
    "sys.path.append('../../source/')\n",
    "from JungeUtilities import beta_hedging, portfolio_ize, date_to_int\n",
    "from get_beta import get_beta\n",
    "from energy_functions import correlation, sharpe, volatility\n",
    "from Hedge import Hedge"
   ]
  },
  {
   "cell_type": "code",
   "execution_count": 4,
   "metadata": {
    "collapsed": true
   },
   "outputs": [],
   "source": [
    "def swap(market_symbols, year_symbols):\n",
    "    \"\"\"\n",
    "    Randomly changes the symbols in a market. Can either grow or shrink the market by 1 asset.  \n",
    "    \n",
    "    Inputs:\n",
    "    -------\n",
    "    market_symbols: list of symbols that are in a market\n",
    "    year_symbols:   list of all the possible symbols for a given year\n",
    "    \n",
    "    Output:\n",
    "    -------\n",
    "    symbols: list of symbols in the market after the random change.  \n",
    "    \n",
    "    \"\"\"\n",
    "    coin_flip = np.random.binomial(1, 0.5)\n",
    "    \n",
    "    if (coin_flip == 0) and len(market_symbols)>10: # Shrink the market by one asset\n",
    "        \n",
    "        # Pick a random list index and pop that symbol off\n",
    "        market_symbols.pop(np.random.randint(len(market_symbols)))\n",
    "        return market_symbols\n",
    "    \n",
    "    else: # Grow the market by one asset\n",
    "        \n",
    "        # Get a list of the symbols for that year that are not already in the portfolio\n",
    "        potential_symbols = list(set(year_symbols) - set(market_symbols))\n",
    "        symbol_to_add = np.random.choice(potential_symbols)\n",
    "        market_symbols.append(symbol_to_add)\n",
    "        return market_symbols"
   ]
  },
  {
   "cell_type": "code",
   "execution_count": 9,
   "metadata": {
    "collapsed": false
   },
   "outputs": [
    {
     "name": "stdout",
     "output_type": "stream",
     "text": [
      "\n"
     ]
    }
   ],
   "source": [
    "def simulated_annealing(hedge, init_temp, min_temp, cool_by, reanneal, num_iter, energy_func):\n",
    "    \"\"\"\n",
    "    Inputs:\n",
    "    -------\n",
    "    hedge: \n",
    "        hedge object that already has an instantiated market and portfolio. \n",
    "    init_temp: \n",
    "        float that controls the initial temperature of the algorithm\n",
    "    min_temp: \n",
    "        float that acts as a floor for the decreasing temperature.  When this is hit, we heat back up to init_temp.  \n",
    "    cool_by: \n",
    "        float that controls the speed that the cooling occurs\n",
    "    reanneal: \n",
    "        integer that controls how many iterations pass between cooling steps\n",
    "    num_iter: \n",
    "        integer that controls the total number of iterations that the algorithm runs\n",
    "    energy_func:\n",
    "        function that determines the energy state, eg correlation, volatility, sharpe ratio\n",
    "    \n",
    "    Returns:\n",
    "    --------\n",
    "    states: \n",
    "        a history of the current energy state at each iteration\n",
    "    best_market: \n",
    "        list of the symbols for the best hedging market found\n",
    "    \"\"\"\n",
    "\n",
    "    \n",
    "#     hedge.generateRandomMarket()\n",
    "    \n",
    "    portfolio_values = hedge.dollar_portfolio_sum\n",
    "    portfolio_returns = hedge.dollar_portfolio_sum_ret\n",
    "    \n",
    "    market = list(hedge.market)\n",
    "    market_values = hedge.dollar_market_sum\n",
    "    market_returns = hedge.dollar_market_sum_ret\n",
    "    \n",
    "    spy_returns = hedge.spy.pct_change()[61:]\n",
    "    \n",
    "    # Get betas from portfolio returns and market returns.\n",
    "    _, betas = get_beta(portfolio_returns, market_returns)\n",
    "    \n",
    "    # Perform beta hedging.\n",
    "    hedged_returns = beta_hedging(pd.Series(betas, index=market_values[60:].index),\\\n",
    "                                  market_values[60:], portfolio_values[60:])\n",
    "    hedged_returns = hedged_returns.values.reshape(hedged_returns.shape[0])\n",
    "\n",
    "        \n",
    "    # A running account of the best market found.  This is updated as better markets are found.       \n",
    "    best_market_energy = energy_func(hedged_returns[1:], spy_returns[1:])\n",
    "    best_market = hedge.market\n",
    "    \n",
    "    # Initial value for old_E is the initial total value of the starting point.\n",
    "    old_E = best_market_energy\n",
    "    \n",
    "    temperature = init_temp\n",
    "    \n",
    "    # A history of the current state of the algorithm.\n",
    "    states = np.zeros(num_iter)\n",
    "    \n",
    "    for i in range(num_iter):\n",
    "        if i%10==0:\n",
    "            print i,\n",
    "        \n",
    "        # Switch the bag up a little bit and recalculate market values and returns.  \n",
    "        market = list(hedge.market)\n",
    "        hedge.market = swap(market, hedge.stockuniverse)\n",
    "        \n",
    "        market_values = hedge.dollar_market_sum\n",
    "        market_returns = hedge.dollar_market_sum_ret\n",
    "            \n",
    "        # Get beta values from portfolio and market.\n",
    "        _, betas = get_beta(portfolio_returns, market_returns)\n",
    "        \n",
    "        # Perform beta hedging.\n",
    "        hedged_returns = beta_hedging(pd.Series(betas, index=market_values[60:].index), \\\n",
    "                                          market_values[60:], portfolio_values[60:])\n",
    "        hedged_returns = hedged_returns.values.reshape(hedged_returns.shape[0])\n",
    "\n",
    "        # Examine energy state of the new bag.\n",
    "        new_E = energy_func(hedged_returns[1:], spy_returns[1:])\n",
    "        \n",
    "        delta_E = new_E - old_E\n",
    "        \n",
    "        # We always accept an improvement.\n",
    "        if new_E < old_E:\n",
    "            #market = proposed_market\n",
    "            states[i] = new_E\n",
    "            old_E = new_E\n",
    "            # Update our running best bag found.\n",
    "            if new_E > best_market_energy:\n",
    "                best_market_energy = new_E\n",
    "                best_market = market\n",
    "        # We sometimes accept a decline because this can get us out of a local minimum.\n",
    "        elif np.random.rand() < np.exp(-delta_E / temperature):\n",
    "            #market = proposed_proposed\n",
    "            states[i] = new_E\n",
    "            old_E = new_E\n",
    "\n",
    "        # And sometimes we just stay where we are until something better comes along.\n",
    "        else: \n",
    "            states[i] = old_E\n",
    "            # Put the old market back in\n",
    "            hedge.market = market\n",
    "            \n",
    "        # Cool down slowly at the defined interval.\n",
    "        if num_iter % reanneal == 0:\n",
    "            temperature = temperature * cool_by\n",
    "            \n",
    "            # Reheat when the temperature gets too cold.\n",
    "            if temperature < min_temp:\n",
    "                temperature = init_temp\n",
    "    \n",
    "    hedge.market = best_market\n",
    "    return states, best_market"
   ]
  },
  {
   "cell_type": "code",
   "execution_count": 31,
   "metadata": {
    "collapsed": true
   },
   "outputs": [],
   "source": [
    "st10000, bm10000"
   ]
  },
  {
   "cell_type": "code",
   "execution_count": 32,
   "metadata": {
    "collapsed": false
   },
   "outputs": [
    {
     "name": "stdout",
     "output_type": "stream",
     "text": [
      "0 10 20 30 40 50 60 70 80 90 100 110 120 130 140 150 160 170 180 190 200 210 220 230 240 250 260 270 280 290 300 310 320 330 340 350 360 370 380 390 400 410 420 430 440 450 460 470 480 490 500 510 520 530 540 550 560 570 580 590 600 610 620 630 640 650 660 670 680 690 700 710 720 730 740 750 760 770 780 790 800 810 820 830 840 850 860 870 880 890 900 910 920 930 940 950 960 970 980 990\n"
     ]
    }
   ],
   "source": [
    "hedge = Hedge(begindate='2014-01-01', enddate='2014-12-31')\n",
    "hedge.portfolio = ['FLIR', 'IVC', 'KNDI', 'MHO', 'EVC', 'PCO', 'COWN', 'NILE', 'MIW',\n",
    "       'ANAC', 'ADHD', 'PLBC', 'ESXB', 'JRO', 'WES', 'HURC', 'MQT', 'EROS',\n",
    "       'RPAI', 'HMNF']\n",
    "hedge.market = ['GPX', 'GRMN', 'MPWR', 'ENR', 'CTHR', 'PRFZ', 'SUMR', 'CUBE',\n",
    "       'ACTS', 'ANF', 'MYI', 'SON', 'SSL', 'PW', 'KT', 'TWN', 'IPWR',\n",
    "       'AAN', 'CASH', 'DISCA', 'RFP', 'HPS', 'WMB', 'VRSN', 'ETN', 'WPZ',\n",
    "       'RAI', 'BOXC', 'ARCI', 'EMN', 'LMOS', 'EXPD', 'NQS', 'GB', 'KNOP',\n",
    "       'CNL', 'ENDP', 'SPSC', 'SCVL', 'EPAY']\n",
    "\n",
    "\n",
    "st, bm = simulated_annealing(hedge, init_temp=0.01, min_temp=0.01, cool_by=0.99, reanneal=100, num_iter=1000, \\\n",
    "                    energy_func=sharpe)\n"
   ]
  },
  {
   "cell_type": "code",
   "execution_count": 74,
   "metadata": {
    "collapsed": false
   },
   "outputs": [
    {
     "data": {
      "text/plain": [
       "False"
      ]
     },
     "execution_count": 74,
     "metadata": {},
     "output_type": "execute_result"
    }
   ],
   "source": [
    "False and True"
   ]
  },
  {
   "cell_type": "code",
   "execution_count": 76,
   "metadata": {
    "collapsed": false
   },
   "outputs": [
    {
     "data": {
      "text/plain": [
       "[False, True]"
      ]
     },
     "execution_count": 76,
     "metadata": {},
     "output_type": "execute_result"
    }
   ],
   "source": [
    "[False, False] and [False, True]"
   ]
  },
  {
   "cell_type": "code",
   "execution_count": null,
   "metadata": {
    "collapsed": true
   },
   "outputs": [],
   "source": [
    "def beta_hedging_ret(betas, market_ret, port_ret):\n",
    "    assert len(market_ret) == len(betas) == len(port_ret), 'Beta, Market, Portfolio returns should have same dimension'\n",
    "    assert any(np.isnan(betas)), 'beta contains nan'\n",
    "    assert any(np.isnan(market_ret)), 'market contains nan'\n",
    "    assert any(np.isnan(port_ret)), 'portfolio contains nan'\n",
    "    \n",
    "    return np.array(port_ret) - np.array(betas)*np.array(market_ret)\n",
    "    "
   ]
  },
  {
   "cell_type": "code",
   "execution_count": 33,
   "metadata": {
    "collapsed": false,
    "scrolled": true
   },
   "outputs": [
    {
     "name": "stdout",
     "output_type": "stream",
     "text": [
      "Number of assets in market at the end: 58\n"
     ]
    }
   ],
   "source": [
    "print \"Number of assets in market at the end:\", len(hedge.market)"
   ]
  },
  {
   "cell_type": "code",
   "execution_count": 67,
   "metadata": {
    "collapsed": true
   },
   "outputs": [],
   "source": [
    "st, bm = st10000, bm10000"
   ]
  },
  {
   "cell_type": "code",
   "execution_count": 68,
   "metadata": {
    "collapsed": false
   },
   "outputs": [
    {
     "data": {
      "text/plain": [
       "<matplotlib.text.Text at 0x10a586e50>"
      ]
     },
     "execution_count": 68,
     "metadata": {},
     "output_type": "execute_result"
    },
    {
     "data": {
      "image/png": "[encoded data removed]",
      "text/plain": [
       "<matplotlib.figure.Figure at 0x10b47f2d0>"
      ]
     },
     "metadata": {},
     "output_type": "display_data"
    }
   ],
   "source": [
    "plt.plot(-st)\n",
    "plt.xlabel(\"Iterations\")\n",
    "plt.ylabel(\"Sharpe ratio\")"
   ]
  },
  {
   "cell_type": "code",
   "execution_count": 35,
   "metadata": {
    "collapsed": false
   },
   "outputs": [
    {
     "data": {
      "text/plain": [
       "<matplotlib.text.Text at 0x1122fbd50>"
      ]
     },
     "execution_count": 35,
     "metadata": {},
     "output_type": "execute_result"
    },
    {
     "data": {
      "image/png": "[encoded data removed]",
      "text/plain": [
       "<matplotlib.figure.Figure at 0x10c3293d0>"
      ]
     },
     "metadata": {},
     "output_type": "display_data"
    }
   ],
   "source": [
    "plt.plot(-st[:200])\n",
    "plt.xlabel(\"Iterations\")\n",
    "plt.ylabel(\"Sharpe ratio\")"
   ]
  },
  {
   "cell_type": "markdown",
   "metadata": {},
   "source": [
    "## Results"
   ]
  },
  {
   "cell_type": "code",
   "execution_count": 43,
   "metadata": {
    "collapsed": false
   },
   "outputs": [],
   "source": [
    "hedge.market = bm10000"
   ]
  },
  {
   "cell_type": "code",
   "execution_count": 45,
   "metadata": {
    "collapsed": false
   },
   "outputs": [
    {
     "data": {
      "text/plain": [
       "array([        nan,  0.94224126,  0.9485192 ,  0.94896991,  0.95363542,\n",
       "        0.98912742,  1.00113856,  0.99786763,  0.9879222 ,  1.01226238,\n",
       "        0.99285234,  0.99484613,  0.99633578,  0.98342301,  0.98749867,\n",
       "        0.99541144,  0.96726145,  0.99315822,  0.98514138,  0.98905036,\n",
       "        1.00035464,  1.01104151,  0.96857732,  0.95919993,  0.95194687,\n",
       "        1.00396313,  1.01183007,  1.00783009,  1.00898205,  1.00859054,\n",
       "        1.05483269,  1.0698653 ,  1.08068707,  1.07647495,  1.104046  ,\n",
       "        1.09601278,  1.07622146,  1.12685256,  1.11018536,  1.10546923,\n",
       "        1.10284255,  1.12236518,  1.176607  ,  1.17645524,  1.19074437,\n",
       "        1.19112678,  1.17986829,  1.15335748,  1.16217307,  1.16409613,\n",
       "        1.17666636,  1.17644639,  1.15521161,  1.14383311,  1.14999379,\n",
       "        1.15428329,  1.14287105,  1.1416266 ,  1.14636244,  1.14533951,\n",
       "        1.12513631,  1.13079753,  1.13168301,  1.13288549,  1.09546705,\n",
       "        1.02991078,  0.98694635,  0.98430901,  0.95941905,  0.87945809,\n",
       "        0.90757836,  0.91213993,  0.89830381,  0.93022216,  0.93307584,\n",
       "        0.91738248,  0.89967234,  0.94571228,  0.91249728,  0.8867995 ,\n",
       "        0.85769636,  0.86583257,  0.85548199,  0.85761017,  0.86744733,\n",
       "        0.88357228,  0.8899603 ,  0.89666479,  0.91081145,  0.90821974,\n",
       "        0.84190152,  0.79444062,  0.79538895,  0.77179635,  0.7780159 ,\n",
       "        0.79468169,  0.78211474,  0.7781892 ,  0.81483242,  0.81800764,\n",
       "        0.80952656,  0.82367374,  0.82525537,  0.82272398,  0.8271533 ,\n",
       "        0.82335974,  0.82069366,  0.79583463,  0.78959274,  0.79663323,\n",
       "        0.80008647,  0.7903802 ,  0.81099822,  0.82435153,  0.83127359,\n",
       "        0.82576766,  0.83092975,  0.8557635 ,  0.8691838 ,  0.87228252,\n",
       "        0.88027172,  0.88070389,  0.77906148,  0.77207091,  0.78446206,\n",
       "        0.81964247,  0.84403432,  0.86180035,  0.88253255,  0.92546063,\n",
       "        0.96296323,  0.94848615,  0.98675088,  0.9501237 ,  0.98680265,\n",
       "        0.97618849,  0.98641119,  0.93352631,  0.98027176,  0.99458847,\n",
       "        1.02899103,  1.03005621,  1.0493242 ,  1.06065556,  1.04037273,\n",
       "        1.04642083,  1.03948086,  1.03177765,  1.06383178,  1.06024334,\n",
       "        1.04938562,  1.07175272,  1.06947821,  1.09601692,  1.1009572 ,\n",
       "        1.00909923,  1.00673758,  0.99173353,  0.96009355,  0.94916938,\n",
       "        0.96606923,  0.96182141,  0.95928057,  0.94634493,  0.95269883,\n",
       "        0.95483269,  0.96338933,  0.99377017,  0.99432412,  0.99426936,\n",
       "        0.95921226,  0.95913243,  0.94424478,  0.93162845,  0.92837569,\n",
       "        0.92687026,  0.93972901,  0.93361174,  0.93540656,  0.87464339,\n",
       "        0.87815509,  0.8633925 ,  0.93379527,  0.95693425,  0.96304396,\n",
       "        0.9477379 ,  0.94859154,  0.94215113,  0.93544102,  0.90517173,\n",
       "        0.88798091,  0.88508319])"
      ]
     },
     "execution_count": 45,
     "metadata": {},
     "output_type": "execute_result"
    }
   ],
   "source": [
    "betas"
   ]
  },
  {
   "cell_type": "code",
   "execution_count": 44,
   "metadata": {
    "collapsed": false
   },
   "outputs": [
    {
     "name": "stdout",
     "output_type": "stream",
     "text": [
      "Absolute Value of Correlation with S&P: 0.219284239064\n",
      "Volatility: 6.91059432465\n",
      "Sharpe Ratio: -0.069528669458\n",
      "Relative Return: -9.12920414259 %\n",
      "S&P Return 12.3865939845 %\n"
     ]
    }
   ],
   "source": [
    "_,betas = get_beta(hedge.dollar_portfolio_sum_ret, hedge.dollar_market_sum_ret)\n",
    "\n",
    "hedged_returns_dollars = beta_hedging(pd.Series(betas, index=hedge.dollar_market_sum[60:].index), \\\n",
    "                                          hedge.dollar_market_sum[60:], hedge.dollar_portfolio_sum[60:])\n",
    "hedged_returns_dollars = hedged_returns_dollars.values.reshape(hedged_returns_dollars.shape[0])\n",
    "\n",
    "p = hedged_returns_dollars[1:]\n",
    "m = hedge.spy.pct_change()[61:][1:]\n",
    "print \"Absolute Value of Correlation with S&P:\", correlation(p,m)\n",
    "print \"Volatility:\", volatility(p,m)\n",
    "print \"Sharpe Ratio:\", -sharpe(p,m)\n",
    "print \"Relative Return:\", 100*(np.sum(hedged_returns_dollars[1:])/1000.), \"%\"\n",
    "print \"S&P Return\", (hedge.spy[-1]-hedge.spy[0])/hedge.spy[0]*100, \"%\""
   ]
  },
  {
   "cell_type": "markdown",
   "metadata": {},
   "source": [
    "## Baseline"
   ]
  },
  {
   "cell_type": "code",
   "execution_count": 38,
   "metadata": {
    "collapsed": false
   },
   "outputs": [
    {
     "name": "stdout",
     "output_type": "stream",
     "text": [
      "Absolute Value of Correlation with S&P: 0.0845391264481\n",
      "Volatility: 7.35390787197\n",
      "Sharpe Ratio: -0.0210670008975\n",
      "Relative Return: -2.94357089104 %\n",
      "S&P Return 12.3865939845 %\n"
     ]
    }
   ],
   "source": [
    "_,betas = get_beta(hedge.dollar_portfolio_sum_ret, hedge.spy.pct_change())\n",
    "\n",
    "hedged_returns_dollars = beta_hedging(pd.Series(betas, index=hedge.dollar_market_sum[60:].index), \\\n",
    "                                          hedge.spy[60:], hedge.dollar_portfolio_sum[60:])\n",
    "hedged_returns_dollars = hedged_returns_dollars.values.reshape(hedged_returns_dollars.shape[0])\n",
    "\n",
    "p = hedged_returns_dollars[1:]\n",
    "m = hedge.spy.pct_change()[61:][1:]\n",
    "print \"Absolute Value of Correlation with S&P:\", correlation(p,m)\n",
    "print \"Volatility:\", volatility(p,m)\n",
    "print \"Sharpe Ratio:\", -sharpe(p,m)\n",
    "print \"Relative Return:\", 100*(np.sum(hedged_returns_dollars[1:])/1000.), \"%\"\n",
    "print \"S&P Return\", (hedge.spy[-1]-hedge.spy[0])/hedge.spy[0]*100, \"%\""
   ]
  },
  {
   "cell_type": "markdown",
   "metadata": {
    "collapsed": true
   },
   "source": [
    "## "
   ]
  },
  {
   "cell_type": "code",
   "execution_count": 51,
   "metadata": {
    "collapsed": false
   },
   "outputs": [],
   "source": [
    "hedge.market = bm"
   ]
  },
  {
   "cell_type": "code",
   "execution_count": 56,
   "metadata": {
    "collapsed": false
   },
   "outputs": [
    {
     "data": {
      "text/plain": [
       "192"
      ]
     },
     "execution_count": 56,
     "metadata": {},
     "output_type": "execute_result"
    }
   ],
   "source": [
    "len(betas)"
   ]
  },
  {
   "cell_type": "code",
   "execution_count": 59,
   "metadata": {
    "collapsed": false
   },
   "outputs": [],
   "source": [
    "dollarreturns = hedge.dollar_portfolio_sum[60:] - hedge.dollar_market_sum[60:]*betas"
   ]
  },
  {
   "cell_type": "code",
   "execution_count": 61,
   "metadata": {
    "collapsed": true
   },
   "outputs": [],
   "source": [
    "import matplotlib.pyplot as plt\n",
    "%matplotlib inline"
   ]
  },
  {
   "cell_type": "code",
   "execution_count": 65,
   "metadata": {
    "collapsed": false
   },
   "outputs": [
    {
     "data": {
      "text/plain": [
       "[<matplotlib.lines.Line2D at 0x10b2df5d0>]"
      ]
     },
     "execution_count": 65,
     "metadata": {},
     "output_type": "execute_result"
    },
    {
     "data": {
      "image/png": "[encoded data removed]",
      "text/plain": [
       "<matplotlib.figure.Figure at 0x10b47fc90>"
      ]
     },
     "metadata": {},
     "output_type": "display_data"
    }
   ],
   "source": [
    "plt.plot(dollarreturns.values)\n",
    "plt.plot(hedge.dollar_portfolio_sum[60:].values)"
   ]
  },
  {
   "cell_type": "code",
   "execution_count": null,
   "metadata": {
    "collapsed": true
   },
   "outputs": [],
   "source": [
    "plt.plot(hedge.dollar_portfolio_sum)"
   ]
  },
  {
   "cell_type": "code",
   "execution_count": null,
   "metadata": {
    "collapsed": true
   },
   "outputs": [],
   "source": []
  }
 ],
 "metadata": {
  "kernelspec": {
   "display_name": "Python 2",
   "language": "python",
   "name": "python2"
  },
  "language_info": {
   "codemirror_mode": {
    "name": "ipython",
    "version": 2
   },
   "file_extension": ".py",
   "mimetype": "text/x-python",
   "name": "python",
   "nbconvert_exporter": "python",
   "pygments_lexer": "ipython2",
   "version": "2.7.11"
  }
 },
 "nbformat": 4,
 "nbformat_minor": 0
}
