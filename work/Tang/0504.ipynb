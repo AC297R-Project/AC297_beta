{
 "cells": [
  {
   "cell_type": "code",
   "execution_count": 1,
   "metadata": {
    "collapsed": true
   },
   "outputs": [],
   "source": [
    "import numpy as np\n",
    "import matplotlib.pyplot as plt\n",
    "%matplotlib inline"
   ]
  },
  {
   "cell_type": "code",
   "execution_count": 2,
   "metadata": {
    "collapsed": true
   },
   "outputs": [],
   "source": [
    "import pandas as pd\n",
    "import sys\n",
    "sys.path.append('../../source/')\n",
    "\n",
    "from Hedge import Hedge\n",
    "from BetaUtils import beta_hedging_ret, get_beta\n",
    "from energy_functions import correlation, neg_returns, neg_sharpe, volatility\n"
   ]
  },
  {
   "cell_type": "code",
   "execution_count": null,
   "metadata": {
    "collapsed": true
   },
   "outputs": [],
   "source": [
    "portfolios = []\n",
    "with open('./portfolios_quarterly.txt') as f:\n",
    "    for i,line in enumerate(f):\n",
    "        l = line.split(',')\n",
    "        portfolios.append(l[1:-1])\n",
    "        portfolios[-1].append(l[-1][:-1])"
   ]
  },
  {
   "cell_type": "code",
   "execution_count": 14,
   "metadata": {
    "collapsed": false
   },
   "outputs": [
    {
     "data": {
      "text/plain": [
       "4000"
      ]
     },
     "execution_count": 14,
     "metadata": {},
     "output_type": "execute_result"
    }
   ],
   "source": [
    "len(portfolios)"
   ]
  },
  {
   "cell_type": "code",
   "execution_count": null,
   "metadata": {
    "collapsed": true
   },
   "outputs": [],
   "source": []
  },
  {
   "cell_type": "code",
   "execution_count": 15,
   "metadata": {
    "collapsed": true
   },
   "outputs": [],
   "source": [
    "hedge = Hedge(stocksdir='../../data/all_stocks.csv', spydir='../../data/spy.csv', begindate='2005-01-01',enddate='2006-03-31')"
   ]
  },
  {
   "cell_type": "code",
   "execution_count": 16,
   "metadata": {
    "collapsed": true
   },
   "outputs": [],
   "source": [
    "def rankCorr(hedge):\n",
    "    portRet = hedge.dollar_portfolio_sum_ret.values\n",
    "    \n",
    "    corr_tuple_array = []\n",
    "    \n",
    "    for stock in hedge.stockuniverse:\n",
    "        if stock not in hedge.portfolio:\n",
    "            s_ret = hedge.allstock_return[stock].values\n",
    "            assert len(portRet) ==len(s_ret)\n",
    "            corr = np.abs(np.corrcoef(portRet[1:], s_ret[1:]))[0,1]\n",
    "            corr_tuple_array.append((stock, corr))\n",
    "            \n",
    "    return corr_tuple_array"
   ]
  },
  {
   "cell_type": "code",
   "execution_count": 17,
   "metadata": {
    "collapsed": true
   },
   "outputs": [],
   "source": [
    "hedge.portfolio = portfolios[0]"
   ]
  },
  {
   "cell_type": "code",
   "execution_count": 18,
   "metadata": {
    "collapsed": false
   },
   "outputs": [
    {
     "name": "stdout",
     "output_type": "stream",
     "text": [
      "CPU times: user 1min 49s, sys: 20.6 s, total: 2min 10s\n",
      "Wall time: 1min 40s\n"
     ]
    }
   ],
   "source": [
    "%%time\n",
    "corr_dict_res = rankCorr(hedge)"
   ]
  },
  {
   "cell_type": "code",
   "execution_count": 20,
   "metadata": {
    "collapsed": false
   },
   "outputs": [],
   "source": [
    "sort_ind = np.array([i[1] for i in corr_dict_res]).argsort()"
   ]
  },
  {
   "cell_type": "code",
   "execution_count": 22,
   "metadata": {
    "collapsed": false
   },
   "outputs": [],
   "source": [
    "highcorrmarket = np.array(corr_dict_res)[sort_ind][:,0]"
   ]
  },
  {
   "cell_type": "code",
   "execution_count": 29,
   "metadata": {
    "collapsed": false
   },
   "outputs": [
    {
     "name": "stdout",
     "output_type": "stream",
     "text": [
      "MOS , KEP , UNH , SNH , CNOB , DVAX , HTLF , SCX , CTG , IP , KATE , OPXA , PHM , GPM , GENC , CHEV , OMC , EIP , AVNW , RFI , XL , CMN , CALM , SNHY , TUP , DKS , QBAK , FINL , CSWC , HUM , HYF , CCC , CSH , NCA , PFIN , HEI , PUK , QUIK , SRDX , GROW , FAM , URI , NOM , CERN , CFFI , TRT , URBN , LFC , ESCA , RTIX ,\n"
     ]
    }
   ],
   "source": [
    "for i in portfolios[0]:\n",
    "    print i, ',',"
   ]
  },
  {
   "cell_type": "code",
   "execution_count": 27,
   "metadata": {
    "collapsed": false
   },
   "outputs": [
    {
     "name": "stdout",
     "output_type": "stream",
     "text": [
      "WSCI , MCI , MXC , AXGN , CXE , ELLO , STRM , NEON , INTT , PRCP , SGRP , HDSN , OPOF , SBW , EVI , NTIP , GYB , VCF , CRDS , INSM ,\n"
     ]
    }
   ],
   "source": [
    "for i in highcorrmarket[:20]:\n",
    "    print i, ',',"
   ]
  },
  {
   "cell_type": "code",
   "execution_count": null,
   "metadata": {
    "collapsed": true
   },
   "outputs": [],
   "source": []
  }
 ],
 "metadata": {
  "kernelspec": {
   "display_name": "Python 2",
   "language": "python",
   "name": "python2"
  },
  "language_info": {
   "codemirror_mode": {
    "name": "ipython",
    "version": 2
   },
   "file_extension": ".py",
   "mimetype": "text/x-python",
   "name": "python",
   "nbconvert_exporter": "python",
   "pygments_lexer": "ipython2",
   "version": "2.7.11"
  }
 },
 "nbformat": 4,
 "nbformat_minor": 0
}
