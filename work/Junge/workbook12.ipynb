{
 "cells": [
  {
   "cell_type": "code",
   "execution_count": 4,
   "metadata": {
    "collapsed": false
   },
   "outputs": [
    {
     "name": "stdout",
     "output_type": "stream",
     "text": [
      "2010-08-01,2011-08-01,2011-08-02,2013-08-02,60,0,0,0.01,0.99,0.001,100,20000,1,0,0,0,0\n",
      "2010-08-01,2011-08-01,2011-08-02,2013-08-02,60,1,1,0.01,0.99,0.001,100,20000,1,0,0,0,0\n",
      "2010-08-01,2011-08-01,2011-08-02,2013-08-02,60,2,2,0.01,0.99,0.001,100,20000,1,0,0,0,0\n",
      "2010-08-01,2011-08-01,2011-08-02,2013-08-02,60,3,3,0.01,0.99,0.001,100,20000,1,0,0,0,0\n",
      "2010-08-01,2011-08-01,2011-08-02,2013-08-02,60,4,4,0.01,0.99,0.001,100,20000,1,0,0,0,0\n",
      "2010-08-01,2011-08-01,2011-08-02,2013-08-02,60,5,5,0.01,0.99,0.001,100,20000,1,0,0,0,0\n",
      "2010-08-01,2011-08-01,2011-08-02,2013-08-02,60,6,6,0.01,0.99,0.001,100,20000,1,0,0,0,0\n",
      "2010-08-01,2011-08-01,2011-08-02,2013-08-02,60,7,7,0.01,0.99,0.001,100,20000,1,0,0,0,0\n",
      "2010-08-01,2011-08-01,2011-08-02,2013-08-02,60,8,8,0.01,0.99,0.001,100,20000,1,0,0,0,0\n",
      "2010-08-01,2011-08-01,2011-08-02,2013-08-02,60,9,9,0.01,0.99,0.001,100,20000,1,0,0,0,0\n"
     ]
    }
   ],
   "source": [
    "for j in range(10):\n",
    "    i=str(j)\n",
    "    print '2010-08-01,2011-08-01,2011-08-02,2013-08-02,60,'+i+','+i+',0.01,0.99,0.001,100,20000,1,0,0,0,0'"
   ]
  },
  {
   "cell_type": "code",
   "execution_count": 51,
   "metadata": {
    "collapsed": true
   },
   "outputs": [],
   "source": [
    "with open('in.txt', 'w') as f:\n",
    "    f.write(\"your mom\\n\")\n",
    "    for j in range(20):\n",
    "        i=str(j)\n",
    "        ba= '2010-08-01,2011-08-01,2011-08-02,2012-08-02,60,'+i+','+i+',0.01,0.99,0.001,100,10000,0,1,0,0,0\\n'\n",
    "        f.write(ba)"
   ]
  },
  {
   "cell_type": "code",
   "execution_count": 52,
   "metadata": {
    "collapsed": true
   },
   "outputs": [],
   "source": [
    "with open('test.txt', 'w') as f:\n",
    "    f.write(\"your mom\\n\")\n",
    "    for j in range(20):\n",
    "        i=str(j)\n",
    "        ba= '2010-08-01,2011-08-01,2011-08-02,2012-08-02,60,'+i+','+i+',0.01,0.99,0.001,100,20,0,1,0,0,0\\n'\n",
    "        f.write(ba)"
   ]
  },
  {
   "cell_type": "code",
   "execution_count": 10,
   "metadata": {
    "collapsed": false
   },
   "outputs": [],
   "source": [
    "import sys\n",
    "sys.path.append('../../source/')"
   ]
  },
  {
   "cell_type": "code",
   "execution_count": 11,
   "metadata": {
    "collapsed": false
   },
   "outputs": [],
   "source": [
    "from Hedge import Hedge"
   ]
  },
  {
   "cell_type": "code",
   "execution_count": 12,
   "metadata": {
    "collapsed": true
   },
   "outputs": [],
   "source": [
    "hedge = Hedge('../../data/all_stocks.csv','../../data/spy.csv', begindate='2010-08-01', enddate='2012-08-01')"
   ]
  },
  {
   "cell_type": "code",
   "execution_count": 44,
   "metadata": {
    "collapsed": true
   },
   "outputs": [],
   "source": [
    "with open('portfolios.txt','w') as f:\n",
    "    for j in range(10):\n",
    "        a = str(hedge.generateRandomPort(50))\n",
    "        b = a.replace(\"[\",'').replace(\"]\",'').replace(\"\\n\",'').replace(' ',',')\n",
    "        f.write(str(j)+','+b+'\\n')"
   ]
  },
  {
   "cell_type": "code",
   "execution_count": 46,
   "metadata": {
    "collapsed": true
   },
   "outputs": [],
   "source": [
    "with open('markets.txt','w') as f:\n",
    "    for j in range(10):\n",
    "        a = str(hedge.generateRandomMarket(100))\n",
    "        b = a.replace(\"[\",'').replace(\"]\",'').replace(\"\\n\",'').replace(' ',',')\n",
    "        f.write(str(j)+','+b+'\\n')"
   ]
  },
  {
   "cell_type": "code",
   "execution_count": null,
   "metadata": {
    "collapsed": true
   },
   "outputs": [],
   "source": []
  }
 ],
 "metadata": {
  "kernelspec": {
   "display_name": "Python 2",
   "language": "python",
   "name": "python2"
  },
  "language_info": {
   "codemirror_mode": {
    "name": "ipython",
    "version": 2
   },
   "file_extension": ".py",
   "mimetype": "text/x-python",
   "name": "python",
   "nbconvert_exporter": "python",
   "pygments_lexer": "ipython2",
   "version": "2.7.11"
  }
 },
 "nbformat": 4,
 "nbformat_minor": 0
}
