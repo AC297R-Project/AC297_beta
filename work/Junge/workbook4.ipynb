{
 "cells": [
  {
   "cell_type": "code",
   "execution_count": 1,
   "metadata": {
    "collapsed": true
   },
   "outputs": [],
   "source": [
    "import pandas as pd\n",
    "import numpy as np\n",
    "%matplotlib inline\n",
    "import matplotlib.pyplot as plt\n",
    "import sys\n",
    "import scipy\n",
    "import pickle"
   ]
  },
  {
   "cell_type": "code",
   "execution_count": 2,
   "metadata": {
    "collapsed": false
   },
   "outputs": [],
   "source": [
    "# Read in Full Data Set that Jonathan created\n",
    "stock_df = pd.read_csv('../../data/all_stocks.csv')"
   ]
  },
  {
   "cell_type": "code",
   "execution_count": 6,
   "metadata": {
    "collapsed": false
   },
   "outputs": [],
   "source": [
    "# Utility to convert dates to ints so that they can be compared\n",
    "def date_to_int(date):\n",
    "    year = date[0:4]\n",
    "    month = date[5:7]\n",
    "    day = date[8:10]\n",
    "    return int(year+month+day)"
   ]
  },
  {
   "cell_type": "code",
   "execution_count": 40,
   "metadata": {
    "collapsed": false
   },
   "outputs": [
    {
     "data": {
      "text/plain": [
       "(2870, 4912)"
      ]
     },
     "execution_count": 40,
     "metadata": {},
     "output_type": "execute_result"
    }
   ],
   "source": [
    "np.shape(stock_df)"
   ]
  },
  {
   "cell_type": "code",
   "execution_count": 4,
   "metadata": {
    "collapsed": false
   },
   "outputs": [],
   "source": [
    "# Load Jonathan's dict of stocks for each year\n",
    "with open('../../data/valid_stocks_by_year.txt', 'rb') as f:\n",
    "    valid_years= pickle.load(f)"
   ]
  },
  {
   "cell_type": "code",
   "execution_count": 87,
   "metadata": {
    "collapsed": false
   },
   "outputs": [
    {
     "data": {
      "text/plain": [
       "['A', 'AA', 'AAL', 'AAME', 'AAN', 'AAON', 'AAP', 'AAPL', 'AAU', 'AAV']"
      ]
     },
     "execution_count": 87,
     "metadata": {},
     "output_type": "execute_result"
    }
   ],
   "source": [
    "valid_years[2006][0:10]"
   ]
  },
  {
   "cell_type": "code",
   "execution_count": 7,
   "metadata": {
    "collapsed": false
   },
   "outputs": [],
   "source": [
    "# Convert Date to int, and set this column as the index\n",
    "stock_df['Date'] = stock_df['Date'].apply(date_to_int)\n",
    "stock_df = stock_df.set_index('Date')"
   ]
  },
  {
   "cell_type": "code",
   "execution_count": 8,
   "metadata": {
    "collapsed": false,
    "scrolled": true
   },
   "outputs": [
    {
     "data": {
      "text/html": [
       "<div>\n",
       "<table border=\"1\" class=\"dataframe\">\n",
       "  <thead>\n",
       "    <tr style=\"text-align: right;\">\n",
       "      <th></th>\n",
       "      <th>A</th>\n",
       "      <th>AA</th>\n",
       "      <th>AAC</th>\n",
       "      <th>AAL</th>\n",
       "      <th>AAMC</th>\n",
       "      <th>AAME</th>\n",
       "      <th>AAN</th>\n",
       "      <th>AAOI</th>\n",
       "      <th>AAON</th>\n",
       "      <th>AAP</th>\n",
       "      <th>...</th>\n",
       "      <th>ZIXI</th>\n",
       "      <th>ZLTQ</th>\n",
       "      <th>ZN</th>\n",
       "      <th>ZNGA</th>\n",
       "      <th>ZNH</th>\n",
       "      <th>ZOES</th>\n",
       "      <th>ZTR</th>\n",
       "      <th>ZTS</th>\n",
       "      <th>ZUMZ</th>\n",
       "      <th>ZX</th>\n",
       "    </tr>\n",
       "    <tr>\n",
       "      <th>Date</th>\n",
       "      <th></th>\n",
       "      <th></th>\n",
       "      <th></th>\n",
       "      <th></th>\n",
       "      <th></th>\n",
       "      <th></th>\n",
       "      <th></th>\n",
       "      <th></th>\n",
       "      <th></th>\n",
       "      <th></th>\n",
       "      <th></th>\n",
       "      <th></th>\n",
       "      <th></th>\n",
       "      <th></th>\n",
       "      <th></th>\n",
       "      <th></th>\n",
       "      <th></th>\n",
       "      <th></th>\n",
       "      <th></th>\n",
       "      <th></th>\n",
       "      <th></th>\n",
       "    </tr>\n",
       "  </thead>\n",
       "  <tbody>\n",
       "    <tr>\n",
       "      <th>20050103</th>\n",
       "      <td>15.459416</td>\n",
       "      <td>25.595159</td>\n",
       "      <td>NaN</td>\n",
       "      <td>NaN</td>\n",
       "      <td>NaN</td>\n",
       "      <td>2.903700</td>\n",
       "      <td>14.214059</td>\n",
       "      <td>NaN</td>\n",
       "      <td>2.597803</td>\n",
       "      <td>27.796861</td>\n",
       "      <td>...</td>\n",
       "      <td>4.99</td>\n",
       "      <td>NaN</td>\n",
       "      <td>NaN</td>\n",
       "      <td>NaN</td>\n",
       "      <td>13.24</td>\n",
       "      <td>NaN</td>\n",
       "      <td>21.24</td>\n",
       "      <td>NaN</td>\n",
       "      <td>NaN</td>\n",
       "      <td>NaN</td>\n",
       "    </tr>\n",
       "    <tr>\n",
       "      <th>20050104</th>\n",
       "      <td>15.051570</td>\n",
       "      <td>25.132646</td>\n",
       "      <td>NaN</td>\n",
       "      <td>NaN</td>\n",
       "      <td>NaN</td>\n",
       "      <td>2.979366</td>\n",
       "      <td>13.567962</td>\n",
       "      <td>NaN</td>\n",
       "      <td>2.578764</td>\n",
       "      <td>27.611764</td>\n",
       "      <td>...</td>\n",
       "      <td>4.83</td>\n",
       "      <td>NaN</td>\n",
       "      <td>NaN</td>\n",
       "      <td>NaN</td>\n",
       "      <td>12.98</td>\n",
       "      <td>NaN</td>\n",
       "      <td>21.12</td>\n",
       "      <td>NaN</td>\n",
       "      <td>NaN</td>\n",
       "      <td>NaN</td>\n",
       "    </tr>\n",
       "    <tr>\n",
       "      <th>20050105</th>\n",
       "      <td>15.045100</td>\n",
       "      <td>24.983980</td>\n",
       "      <td>NaN</td>\n",
       "      <td>NaN</td>\n",
       "      <td>NaN</td>\n",
       "      <td>2.932075</td>\n",
       "      <td>13.710107</td>\n",
       "      <td>NaN</td>\n",
       "      <td>2.570107</td>\n",
       "      <td>27.662822</td>\n",
       "      <td>...</td>\n",
       "      <td>4.75</td>\n",
       "      <td>NaN</td>\n",
       "      <td>NaN</td>\n",
       "      <td>NaN</td>\n",
       "      <td>12.77</td>\n",
       "      <td>NaN</td>\n",
       "      <td>21.04</td>\n",
       "      <td>NaN</td>\n",
       "      <td>NaN</td>\n",
       "      <td>NaN</td>\n",
       "    </tr>\n",
       "    <tr>\n",
       "      <th>20050106</th>\n",
       "      <td>14.714933</td>\n",
       "      <td>25.091349</td>\n",
       "      <td>NaN</td>\n",
       "      <td>NaN</td>\n",
       "      <td>NaN</td>\n",
       "      <td>2.856408</td>\n",
       "      <td>13.567962</td>\n",
       "      <td>NaN</td>\n",
       "      <td>2.532028</td>\n",
       "      <td>27.637299</td>\n",
       "      <td>...</td>\n",
       "      <td>4.53</td>\n",
       "      <td>NaN</td>\n",
       "      <td>NaN</td>\n",
       "      <td>NaN</td>\n",
       "      <td>12.71</td>\n",
       "      <td>NaN</td>\n",
       "      <td>21.04</td>\n",
       "      <td>NaN</td>\n",
       "      <td>NaN</td>\n",
       "      <td>NaN</td>\n",
       "    </tr>\n",
       "    <tr>\n",
       "      <th>20050107</th>\n",
       "      <td>14.701983</td>\n",
       "      <td>25.347384</td>\n",
       "      <td>NaN</td>\n",
       "      <td>NaN</td>\n",
       "      <td>NaN</td>\n",
       "      <td>3.036116</td>\n",
       "      <td>13.005861</td>\n",
       "      <td>NaN</td>\n",
       "      <td>2.499154</td>\n",
       "      <td>27.477727</td>\n",
       "      <td>...</td>\n",
       "      <td>4.52</td>\n",
       "      <td>NaN</td>\n",
       "      <td>NaN</td>\n",
       "      <td>NaN</td>\n",
       "      <td>12.44</td>\n",
       "      <td>NaN</td>\n",
       "      <td>21.12</td>\n",
       "      <td>NaN</td>\n",
       "      <td>NaN</td>\n",
       "      <td>NaN</td>\n",
       "    </tr>\n",
       "  </tbody>\n",
       "</table>\n",
       "<p>5 rows × 4911 columns</p>\n",
       "</div>"
      ],
      "text/plain": [
       "                  A         AA  AAC  AAL  AAMC      AAME        AAN  AAOI  \\\n",
       "Date                                                                        \n",
       "20050103  15.459416  25.595159  NaN  NaN   NaN  2.903700  14.214059   NaN   \n",
       "20050104  15.051570  25.132646  NaN  NaN   NaN  2.979366  13.567962   NaN   \n",
       "20050105  15.045100  24.983980  NaN  NaN   NaN  2.932075  13.710107   NaN   \n",
       "20050106  14.714933  25.091349  NaN  NaN   NaN  2.856408  13.567962   NaN   \n",
       "20050107  14.701983  25.347384  NaN  NaN   NaN  3.036116  13.005861   NaN   \n",
       "\n",
       "              AAON        AAP ...  ZIXI  ZLTQ  ZN  ZNGA    ZNH  ZOES    ZTR  \\\n",
       "Date                          ...                                             \n",
       "20050103  2.597803  27.796861 ...  4.99   NaN NaN   NaN  13.24   NaN  21.24   \n",
       "20050104  2.578764  27.611764 ...  4.83   NaN NaN   NaN  12.98   NaN  21.12   \n",
       "20050105  2.570107  27.662822 ...  4.75   NaN NaN   NaN  12.77   NaN  21.04   \n",
       "20050106  2.532028  27.637299 ...  4.53   NaN NaN   NaN  12.71   NaN  21.04   \n",
       "20050107  2.499154  27.477727 ...  4.52   NaN NaN   NaN  12.44   NaN  21.12   \n",
       "\n",
       "          ZTS  ZUMZ  ZX  \n",
       "Date                     \n",
       "20050103  NaN   NaN NaN  \n",
       "20050104  NaN   NaN NaN  \n",
       "20050105  NaN   NaN NaN  \n",
       "20050106  NaN   NaN NaN  \n",
       "20050107  NaN   NaN NaN  \n",
       "\n",
       "[5 rows x 4911 columns]"
      ]
     },
     "execution_count": 8,
     "metadata": {},
     "output_type": "execute_result"
    }
   ],
   "source": [
    "stock_df.head()"
   ]
  },
  {
   "cell_type": "code",
   "execution_count": 50,
   "metadata": {
    "collapsed": true
   },
   "outputs": [],
   "source": [
    "# Create random portfolio\n",
    "\n",
    "# Pick stocks\n",
    "sample_portfolio = np.random.choice(valid_years[2007],10)\n",
    "\n",
    "# Take just the dates in 2007\n",
    "portfolio_2007 = stock_df[sample_portfolio][np.logical_and(stock_df.index > 20061231, stock_df.index < 20080101)]\n",
    "\n",
    "# Get rid of rows that have NaN's\n",
    "portfolio_2007 = portfolio_2007.dropna()"
   ]
  },
  {
   "cell_type": "code",
   "execution_count": 9,
   "metadata": {
    "collapsed": false
   },
   "outputs": [],
   "source": [
    "sample = np.random.choice(valid_years[2006],10)"
   ]
  },
  {
   "cell_type": "code",
   "execution_count": 17,
   "metadata": {
    "collapsed": false
   },
   "outputs": [],
   "source": [
    "abc = stock_df[sample][np.logical_and(stock_df.index >20051231, stock_df.index < 20070101)].dropna()"
   ]
  },
  {
   "cell_type": "code",
   "execution_count": 20,
   "metadata": {
    "collapsed": false
   },
   "outputs": [
    {
     "data": {
      "text/plain": [
       "Date\n",
       "20160222    1945.500000\n",
       "20160219    1917.780029\n",
       "20160218    1917.829956\n",
       "20160217    1926.819946\n",
       "20160216    1895.579956\n",
       "Name: Close, dtype: float64"
      ]
     },
     "execution_count": 20,
     "metadata": {},
     "output_type": "execute_result"
    }
   ],
   "source": [
    "# Index data\n",
    "spy = pd.read_csv('../../data/spy.csv')\n",
    "spy['Date'] = spy['Date'].apply(date_to_int)\n",
    "\n",
    "# Reset index of the df, and take just the Close column\n",
    "spy = spy.set_index('Date')['Close']\n",
    "spy.head()"
   ]
  },
  {
   "cell_type": "code",
   "execution_count": 46,
   "metadata": {
    "collapsed": true
   },
   "outputs": [],
   "source": [
    "spy_2006= spy[np.logical_and(spy.index>20051231, spy.index<20070101)]"
   ]
  },
  {
   "cell_type": "code",
   "execution_count": 23,
   "metadata": {
    "collapsed": false
   },
   "outputs": [
    {
     "data": {
      "text/html": [
       "<div>\n",
       "<table border=\"1\" class=\"dataframe\">\n",
       "  <thead>\n",
       "    <tr style=\"text-align: right;\">\n",
       "      <th></th>\n",
       "      <th>MFL</th>\n",
       "      <th>EQIX</th>\n",
       "      <th>SSFN</th>\n",
       "      <th>MLR</th>\n",
       "      <th>BECN</th>\n",
       "      <th>ITUB</th>\n",
       "      <th>VCO</th>\n",
       "      <th>TSEM</th>\n",
       "      <th>IX</th>\n",
       "      <th>ZBRA</th>\n",
       "      <th>Close</th>\n",
       "    </tr>\n",
       "    <tr>\n",
       "      <th>Date</th>\n",
       "      <th></th>\n",
       "      <th></th>\n",
       "      <th></th>\n",
       "      <th></th>\n",
       "      <th></th>\n",
       "      <th></th>\n",
       "      <th></th>\n",
       "      <th></th>\n",
       "      <th></th>\n",
       "      <th></th>\n",
       "      <th></th>\n",
       "    </tr>\n",
       "  </thead>\n",
       "  <tbody>\n",
       "    <tr>\n",
       "      <th>20060103</th>\n",
       "      <td>14.61</td>\n",
       "      <td>37.153142</td>\n",
       "      <td>9.073587</td>\n",
       "      <td>16.714900</td>\n",
       "      <td>19.113331</td>\n",
       "      <td>61.40</td>\n",
       "      <td>30.16</td>\n",
       "      <td>24.751238</td>\n",
       "      <td>132.00</td>\n",
       "      <td>42.830002</td>\n",
       "      <td>1268.800049</td>\n",
       "    </tr>\n",
       "    <tr>\n",
       "      <th>20060104</th>\n",
       "      <td>14.63</td>\n",
       "      <td>38.067847</td>\n",
       "      <td>9.073587</td>\n",
       "      <td>16.798894</td>\n",
       "      <td>19.333330</td>\n",
       "      <td>63.65</td>\n",
       "      <td>30.60</td>\n",
       "      <td>26.701336</td>\n",
       "      <td>133.25</td>\n",
       "      <td>42.410000</td>\n",
       "      <td>1273.459961</td>\n",
       "    </tr>\n",
       "    <tr>\n",
       "      <th>20060105</th>\n",
       "      <td>14.68</td>\n",
       "      <td>38.785261</td>\n",
       "      <td>9.232776</td>\n",
       "      <td>17.050877</td>\n",
       "      <td>19.313330</td>\n",
       "      <td>63.49</td>\n",
       "      <td>30.30</td>\n",
       "      <td>26.101306</td>\n",
       "      <td>132.30</td>\n",
       "      <td>42.529999</td>\n",
       "      <td>1273.479980</td>\n",
       "    </tr>\n",
       "    <tr>\n",
       "      <th>20060106</th>\n",
       "      <td>14.72</td>\n",
       "      <td>39.000487</td>\n",
       "      <td>9.232776</td>\n",
       "      <td>16.798894</td>\n",
       "      <td>19.486670</td>\n",
       "      <td>65.42</td>\n",
       "      <td>30.48</td>\n",
       "      <td>26.401320</td>\n",
       "      <td>136.00</td>\n",
       "      <td>44.119999</td>\n",
       "      <td>1285.449951</td>\n",
       "    </tr>\n",
       "    <tr>\n",
       "      <th>20060109</th>\n",
       "      <td>14.79</td>\n",
       "      <td>39.556483</td>\n",
       "      <td>9.232776</td>\n",
       "      <td>16.966884</td>\n",
       "      <td>20.313330</td>\n",
       "      <td>66.16</td>\n",
       "      <td>30.18</td>\n",
       "      <td>23.251163</td>\n",
       "      <td>137.70</td>\n",
       "      <td>44.790001</td>\n",
       "      <td>1290.150024</td>\n",
       "    </tr>\n",
       "  </tbody>\n",
       "</table>\n",
       "</div>"
      ],
      "text/plain": [
       "            MFL       EQIX      SSFN        MLR       BECN   ITUB    VCO  \\\n",
       "Date                                                                       \n",
       "20060103  14.61  37.153142  9.073587  16.714900  19.113331  61.40  30.16   \n",
       "20060104  14.63  38.067847  9.073587  16.798894  19.333330  63.65  30.60   \n",
       "20060105  14.68  38.785261  9.232776  17.050877  19.313330  63.49  30.30   \n",
       "20060106  14.72  39.000487  9.232776  16.798894  19.486670  65.42  30.48   \n",
       "20060109  14.79  39.556483  9.232776  16.966884  20.313330  66.16  30.18   \n",
       "\n",
       "               TSEM      IX       ZBRA        Close  \n",
       "Date                                                 \n",
       "20060103  24.751238  132.00  42.830002  1268.800049  \n",
       "20060104  26.701336  133.25  42.410000  1273.459961  \n",
       "20060105  26.101306  132.30  42.529999  1273.479980  \n",
       "20060106  26.401320  136.00  44.119999  1285.449951  \n",
       "20060109  23.251163  137.70  44.790001  1290.150024  "
      ]
     },
     "execution_count": 23,
     "metadata": {},
     "output_type": "execute_result"
    }
   ],
   "source": [
    "# Example of how simple it is to join data frames\n",
    "abc.join(spy_2006).head()"
   ]
  },
  {
   "cell_type": "code",
   "execution_count": 89,
   "metadata": {
    "collapsed": true
   },
   "outputs": [],
   "source": [
    "sys.path.append('../Friedman/')"
   ]
  },
  {
   "cell_type": "code",
   "execution_count": 101,
   "metadata": {
    "collapsed": false
   },
   "outputs": [],
   "source": [
    "from get_beta import get_beta"
   ]
  },
  {
   "cell_type": "code",
   "execution_count": 95,
   "metadata": {
    "collapsed": false
   },
   "outputs": [
    {
     "data": {
      "text/plain": [
       "[nan,\n",
       " 1.7399900000000343,\n",
       " -8.6300049999999828,\n",
       " 3.1300049999999828,\n",
       " -0.72998099999995247,\n",
       " 2.7399909999999181,\n",
       " 8.969970000000103,\n",
       " 6.910033999999996,\n",
       " 1.1700439999999617,\n",
       " -1.2800290000000132,\n",
       " -4.25,\n",
       " 4.1300049999999828,\n",
       " -7.5500489999999445,\n",
       " 5.0400389999999788,\n",
       " 12.140014999999948,\n",
       " -16.229980999999952,\n",
       " -1.719970000000103,\n",
       " -1.5600589999999102,\n",
       " 8.1999510000000555,\n",
       " 9.4200439999999617,\n",
       " 7.6999510000000555,\n",
       " 2.4500739999998586,\n",
       " -1.4000249999999141,\n",
       " 1.0100099999999657,\n",
       " 2.0200199999999313,\n",
       " -1.7099610000000212,\n",
       " -10.25,\n",
       " -4.690063999999893,\n",
       " 10.890014999999948,\n",
       " 11.040038999999979,\n",
       " 1.5100099999999657,\n",
       " -1.2700199999999313,\n",
       " 4.1400149999999485,\n",
       " -2.0500489999999445,\n",
       " -1.25,\n",
       " -5.190063999999893,\n",
       " -1.8199460000000727,\n",
       " -50.329956000000038,\n",
       " 7.7799070000000938,\n",
       " -3.649902000000111,\n",
       " -16.0,\n",
       " -13.050048999999944,\n",
       " 21.290038999999979,\n",
       " -3.4400630000000092,\n",
       " 9.9200439999999617,\n",
       " 0.9499510000000555,\n",
       " 3.7600099999999657,\n",
       " -28.650024999999914,\n",
       " 9.2200929999999062,\n",
       " 5.1099850000000515,\n",
       " -5.3300779999999577,\n",
       " 15.110107999999855,\n",
       " 8.8798820000001797,\n",
       " 24.100097999999889,\n",
       " -0.5,\n",
       " 1.5699460000000727,\n",
       " 1.3900149999999485,\n",
       " -8.8900149999999485,\n",
       " -11.380004999999983,\n",
       " 5.3000489999999445,\n",
       " -1.6700439999999617,\n",
       " 3.690063999999893,\n",
       " 13.219970999999987,\n",
       " 1.5999750000000859,\n",
       " 4.3900149999999485,\n",
       " 0.84997500000008586,\n",
       " 3.780029999999897,\n",
       " -9.5200199999999313,\n",
       " 8.9300539999999273,\n",
       " 5.0499270000000251,\n",
       " 15.479980000000069,\n",
       " 3.1500240000000304,\n",
       " 1.0200199999999313,\n",
       " -1.7700199999999313,\n",
       " 13.619995999999901,\n",
       " -3.4199220000000423,\n",
       " -0.52001999999993131,\n",
       " 15.010009999999966,\n",
       " -1.1700439999999617,\n",
       " -0.18005399999992733,\n",
       " -11.699951000000056,\n",
       " 3.9300539999999273,\n",
       " 9.6199950000000172,\n",
       " 6.4699709999999868,\n",
       " 3.2299800000000687,\n",
       " 3.8599850000000515,\n",
       " -1.7600090000000819,\n",
       " 4.8599850000000515,\n",
       " -21.109985000000052,\n",
       " 14.380004999999983,\n",
       " -2.6999519999999393,\n",
       " -1.9600829999999405,\n",
       " 12.950073999999859,\n",
       " -1.3900149999999485,\n",
       " 10.0,\n",
       " 2.3499759999999696,\n",
       " -0.97998099999995247,\n",
       " -1.839966000000004,\n",
       " -14.770019000000048,\n",
       " 8.219970000000103,\n",
       " 2.3800049999999828,\n",
       " 12.119995000000017,\n",
       " 0.39001499999994849,\n",
       " 5.7199709999999868,\n",
       " 2.8400879999999233,\n",
       " -8.2301029999998718,\n",
       " -13.569946000000073,\n",
       " -26.660033999999996,\n",
       " 16.950072999999975,\n",
       " 1.4499510000000555,\n",
       " -16.119995000000017,\n",
       " 22.670043999999962,\n",
       " 7.2999270000000251,\n",
       " 9.9400630000000092,\n",
       " -1.8599850000000515,\n",
       " 2.649902000000111,\n",
       " -20.859985000000052,\n",
       " 9.3499750000000859,\n",
       " -19.62988200000018,\n",
       " -4.8200689999998758,\n",
       " -4.8499750000000859,\n",
       " 13.449951000000056,\n",
       " -0.63000499999998283,\n",
       " -2.3599850000000515,\n",
       " 16.080077999999958,\n",
       " 5.4399410000000898,\n",
       " 0.53002900000001318,\n",
       " 5.0399170000000595,\n",
       " 1.4100349999998798,\n",
       " -21.729980999999952,\n",
       " 8.6400149999999485,\n",
       " 28.93994100000009,\n",
       " 4.8000489999999445,\n",
       " -2.9799800000000687,\n",
       " -0.15002499999991414,\n",
       " -3.1999510000000555,\n",
       " 6.9099120000000767,\n",
       " -18.979980000000069,\n",
       " 7.469970000000103,\n",
       " -30.529907000000094,\n",
       " 7.0499270000000251,\n",
       " -35.429932000000008,\n",
       " -23.710082999999941,\n",
       " 14.960082999999941,\n",
       " -18.640014000000065,\n",
       " 10.540038999999979,\n",
       " 6.3898920000001453,\n",
       " -39.139892000000145,\n",
       " 34.609985000000052,\n",
       " 9.0399170000000595,\n",
       " 20.780029000000013,\n",
       " -44.40002400000003,\n",
       " 0.5500489999999445,\n",
       " -0.71997099999998682,\n",
       " -26.380004999999983,\n",
       " -19.840087999999923,\n",
       " 4.5700689999998758,\n",
       " 34.669921000000159,\n",
       " -0.38989200000014534,\n",
       " 1.5699460000000727,\n",
       " 16.949951000000056,\n",
       " -1.5699460000000727,\n",
       " 16.869995000000017,\n",
       " -12.579956000000038,\n",
       " -34.430053999999927,\n",
       " 31.400024999999914,\n",
       " -6.1199950000000172,\n",
       " 16.349975000000086,\n",
       " 15.430053999999927,\n",
       " -17.130004999999983,\n",
       " 6.2600099999999657,\n",
       " -25.0,\n",
       " -1.850097999999889,\n",
       " 19.790038999999979,\n",
       " 0.070068999999875814,\n",
       " 12.389892000000145,\n",
       " 0.3000489999999445,\n",
       " -7.5999759999999696,\n",
       " 43.130004999999983,\n",
       " 9.25,\n",
       " -10.280029000000013,\n",
       " 7.0,\n",
       " -8.0200199999999313,\n",
       " -0.52001900000004753,\n",
       " 8.2100829999999405,\n",
       " 5.9599610000000212,\n",
       " -4.6300049999999828,\n",
       " 20.290038999999979,\n",
       " -0.41003399999999601,\n",
       " -7.0400389999999788,\n",
       " 3.25,\n",
       " 14.75,\n",
       " -5.0100099999999657,\n",
       " 12.570067999999992,\n",
       " -2.6800530000000435,\n",
       " -8.0599369999999908,\n",
       " 7.3900149999999485,\n",
       " -13.090087999999923,\n",
       " -10.179932000000008,\n",
       " 2.7099610000000212,\n",
       " -1.160033999999996,\n",
       " -39.449951000000056,\n",
       " 5.6999510000000555,\n",
       " 13.260009999999966,\n",
       " -3.7099610000000212,\n",
       " -1.4799809999999525,\n",
       " 20.880004999999983,\n",
       " 5.6999510000000555,\n",
       " -9.9599600000001374,\n",
       " 18.359985000000052,\n",
       " -40.940063999999893,\n",
       " 1.2100829999999405,\n",
       " -7.4799800000000687,\n",
       " 18.09997599999997,\n",
       " -44.650024999999914,\n",
       " -0.84997500000008586,\n",
       " -21.070068999999876,\n",
       " -14.519897000000128,\n",
       " 41.869995000000017,\n",
       " -10.470092999999906,\n",
       " -19.429932000000008,\n",
       " 7.589966000000004,\n",
       " -25.469970000000103,\n",
       " 6.4299310000001242,\n",
       " -22.929931000000124,\n",
       " 23.929931000000124,\n",
       " -33.479980000000069,\n",
       " 21.010009000000082,\n",
       " 40.790039999999863,\n",
       " 0.6999510000000555,\n",
       " 11.420043999999962,\n",
       " -8.7199709999999868,\n",
       " -9.6300049999999828,\n",
       " 22.219970999999987,\n",
       " 22.329956000000038,\n",
       " -2.679932000000008,\n",
       " 11.299927000000025,\n",
       " -38.309936999999991,\n",
       " 8.9399419999999736,\n",
       " 1.820067999999992,\n",
       " -20.460082999999941,\n",
       " -22.049927000000025,\n",
       " 9.0799560000000383,\n",
       " -1.9799800000000687,\n",
       " 7.1199950000000172,\n",
       " 24.339966000000004,\n",
       " 11.989990000000034,\n",
       " 1.2100829999999405,\n",
       " -21.390014000000065,\n",
       " 2.219970000000103,\n",
       " -10.130004999999983]"
      ]
     },
     "execution_count": 95,
     "metadata": {},
     "output_type": "execute_result"
    }
   ],
   "source": [
    "list(spy_2007.sort_index().diff())"
   ]
  },
  {
   "cell_type": "code",
   "execution_count": 133,
   "metadata": {
    "collapsed": false
   },
   "outputs": [],
   "source": [
    "alpha, beta = get_beta(portfolio_2007['ROVI'].diff(),spy_2007.sort_index().diff())"
   ]
  },
  {
   "cell_type": "code",
   "execution_count": 134,
   "metadata": {
    "collapsed": false
   },
   "outputs": [
    {
     "data": {
      "text/plain": [
       "[<matplotlib.lines.Line2D at 0x10f323fd0>]"
      ]
     },
     "execution_count": 134,
     "metadata": {},
     "output_type": "execute_result"
    },
    {
     "data": {
      "image/png": "[encoded data removed]",
      "text/plain": [
       "<matplotlib.figure.Figure at 0x10f1a1190>"
      ]
     },
     "metadata": {},
     "output_type": "display_data"
    }
   ],
   "source": [
    "plt.plot(beta)"
   ]
  },
  {
   "cell_type": "code",
   "execution_count": 136,
   "metadata": {
    "collapsed": false
   },
   "outputs": [
    {
     "data": {
      "text/html": [
       "<div>\n",
       "<table border=\"1\" class=\"dataframe\">\n",
       "  <thead>\n",
       "    <tr style=\"text-align: right;\">\n",
       "      <th></th>\n",
       "      <th>QCOM</th>\n",
       "      <th>SIGM</th>\n",
       "      <th>XRA</th>\n",
       "      <th>GOOG</th>\n",
       "      <th>ROVI</th>\n",
       "      <th>OXGN</th>\n",
       "      <th>DSX</th>\n",
       "      <th>CNC</th>\n",
       "      <th>MLAB</th>\n",
       "      <th>CTBI</th>\n",
       "    </tr>\n",
       "    <tr>\n",
       "      <th>Date</th>\n",
       "      <th></th>\n",
       "      <th></th>\n",
       "      <th></th>\n",
       "      <th></th>\n",
       "      <th></th>\n",
       "      <th></th>\n",
       "      <th></th>\n",
       "      <th></th>\n",
       "      <th></th>\n",
       "      <th></th>\n",
       "    </tr>\n",
       "  </thead>\n",
       "  <tbody>\n",
       "    <tr>\n",
       "      <th>20070103</th>\n",
       "      <td>31.464337</td>\n",
       "      <td>25.52</td>\n",
       "      <td>1.40909</td>\n",
       "      <td>233.561839</td>\n",
       "      <td>27.959999</td>\n",
       "      <td>1152.921624</td>\n",
       "      <td>12.123565</td>\n",
       "      <td>12.315</td>\n",
       "      <td>16.696466</td>\n",
       "      <td>25.913110</td>\n",
       "    </tr>\n",
       "    <tr>\n",
       "      <th>20070104</th>\n",
       "      <td>32.883846</td>\n",
       "      <td>24.33</td>\n",
       "      <td>1.30303</td>\n",
       "      <td>241.389023</td>\n",
       "      <td>27.230000</td>\n",
       "      <td>1128.902424</td>\n",
       "      <td>12.371137</td>\n",
       "      <td>12.410</td>\n",
       "      <td>17.481041</td>\n",
       "      <td>25.887757</td>\n",
       "    </tr>\n",
       "    <tr>\n",
       "      <th>20070105</th>\n",
       "      <td>32.497469</td>\n",
       "      <td>23.59</td>\n",
       "      <td>1.27273</td>\n",
       "      <td>243.352058</td>\n",
       "      <td>26.930000</td>\n",
       "      <td>1080.864023</td>\n",
       "      <td>12.213592</td>\n",
       "      <td>12.400</td>\n",
       "      <td>17.154869</td>\n",
       "      <td>25.108274</td>\n",
       "    </tr>\n",
       "    <tr>\n",
       "      <th>20070108</th>\n",
       "      <td>32.136293</td>\n",
       "      <td>23.48</td>\n",
       "      <td>1.28030</td>\n",
       "      <td>241.548870</td>\n",
       "      <td>26.610001</td>\n",
       "      <td>1112.088934</td>\n",
       "      <td>12.213592</td>\n",
       "      <td>12.485</td>\n",
       "      <td>16.749359</td>\n",
       "      <td>25.342756</td>\n",
       "    </tr>\n",
       "    <tr>\n",
       "      <th>20070109</th>\n",
       "      <td>31.783517</td>\n",
       "      <td>24.82</td>\n",
       "      <td>1.35606</td>\n",
       "      <td>242.507903</td>\n",
       "      <td>26.790001</td>\n",
       "      <td>1119.294768</td>\n",
       "      <td>12.303618</td>\n",
       "      <td>12.500</td>\n",
       "      <td>16.916853</td>\n",
       "      <td>25.038562</td>\n",
       "    </tr>\n",
       "  </tbody>\n",
       "</table>\n",
       "</div>"
      ],
      "text/plain": [
       "               QCOM   SIGM      XRA        GOOG       ROVI         OXGN  \\\n",
       "Date                                                                      \n",
       "20070103  31.464337  25.52  1.40909  233.561839  27.959999  1152.921624   \n",
       "20070104  32.883846  24.33  1.30303  241.389023  27.230000  1128.902424   \n",
       "20070105  32.497469  23.59  1.27273  243.352058  26.930000  1080.864023   \n",
       "20070108  32.136293  23.48  1.28030  241.548870  26.610001  1112.088934   \n",
       "20070109  31.783517  24.82  1.35606  242.507903  26.790001  1119.294768   \n",
       "\n",
       "                DSX     CNC       MLAB       CTBI  \n",
       "Date                                               \n",
       "20070103  12.123565  12.315  16.696466  25.913110  \n",
       "20070104  12.371137  12.410  17.481041  25.887757  \n",
       "20070105  12.213592  12.400  17.154869  25.108274  \n",
       "20070108  12.213592  12.485  16.749359  25.342756  \n",
       "20070109  12.303618  12.500  16.916853  25.038562  "
      ]
     },
     "execution_count": 136,
     "metadata": {},
     "output_type": "execute_result"
    }
   ],
   "source": [
    "portfolio_2007.head()"
   ]
  },
  {
   "cell_type": "code",
   "execution_count": 24,
   "metadata": {
    "collapsed": false
   },
   "outputs": [],
   "source": [
    "def portfolio_ize(portfolio, starting_value, weights):\n",
    "    \"\"\"\n",
    "    Takes a data frame of daily close prices, the total portfolio starting value, and the relative weight of each \n",
    "        asset, and returns a data frame of the daily total values of each asset in the portfolio.\n",
    "    \n",
    "    Inputs:\n",
    "    -------\n",
    "    portfolio: Pandas DataFrame of daily close prices\n",
    "    starting_value: float, Total starting value of the portfolio\n",
    "    weights: vector of weights of each asset, in the same order as the columns of the df.  Must sum to 1.  \n",
    "    \n",
    "    Returns:\n",
    "    --------\n",
    "    df_values: Pandas DataFrame of daily total values of each asset in the portfolio.\n",
    "    \"\"\"\n",
    "    \n",
    "    assert np.sum(weights)==1, \"Sum of weights vector must equal 1\"\n",
    "    \n",
    "    # Get starting value in dollars of each asset in the portfolio\n",
    "    starting_values = np.array(weights) * starting_value\n",
    "    \n",
    "    # Get number of shares of each asset in the portfolio by starting value by starting price\n",
    "    top_row = portfolio.iloc[0,:]\n",
    "    num_shares = starting_values/top_row\n",
    "    \n",
    "    # Multiply every row of the input data frame by the number of shares to give the value of each asset\n",
    "    df_values = portfolio.apply(lambda x: x*num_shares, axis=1)\n",
    "    \n",
    "    assert np.sum(df_values.iloc[0,:])==starting_value, \"Sum of top row is not equal to the starting value\"\n",
    "    \n",
    "    return df_values\n",
    "    "
   ]
  },
  {
   "cell_type": "code",
   "execution_count": 45,
   "metadata": {
    "collapsed": false
   },
   "outputs": [],
   "source": [
    "po = portfolio_ize(abc, 1000, [0.1]*10)"
   ]
  },
  {
   "cell_type": "code",
   "execution_count": 27,
   "metadata": {
    "collapsed": true
   },
   "outputs": [],
   "source": [
    "def portfolio_to_series(portfolio):\n",
    "    \"\"\"\n",
    "    Takes a pandas dataframe containing daily prices, and returns a pandas series of the total daily value\n",
    "    \n",
    "    inputs:\n",
    "    -------\n",
    "    portfolio: pandas dataframe of daily prices\n",
    "    \n",
    "    outputs:\n",
    "    --------\n",
    "    series: pandas series of total daily price of the portfolio\n",
    "    \"\"\"\n",
    "    return portfolio.apply(lambda x: np.sum(x), axis=1)\n",
    "    "
   ]
  },
  {
   "cell_type": "code",
   "execution_count": 49,
   "metadata": {
    "collapsed": false
   },
   "outputs": [],
   "source": [
    "po = po.sum(axis=1)"
   ]
  },
  {
   "cell_type": "code",
   "execution_count": 32,
   "metadata": {
    "collapsed": false
   },
   "outputs": [],
   "source": [
    "sys.path.append('../Friedman/')"
   ]
  },
  {
   "cell_type": "code",
   "execution_count": 33,
   "metadata": {
    "collapsed": true
   },
   "outputs": [],
   "source": [
    "from get_beta import get_beta"
   ]
  },
  {
   "cell_type": "code",
   "execution_count": 50,
   "metadata": {
    "collapsed": false
   },
   "outputs": [],
   "source": [
    "po = po.pct_change()"
   ]
  },
  {
   "cell_type": "code",
   "execution_count": 51,
   "metadata": {
    "collapsed": false
   },
   "outputs": [],
   "source": [
    "spy_2006 = spy_2006.sort_index().pct_change()"
   ]
  },
  {
   "cell_type": "code",
   "execution_count": 41,
   "metadata": {
    "collapsed": false
   },
   "outputs": [],
   "source": [
    "# po = po.diff()\n",
    "# spy_2006 = spy_2006.diff()"
   ]
  },
  {
   "cell_type": "code",
   "execution_count": null,
   "metadata": {
    "collapsed": true
   },
   "outputs": [],
   "source": []
  },
  {
   "cell_type": "code",
   "execution_count": 52,
   "metadata": {
    "collapsed": false
   },
   "outputs": [],
   "source": [
    "alpha, beta = get_beta(po, spy_2006)"
   ]
  },
  {
   "cell_type": "code",
   "execution_count": 54,
   "metadata": {
    "collapsed": false
   },
   "outputs": [
    {
     "data": {
      "text/plain": [
       "[<matplotlib.lines.Line2D at 0x10d08cb50>]"
      ]
     },
     "execution_count": 54,
     "metadata": {},
     "output_type": "execute_result"
    },
    {
     "data": {
      "image/png": "[encoded data removed]",
      "text/plain": [
       "<matplotlib.figure.Figure at 0x10d06ec90>"
      ]
     },
     "metadata": {},
     "output_type": "display_data"
    }
   ],
   "source": [
    "plt.plot(beta)"
   ]
  },
  {
   "cell_type": "code",
   "execution_count": 177,
   "metadata": {
    "collapsed": false
   },
   "outputs": [],
   "source": [
    "port_returns = portfolio_to_series(po).diff()"
   ]
  },
  {
   "cell_type": "code",
   "execution_count": 180,
   "metadata": {
    "collapsed": false
   },
   "outputs": [],
   "source": [
    "spy_returns = spy_2007.sort_index().diff()"
   ]
  },
  {
   "cell_type": "code",
   "execution_count": 185,
   "metadata": {
    "collapsed": false
   },
   "outputs": [],
   "source": [
    "betas = get_beta(port_returns, spy_returns)[1]"
   ]
  },
  {
   "cell_type": "code",
   "execution_count": 188,
   "metadata": {
    "collapsed": false
   },
   "outputs": [],
   "source": [
    "sys.path.append('/Users/christianjunge/OneDrive/AC297Capstone/AC297_beta/source/')"
   ]
  },
  {
   "cell_type": "code",
   "execution_count": 189,
   "metadata": {
    "collapsed": true
   },
   "outputs": [],
   "source": [
    "import JungeUtilities"
   ]
  },
  {
   "cell_type": "code",
   "execution_count": 60,
   "metadata": {
    "collapsed": false
   },
   "outputs": [],
   "source": [
    "import beta_hedging"
   ]
  },
  {
   "cell_type": "code",
   "execution_count": 207,
   "metadata": {
    "collapsed": false
   },
   "outputs": [
    {
     "data": {
      "text/plain": [
       "191"
      ]
     },
     "execution_count": 207,
     "metadata": {},
     "output_type": "execute_result"
    }
   ],
   "source": [
    "len(betas)"
   ]
  },
  {
   "cell_type": "code",
   "execution_count": 56,
   "metadata": {
    "collapsed": false
   },
   "outputs": [
    {
     "data": {
      "text/plain": [
       "251"
      ]
     },
     "execution_count": 56,
     "metadata": {},
     "output_type": "execute_result"
    }
   ],
   "source": [
    "len(po)"
   ]
  },
  {
   "cell_type": "code",
   "execution_count": 208,
   "metadata": {
    "collapsed": true
   },
   "outputs": [],
   "source": [
    "import numpy as np"
   ]
  },
  {
   "cell_type": "code",
   "execution_count": 64,
   "metadata": {
    "collapsed": false
   },
   "outputs": [
    {
     "data": {
      "text/plain": [
       "<module 'beta_hedging' from 'beta_hedging.py'>"
      ]
     },
     "execution_count": 64,
     "metadata": {},
     "output_type": "execute_result"
    }
   ],
   "source": [
    "reload(beta_hedging)"
   ]
  },
  {
   "cell_type": "code",
   "execution_count": 66,
   "metadata": {
    "collapsed": false
   },
   "outputs": [],
   "source": [
    "hedged_returns = beta_hedging.beta_hedging(pd.Series(beta, index=spy_2006[60:].index), spy_2006[60:], po[60:])"
   ]
  },
  {
   "cell_type": "code",
   "execution_count": 68,
   "metadata": {
    "collapsed": false
   },
   "outputs": [
    {
     "data": {
      "text/html": [
       "<div>\n",
       "<table border=\"1\" class=\"dataframe\">\n",
       "  <thead>\n",
       "    <tr style=\"text-align: right;\">\n",
       "      <th></th>\n",
       "      <th>0</th>\n",
       "    </tr>\n",
       "    <tr>\n",
       "      <th>Date</th>\n",
       "      <th></th>\n",
       "    </tr>\n",
       "  </thead>\n",
       "  <tbody>\n",
       "    <tr>\n",
       "      <th>20060331</th>\n",
       "      <td>NaN</td>\n",
       "    </tr>\n",
       "    <tr>\n",
       "      <th>20060403</th>\n",
       "      <td>0.018253</td>\n",
       "    </tr>\n",
       "    <tr>\n",
       "      <th>20060404</th>\n",
       "      <td>-0.048802</td>\n",
       "    </tr>\n",
       "    <tr>\n",
       "      <th>20060405</th>\n",
       "      <td>0.008310</td>\n",
       "    </tr>\n",
       "    <tr>\n",
       "      <th>20060406</th>\n",
       "      <td>0.002967</td>\n",
       "    </tr>\n",
       "    <tr>\n",
       "      <th>20060407</th>\n",
       "      <td>-0.023815</td>\n",
       "    </tr>\n",
       "    <tr>\n",
       "      <th>20060410</th>\n",
       "      <td>-0.011200</td>\n",
       "    </tr>\n",
       "    <tr>\n",
       "      <th>20060411</th>\n",
       "      <td>-0.106441</td>\n",
       "    </tr>\n",
       "    <tr>\n",
       "      <th>20060412</th>\n",
       "      <td>-0.007514</td>\n",
       "    </tr>\n",
       "    <tr>\n",
       "      <th>20060413</th>\n",
       "      <td>0.007354</td>\n",
       "    </tr>\n",
       "    <tr>\n",
       "      <th>20060417</th>\n",
       "      <td>0.021361</td>\n",
       "    </tr>\n",
       "    <tr>\n",
       "      <th>20060418</th>\n",
       "      <td>0.002908</td>\n",
       "    </tr>\n",
       "    <tr>\n",
       "      <th>20060419</th>\n",
       "      <td>0.003826</td>\n",
       "    </tr>\n",
       "    <tr>\n",
       "      <th>20060420</th>\n",
       "      <td>-0.009808</td>\n",
       "    </tr>\n",
       "    <tr>\n",
       "      <th>20060421</th>\n",
       "      <td>0.002749</td>\n",
       "    </tr>\n",
       "    <tr>\n",
       "      <th>20060424</th>\n",
       "      <td>-0.093422</td>\n",
       "    </tr>\n",
       "    <tr>\n",
       "      <th>20060425</th>\n",
       "      <td>0.002506</td>\n",
       "    </tr>\n",
       "    <tr>\n",
       "      <th>20060426</th>\n",
       "      <td>-0.016501</td>\n",
       "    </tr>\n",
       "    <tr>\n",
       "      <th>20060427</th>\n",
       "      <td>0.034513</td>\n",
       "    </tr>\n",
       "    <tr>\n",
       "      <th>20060428</th>\n",
       "      <td>0.004035</td>\n",
       "    </tr>\n",
       "    <tr>\n",
       "      <th>20060501</th>\n",
       "      <td>0.033155</td>\n",
       "    </tr>\n",
       "    <tr>\n",
       "      <th>20060502</th>\n",
       "      <td>-0.003043</td>\n",
       "    </tr>\n",
       "    <tr>\n",
       "      <th>20060503</th>\n",
       "      <td>0.011782</td>\n",
       "    </tr>\n",
       "    <tr>\n",
       "      <th>20060504</th>\n",
       "      <td>0.015538</td>\n",
       "    </tr>\n",
       "    <tr>\n",
       "      <th>20060505</th>\n",
       "      <td>-0.057988</td>\n",
       "    </tr>\n",
       "    <tr>\n",
       "      <th>20060508</th>\n",
       "      <td>0.013155</td>\n",
       "    </tr>\n",
       "    <tr>\n",
       "      <th>20060509</th>\n",
       "      <td>0.013963</td>\n",
       "    </tr>\n",
       "    <tr>\n",
       "      <th>20060510</th>\n",
       "      <td>0.015478</td>\n",
       "    </tr>\n",
       "    <tr>\n",
       "      <th>20060511</th>\n",
       "      <td>0.157033</td>\n",
       "    </tr>\n",
       "    <tr>\n",
       "      <th>20060512</th>\n",
       "      <td>-0.000882</td>\n",
       "    </tr>\n",
       "    <tr>\n",
       "      <th>...</th>\n",
       "      <td>...</td>\n",
       "    </tr>\n",
       "    <tr>\n",
       "      <th>20061116</th>\n",
       "      <td>-0.017276</td>\n",
       "    </tr>\n",
       "    <tr>\n",
       "      <th>20061117</th>\n",
       "      <td>-0.001978</td>\n",
       "    </tr>\n",
       "    <tr>\n",
       "      <th>20061120</th>\n",
       "      <td>0.003491</td>\n",
       "    </tr>\n",
       "    <tr>\n",
       "      <th>20061121</th>\n",
       "      <td>0.062622</td>\n",
       "    </tr>\n",
       "    <tr>\n",
       "      <th>20061122</th>\n",
       "      <td>-0.031593</td>\n",
       "    </tr>\n",
       "    <tr>\n",
       "      <th>20061124</th>\n",
       "      <td>-0.015423</td>\n",
       "    </tr>\n",
       "    <tr>\n",
       "      <th>20061127</th>\n",
       "      <td>0.016505</td>\n",
       "    </tr>\n",
       "    <tr>\n",
       "      <th>20061128</th>\n",
       "      <td>-0.020069</td>\n",
       "    </tr>\n",
       "    <tr>\n",
       "      <th>20061129</th>\n",
       "      <td>0.007878</td>\n",
       "    </tr>\n",
       "    <tr>\n",
       "      <th>20061130</th>\n",
       "      <td>0.007931</td>\n",
       "    </tr>\n",
       "    <tr>\n",
       "      <th>20061201</th>\n",
       "      <td>0.014598</td>\n",
       "    </tr>\n",
       "    <tr>\n",
       "      <th>20061204</th>\n",
       "      <td>-0.028018</td>\n",
       "    </tr>\n",
       "    <tr>\n",
       "      <th>20061205</th>\n",
       "      <td>0.004215</td>\n",
       "    </tr>\n",
       "    <tr>\n",
       "      <th>20061206</th>\n",
       "      <td>0.012505</td>\n",
       "    </tr>\n",
       "    <tr>\n",
       "      <th>20061207</th>\n",
       "      <td>-0.017584</td>\n",
       "    </tr>\n",
       "    <tr>\n",
       "      <th>20061208</th>\n",
       "      <td>0.009534</td>\n",
       "    </tr>\n",
       "    <tr>\n",
       "      <th>20061211</th>\n",
       "      <td>0.000107</td>\n",
       "    </tr>\n",
       "    <tr>\n",
       "      <th>20061212</th>\n",
       "      <td>-0.005723</td>\n",
       "    </tr>\n",
       "    <tr>\n",
       "      <th>20061213</th>\n",
       "      <td>-0.021580</td>\n",
       "    </tr>\n",
       "    <tr>\n",
       "      <th>20061214</th>\n",
       "      <td>-0.001708</td>\n",
       "    </tr>\n",
       "    <tr>\n",
       "      <th>20061215</th>\n",
       "      <td>-0.005870</td>\n",
       "    </tr>\n",
       "    <tr>\n",
       "      <th>20061218</th>\n",
       "      <td>-0.031252</td>\n",
       "    </tr>\n",
       "    <tr>\n",
       "      <th>20061219</th>\n",
       "      <td>-0.015939</td>\n",
       "    </tr>\n",
       "    <tr>\n",
       "      <th>20061220</th>\n",
       "      <td>-0.004633</td>\n",
       "    </tr>\n",
       "    <tr>\n",
       "      <th>20061221</th>\n",
       "      <td>0.002836</td>\n",
       "    </tr>\n",
       "    <tr>\n",
       "      <th>20061222</th>\n",
       "      <td>-0.006287</td>\n",
       "    </tr>\n",
       "    <tr>\n",
       "      <th>20061226</th>\n",
       "      <td>-0.001917</td>\n",
       "    </tr>\n",
       "    <tr>\n",
       "      <th>20061227</th>\n",
       "      <td>0.013557</td>\n",
       "    </tr>\n",
       "    <tr>\n",
       "      <th>20061228</th>\n",
       "      <td>-0.004853</td>\n",
       "    </tr>\n",
       "    <tr>\n",
       "      <th>20061229</th>\n",
       "      <td>0.039152</td>\n",
       "    </tr>\n",
       "  </tbody>\n",
       "</table>\n",
       "<p>190 rows × 1 columns</p>\n",
       "</div>"
      ],
      "text/plain": [
       "                 0\n",
       "Date              \n",
       "20060331       NaN\n",
       "20060403  0.018253\n",
       "20060404 -0.048802\n",
       "20060405  0.008310\n",
       "20060406  0.002967\n",
       "20060407 -0.023815\n",
       "20060410 -0.011200\n",
       "20060411 -0.106441\n",
       "20060412 -0.007514\n",
       "20060413  0.007354\n",
       "20060417  0.021361\n",
       "20060418  0.002908\n",
       "20060419  0.003826\n",
       "20060420 -0.009808\n",
       "20060421  0.002749\n",
       "20060424 -0.093422\n",
       "20060425  0.002506\n",
       "20060426 -0.016501\n",
       "20060427  0.034513\n",
       "20060428  0.004035\n",
       "20060501  0.033155\n",
       "20060502 -0.003043\n",
       "20060503  0.011782\n",
       "20060504  0.015538\n",
       "20060505 -0.057988\n",
       "20060508  0.013155\n",
       "20060509  0.013963\n",
       "20060510  0.015478\n",
       "20060511  0.157033\n",
       "20060512 -0.000882\n",
       "...            ...\n",
       "20061116 -0.017276\n",
       "20061117 -0.001978\n",
       "20061120  0.003491\n",
       "20061121  0.062622\n",
       "20061122 -0.031593\n",
       "20061124 -0.015423\n",
       "20061127  0.016505\n",
       "20061128 -0.020069\n",
       "20061129  0.007878\n",
       "20061130  0.007931\n",
       "20061201  0.014598\n",
       "20061204 -0.028018\n",
       "20061205  0.004215\n",
       "20061206  0.012505\n",
       "20061207 -0.017584\n",
       "20061208  0.009534\n",
       "20061211  0.000107\n",
       "20061212 -0.005723\n",
       "20061213 -0.021580\n",
       "20061214 -0.001708\n",
       "20061215 -0.005870\n",
       "20061218 -0.031252\n",
       "20061219 -0.015939\n",
       "20061220 -0.004633\n",
       "20061221  0.002836\n",
       "20061222 -0.006287\n",
       "20061226 -0.001917\n",
       "20061227  0.013557\n",
       "20061228 -0.004853\n",
       "20061229  0.039152\n",
       "\n",
       "[190 rows x 1 columns]"
      ]
     },
     "execution_count": 68,
     "metadata": {},
     "output_type": "execute_result"
    }
   ],
   "source": [
    "hedged_returns"
   ]
  },
  {
   "cell_type": "code",
   "execution_count": 202,
   "metadata": {
    "collapsed": false
   },
   "outputs": [
    {
     "data": {
      "text/plain": [
       "Int64Index([20070103, 20070104, 20070105, 20070108, 20070109, 20070110,\n",
       "            20070111, 20070112, 20070116, 20070117,\n",
       "            ...\n",
       "            20071217, 20071218, 20071219, 20071220, 20071221, 20071224,\n",
       "            20071226, 20071227, 20071228, 20071231],\n",
       "           dtype='int64', name=u'Date', length=251)"
      ]
     },
     "execution_count": 202,
     "metadata": {},
     "output_type": "execute_result"
    }
   ],
   "source": [
    "port_returns.index"
   ]
  },
  {
   "cell_type": "code",
   "execution_count": 154,
   "metadata": {
    "collapsed": false
   },
   "outputs": [],
   "source": [
    "stvalue =10000000"
   ]
  },
  {
   "cell_type": "code",
   "execution_count": 158,
   "metadata": {
    "collapsed": false,
    "scrolled": true
   },
   "outputs": [],
   "source": [
    "wts = np.array([0.1, 0.05, 0.05, 0.2, 0.1, 0.01, 0.19, 0.05, 0.15, 0.1])"
   ]
  },
  {
   "cell_type": "code",
   "execution_count": 160,
   "metadata": {
    "collapsed": false
   },
   "outputs": [],
   "source": [
    "ns = stvalue*wts/portfolio_2007.iloc[0,:]"
   ]
  },
  {
   "cell_type": "code",
   "execution_count": 164,
   "metadata": {
    "collapsed": false
   },
   "outputs": [],
   "source": [
    "ba = portfolio_2007.apply(lambda x: x*ns, axis=1)"
   ]
  },
  {
   "cell_type": "code",
   "execution_count": 165,
   "metadata": {
    "collapsed": false
   },
   "outputs": [
    {
     "data": {
      "text/plain": [
       "10000000.0"
      ]
     },
     "execution_count": 165,
     "metadata": {},
     "output_type": "execute_result"
    }
   ],
   "source": [
    "np.sum(ba.iloc[0,:])"
   ]
  },
  {
   "cell_type": "code",
   "execution_count": 157,
   "metadata": {
    "collapsed": false
   },
   "outputs": [
    {
     "data": {
      "text/plain": [
       "QCOM      31.464337\n",
       "SIGM      25.520000\n",
       "XRA        1.409090\n",
       "GOOG     233.561839\n",
       "ROVI      27.959999\n",
       "OXGN    1152.921624\n",
       "DSX       12.123565\n",
       "CNC       12.315000\n",
       "MLAB      16.696466\n",
       "CTBI      25.913110\n",
       "Name: 20070103, dtype: float64"
      ]
     },
     "execution_count": 157,
     "metadata": {},
     "output_type": "execute_result"
    }
   ],
   "source": [
    "portfolio_2007.iloc[0,:]"
   ]
  },
  {
   "cell_type": "code",
   "execution_count": null,
   "metadata": {
    "collapsed": true
   },
   "outputs": [],
   "source": []
  }
 ],
 "metadata": {
  "kernelspec": {
   "display_name": "Python 2",
   "language": "python",
   "name": "python2"
  },
  "language_info": {
   "codemirror_mode": {
    "name": "ipython",
    "version": 2
   },
   "file_extension": ".py",
   "mimetype": "text/x-python",
   "name": "python",
   "nbconvert_exporter": "python",
   "pygments_lexer": "ipython2",
   "version": "2.7.10"
  }
 },
 "nbformat": 4,
 "nbformat_minor": 0
}
