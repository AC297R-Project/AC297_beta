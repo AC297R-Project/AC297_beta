{
 "cells": [
  {
   "cell_type": "code",
   "execution_count": 1,
   "metadata": {
    "collapsed": true
   },
   "outputs": [],
   "source": [
    "import pandas as pd\n",
    "import numpy as np\n",
    "import sys"
   ]
  },
  {
   "cell_type": "code",
   "execution_count": 4,
   "metadata": {
    "collapsed": true
   },
   "outputs": [],
   "source": [
    "sys.path.append('../../source')"
   ]
  },
  {
   "cell_type": "code",
   "execution_count": 5,
   "metadata": {
    "collapsed": false
   },
   "outputs": [],
   "source": [
    "from Hedge import Hedge"
   ]
  },
  {
   "cell_type": "code",
   "execution_count": 7,
   "metadata": {
    "collapsed": false
   },
   "outputs": [],
   "source": [
    "hedge = Hedge('../../data/all_stocks.csv','../../data/spy.csv',begindate='2006-01-01',enddate='2009-12-31')"
   ]
  },
  {
   "cell_type": "code",
   "execution_count": 8,
   "metadata": {
    "collapsed": false
   },
   "outputs": [
    {
     "data": {
      "text/plain": [
       "array(['KOOL', 'FBP', 'AGX', 'IFN', 'UTG', 'ASTC', 'ICE', 'HUN', 'BONT',\n",
       "       'AEY', 'MORN', 'WRLD', 'AVD', 'CERN', 'HGT', 'URRE', 'UBNK', 'PLD',\n",
       "       'MEN', 'EGHT', 'BSAC', 'CET', 'IIF', 'PFE', 'NKTR', 'MHE', 'MOD',\n",
       "       'NPT', 'HNT', 'NAC', 'NTL', 'PRPH', 'MSTR', 'HQL', 'MDC', 'LXU',\n",
       "       'BPK', 'CBD', 'TNH', 'CZWI', 'WPCS', 'CNQ', 'SCCO', 'MCA', 'CLBH',\n",
       "       'IDCC', 'HMN', 'POWL', 'PES', 'CVCY'], dtype=object)"
      ]
     },
     "execution_count": 8,
     "metadata": {},
     "output_type": "execute_result"
    }
   ],
   "source": [
    "hedge.generateRandomPort(50)"
   ]
  },
  {
   "cell_type": "code",
   "execution_count": 13,
   "metadata": {
    "collapsed": true
   },
   "outputs": [],
   "source": [
    "with open('portfolios.txt','w') as f:\n",
    "    for j in range(50):\n",
    "        a = str(hedge.generateRandomPort(50))\n",
    "        b = a.replace(\"[\",'').replace(\"]\",'').replace(\"\\n\",'').replace(' ',',')\n",
    "        f.write(str(j)+','+b+'\\n')\n",
    "\n"
   ]
  },
  {
   "cell_type": "code",
   "execution_count": 14,
   "metadata": {
    "collapsed": true
   },
   "outputs": [],
   "source": [
    "with open('markets.txt','w') as f:\n",
    "    for j in range(50):\n",
    "        a = str(hedge.generateRandomMarket(100))\n",
    "        b = a.replace(\"[\",'').replace(\"]\",'').replace(\"\\n\",'').replace(' ',',')\n",
    "        f.write(str(j)+','+b+'\\n')"
   ]
  },
  {
   "cell_type": "code",
   "execution_count": null,
   "metadata": {
    "collapsed": true
   },
   "outputs": [],
   "source": []
  }
 ],
 "metadata": {
  "kernelspec": {
   "display_name": "Python 2",
   "language": "python",
   "name": "python2"
  },
  "language_info": {
   "codemirror_mode": {
    "name": "ipython",
    "version": 2
   },
   "file_extension": ".py",
   "mimetype": "text/x-python",
   "name": "python",
   "nbconvert_exporter": "python",
   "pygments_lexer": "ipython2",
   "version": "2.7.11"
  }
 },
 "nbformat": 4,
 "nbformat_minor": 0
}
