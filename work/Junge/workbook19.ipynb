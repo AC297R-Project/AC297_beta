{
 "cells": [
  {
   "cell_type": "code",
   "execution_count": 10,
   "metadata": {
    "collapsed": false
   },
   "outputs": [],
   "source": [
    "import pandas as pd\n",
    "import numpy as np\n",
    "import sys\n",
    "sys.path.append('../../source')\n",
    "import matplotlib.pylab as plt\n",
    "%matplotlib inline\n",
    "import seaborn as sns\n",
    "sns.set_style('white')\n",
    "sns.set_context('talk')\n",
    "\n",
    "from BetaUtils import beta_hedging_ret, get_beta\n",
    "from energy_functions import correlation, neg_returns, volatility\n",
    "from Hedge import Hedge\n",
    "\n",
    "import datetime\n",
    "\n",
    "from plotting_functions import *"
   ]
  },
  {
   "cell_type": "markdown",
   "metadata": {},
   "source": [
    "## Analyzing Haosu's sector exploration"
   ]
  },
  {
   "cell_type": "code",
   "execution_count": 13,
   "metadata": {
    "collapsed": false
   },
   "outputs": [
    {
     "name": "stdout",
     "output_type": "stream",
     "text": [
      "Bar plot 0\n",
      "Bar plot 1\n",
      "Bar plot 2\n",
      "Bar plot 3\n",
      "Bar plot 4\n",
      "TS_plot 0\n",
      "TS_plot 1\n",
      "TS_plot 2\n",
      "TS_plot 3\n",
      "TS_plot 4\n"
     ]
    }
   ],
   "source": [
    "batch_results_plotter('../Tang/sim0428_tech/portfolios.txt','../Tang/sim0428_tech/result_market.txt',\\\n",
    "                      '../Tang/sim0428_tech/tech_states.txt','2013-10-01','2014-12-31', title=\"Tech_2014\")"
   ]
  },
  {
   "cell_type": "code",
   "execution_count": 19,
   "metadata": {
    "collapsed": false
   },
   "outputs": [
    {
     "name": "stdout",
     "output_type": "stream",
     "text": [
      "Bar plot 0\n",
      "Bar plot 1\n",
      "Bar plot 2\n",
      "Bar plot 3\n",
      "Bar plot 4\n",
      "TS_plot 0\n",
      "TS_plot 1\n",
      "TS_plot 2\n",
      "TS_plot 3\n",
      "TS_plot 4\n"
     ]
    }
   ],
   "source": [
    "batch_results_plotter('../Tang/sim0429_consumerdurable/portfolios.txt','../Tang/sim0429_consumerdurable/result_market.txt',\\\n",
    "                      '../Tang/sim0429_consumerdurable/states.txt','2013-10-01','2014-12-31', title=\"Consumer_Durable_2014\")"
   ]
  },
  {
   "cell_type": "code",
   "execution_count": 21,
   "metadata": {
    "collapsed": false
   },
   "outputs": [
    {
     "name": "stdout",
     "output_type": "stream",
     "text": [
      "Bar plot 0\n",
      "Bar plot 1\n",
      "Bar plot 2\n",
      "Bar plot 3\n",
      "Bar plot 4\n",
      "TS_plot 0\n",
      "TS_plot 1\n",
      "TS_plot 2\n",
      "TS_plot 3\n",
      "TS_plot 4\n"
     ]
    }
   ],
   "source": [
    "batch_results_plotter('../Tang/sim0429_energy/portfolios.txt','../Tang/sim0429_energy/result_market.txt',\\\n",
    "                      '../Tang/sim0429_energy/states.txt','2013-10-01','2014-12-31', title=\"Energy_2014\")"
   ]
  },
  {
   "cell_type": "code",
   "execution_count": 22,
   "metadata": {
    "collapsed": false
   },
   "outputs": [
    {
     "name": "stdout",
     "output_type": "stream",
     "text": [
      "Bar plot 0\n",
      "Bar plot 1\n",
      "Bar plot 2\n",
      "Bar plot 3\n",
      "Bar plot 4\n",
      "TS_plot 0\n",
      "TS_plot 1\n",
      "TS_plot 2\n",
      "TS_plot 3\n",
      "TS_plot 4\n"
     ]
    }
   ],
   "source": [
    "batch_results_plotter('../Tang/sim0429_healthcare/portfolios.txt','../Tang/sim0429_healthcare/result_market.txt',\\\n",
    "                      '../Tang/sim0429_healthcare/states.txt','2013-10-01','2014-12-31', title=\"Healthcare_2014\")"
   ]
  },
  {
   "cell_type": "code",
   "execution_count": 8,
   "metadata": {
    "collapsed": false
   },
   "outputs": [
    {
     "name": "stdout",
     "output_type": "stream",
     "text": [
      "Bar plot 0\n",
      "TS_plot 0\n"
     ]
    }
   ],
   "source": [
    "batch_results_plotter('Haosu_mini/mini_portfolio.txt','Haosu_mini/mini_market.txt',None,'2005-01-01',\\\n",
    "                      '2006-03-31', title=\"Highly_Correlated\")"
   ]
  },
  {
   "cell_type": "code",
   "execution_count": null,
   "metadata": {
    "collapsed": true
   },
   "outputs": [],
   "source": []
  }
 ],
 "metadata": {
  "kernelspec": {
   "display_name": "Python 2",
   "language": "python",
   "name": "python2"
  },
  "language_info": {
   "codemirror_mode": {
    "name": "ipython",
    "version": 2
   },
   "file_extension": ".py",
   "mimetype": "text/x-python",
   "name": "python",
   "nbconvert_exporter": "python",
   "pygments_lexer": "ipython2",
   "version": "2.7.11"
  }
 },
 "nbformat": 4,
 "nbformat_minor": 0
}
