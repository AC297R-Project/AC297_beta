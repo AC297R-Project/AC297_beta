{
 "cells": [
  {
   "cell_type": "code",
   "execution_count": 177,
   "metadata": {
    "collapsed": false,
    "scrolled": true
   },
   "outputs": [],
   "source": [
    "import pandas as pd\n",
    "import numpy as np\n",
    "import sys"
   ]
  },
  {
   "cell_type": "code",
   "execution_count": 178,
   "metadata": {
    "collapsed": true
   },
   "outputs": [],
   "source": [
    "sys.path.append('/Users/christianjunge/OneDrive/AC297Capstone/AC297_beta/work/Friedman')"
   ]
  },
  {
   "cell_type": "code",
   "execution_count": 179,
   "metadata": {
    "collapsed": false
   },
   "outputs": [],
   "source": [
    "import Quandl"
   ]
  },
  {
   "cell_type": "code",
   "execution_count": 180,
   "metadata": {
    "collapsed": true
   },
   "outputs": [],
   "source": [
    "from get_beta import get_beta"
   ]
  },
  {
   "cell_type": "markdown",
   "metadata": {},
   "source": [
    "## Copied in from Haosu's notebook:"
   ]
  },
  {
   "cell_type": "code",
   "execution_count": 181,
   "metadata": {
    "collapsed": true
   },
   "outputs": [],
   "source": [
    "#Global Variables\n",
    "SECTORS = ['Basic Industries', 'Capital Goods', 'Consumer Durables', 'Consumer Non-Durables','Consumer Services', \n",
    "           'Energy', 'Finance', 'Health Care', 'Miscellaneous', 'Public Utilities', 'Technology', 'Transportation', 'n/a']\n",
    "MARKETS = ['NYSE', 'NASDAQ', 'AMEX']"
   ]
  },
  {
   "cell_type": "code",
   "execution_count": 182,
   "metadata": {
    "collapsed": true
   },
   "outputs": [],
   "source": [
    "def getStockUniverse(directory = '../../data/', NYSE = True, NASDAQ = True, AMEX = True):\n",
    "    \"\"\"\n",
    "    Reads in the stored stock data, including symbol, Name, Cap, Sector, Industry from NYSE, NASDAQ and AMEX\n",
    "    \n",
    "    Returns\n",
    "    -------\n",
    "    A pandas frame concatenating all the stock universe from NYSE, NASDAQ and AMEX\n",
    "    \"\"\"\n",
    "    nyse = pd.read_csv(directory+'companylist_nyse.csv')\n",
    "    nyse['Market'] = 'NYSE'\n",
    "    nasdaq = pd.read_csv(directory+'companylist_nasdaq.csv')\n",
    "    nasdaq['Market'] = 'NASDAQ'\n",
    "    amex = pd.read_csv(directory+'companylist_amex.csv')\n",
    "    amex['Market'] = 'AMEX'\n",
    "    \n",
    "    allstocks = pd.concat([nyse,nasdaq,amex])\n",
    "    \n",
    "    # The following parses the market cap into more readable fashion\n",
    "    # eg. $1.15B = 1150, n/a = -1\n",
    "    def parseMarketCap(allstocks):\n",
    "        cap = allstocks['MarketCap'].values\n",
    "        def computeCap(s):\n",
    "            if s=='n/a':\n",
    "                return -1\n",
    "            elif s[-1:]=='B':\n",
    "                return float(s[1:-1])*1000\n",
    "            elif s[-1:]=='M':\n",
    "                return float(s[1:-1])\n",
    "        allstocks['MarketCap'] = map(computeCap, cap)\n",
    "    \n",
    "    allstocks = allstocks.drop('Unnamed: 8', axis = 1)\n",
    "    parseMarketCap(allstocks)\n",
    "    \n",
    "    allstocks = allstocks.drop_duplicates('Name')    #Drop duplicates, eg. GOOG instead of GOOGL\n",
    "\n",
    "    return allstocks.sort_values(by = 'MarketCap', ascending = False).reset_index().drop('index', axis=1)"
   ]
  },
  {
   "cell_type": "code",
   "execution_count": 183,
   "metadata": {
    "collapsed": true
   },
   "outputs": [],
   "source": [
    "def getSamplePortfolio(stock_universe, n = 10, capThreshold = 2000,\n",
    "                       sector = None, descendingByCap = False, market = ['NYSE', 'NASDAQ']):\n",
    "    \"\"\"\n",
    "    Get a sample portfolio from the stock universe, preferably a generated one from getStockUniverse.\n",
    "    With specified parameters.\n",
    "    \n",
    "    Parameters\n",
    "    ----------\n",
    "    stock_universe : pandas frame with symbols, Cap and Sector\n",
    "    n : number of samples\n",
    "    capThreshold : sample should be larger than this threshold, initially set ot 2000\n",
    "    sector : list of specific sectors to sample from, default to None with no preference\n",
    "    DescendingByCap: Sample the largest caps, otherwise random sampling.\n",
    "    market : specific market to sample from, NYSE, NASDAQ and AMEX, default is NYSE and NASDAQ.\n",
    "    \n",
    "    Returns\n",
    "    ------\n",
    "    A list of symbols\n",
    "    \"\"\"\n",
    "    \n",
    "    reduced_universe = stock_universe\n",
    "    \n",
    "    if capThreshold != None:# and line['MarketCap'].value <capThreshold:\n",
    "        reduced_universe = reduced_universe[reduced_universe['MarketCap']>=capThreshold]\n",
    "        \n",
    "    if sector != None:\n",
    "        reduced_universe = reduced_universe[map(lambda x: x in sector, reduced_universe['Sector'].values)]\n",
    "        \n",
    "    if market != None:\n",
    "        reduced_universe = reduced_universe[map(lambda x: x in market, reduced_universe['Market'].values)]\n",
    "    \n",
    "    if len(reduced_universe)<n:\n",
    "        print '*******Warning: insufficient candidates, reduce number of samples'\n",
    "        n = len(reduced_universe)\n",
    "    \n",
    "    if descendingByCap:\n",
    "        # getting rid of redundant quotes, eg. goog and googl\n",
    "        reduced_universe = reduced_universe.sort_values(by = 'MarketCap', ascending=False)[:n]\n",
    "\n",
    "    else:\n",
    "        reduced_universe = reduced_universe.sample(n)\n",
    "    \n",
    "    print 'Top 5 rows of selected portfolio:'\n",
    "    print reduced_universe[['Symbol', 'Name', 'MarketCap', 'Sector', 'industry', 'Market']].head()\n",
    "    \n",
    "    return reduced_universe.Symbol.values"
   ]
  },
  {
   "cell_type": "code",
   "execution_count": 184,
   "metadata": {
    "collapsed": true
   },
   "outputs": [],
   "source": [
    "def getStocks(symbols, trim_start=\"2005-01-01\", trim_end=\"2015-12-31\"):\n",
    "    \"\"\"\n",
    "    Paramters\n",
    "    ---------\n",
    "    symbols: list of string symbols. eg. ['AAPL', 'KCG']\n",
    "    \n",
    "    Returns\n",
    "    -------\n",
    "    a dictionary of pandas data frames containing all the close prices.\n",
    "    \"\"\"\n",
    "    print symbols\n",
    "    dfs = {}\n",
    "    for symbol in symbols:\n",
    "        flag = False\n",
    "        #Get data from either Yahoo or Google \n",
    "        for source in ['YAHOO/', 'WIKI/', 'GOOG/NYSE_', 'GOOG/NASDAQ_', 'GOOG/AMEX_']:\n",
    "            try:\n",
    "                data = Quandl.get(source+symbol,authtoken='c2365v55yoZrWKxbVxwK',\n",
    "                                  trim_start = trim_start, trim_end = trim_end)\n",
    "                flag = True\n",
    "                break\n",
    "            except:\n",
    "                pass\n",
    "        \n",
    "        if not flag:\n",
    "            print 'Retrieving ' + symbol + ' unsuccessful. - No symbol. Suggesting:******'\n",
    "            print Quandl.search(symbol)\n",
    "            break\n",
    "            \n",
    "        else:\n",
    "            try:\n",
    "                data = data[['Adjusted Close']]\n",
    "                data.columns = ['Close']\n",
    "            except:\n",
    "                try:\n",
    "                    data = data[['Close']]\n",
    "                except:\n",
    "                    print 'Retrieving ' + symbol + ' unsuccessful. - No close data.'\n",
    "                    data = None\n",
    "\n",
    "        dfs[symbol] = data\n",
    "        \n",
    "    return dfs"
   ]
  },
  {
   "cell_type": "code",
   "execution_count": 185,
   "metadata": {
    "collapsed": true
   },
   "outputs": [],
   "source": [
    "stock_universe = getStockUniverse()"
   ]
  },
  {
   "cell_type": "code",
   "execution_count": 186,
   "metadata": {
    "collapsed": false,
    "scrolled": true
   },
   "outputs": [
    {
     "name": "stdout",
     "output_type": "stream",
     "text": [
      "Top 5 rows of selected portfolio:\n",
      "   Symbol                   Name  MarketCap      Sector  \\\n",
      "0    AAPL             Apple Inc.     537330  Technology   \n",
      "1    GOOG          Alphabet Inc.     485310  Technology   \n",
      "2    MSFT  Microsoft Corporation     405750  Technology   \n",
      "4      FB         Facebook, Inc.     307170  Technology   \n",
      "25   ORCL     Oracle Corporation     155280  Technology   \n",
      "\n",
      "                                           industry  Market  \n",
      "0                            Computer Manufacturing  NASDAQ  \n",
      "1   Computer Software: Programming, Data Processing  NASDAQ  \n",
      "2           Computer Software: Prepackaged Software  NASDAQ  \n",
      "4   Computer Software: Programming, Data Processing  NASDAQ  \n",
      "25          Computer Software: Prepackaged Software    NYSE  \n"
     ]
    }
   ],
   "source": [
    "techgiants = getSamplePortfolio(stock_universe, sector = ['Technology'], descendingByCap = True)\n"
   ]
  },
  {
   "cell_type": "code",
   "execution_count": 187,
   "metadata": {
    "collapsed": false
   },
   "outputs": [
    {
     "name": "stdout",
     "output_type": "stream",
     "text": [
      "['AAPL' 'GOOG' 'MSFT' 'FB' 'ORCL' 'INTC' 'CSCO' 'IBM' 'TSM' 'DCM']\n"
     ]
    }
   ],
   "source": [
    "techgiants_p = getStocks(techgiants)"
   ]
  },
  {
   "cell_type": "markdown",
   "metadata": {},
   "source": [
    "## It would be better to return the portfolio as a data frame rather than a dictionary of separate data frames.\n",
    "\n"
   ]
  },
  {
   "cell_type": "code",
   "execution_count": 188,
   "metadata": {
    "collapsed": false,
    "scrolled": false
   },
   "outputs": [
    {
     "data": {
      "text/plain": [
       "array([[   4.186585],\n",
       "       [   4.229582],\n",
       "       [   4.266626],\n",
       "       ..., \n",
       "       [ 108.153132],\n",
       "       [ 106.740798],\n",
       "       [ 104.691918]])"
      ]
     },
     "execution_count": 188,
     "metadata": {},
     "output_type": "execute_result"
    }
   ],
   "source": [
    "techgiants_p['AAPL'].values"
   ]
  },
  {
   "cell_type": "code",
   "execution_count": 189,
   "metadata": {
    "collapsed": false,
    "scrolled": false
   },
   "outputs": [
    {
     "data": {
      "text/plain": [
       "['GOOG', 'TSM', 'IBM', 'INTC', 'AAPL', 'CSCO', 'ORCL', 'FB', 'DCM', 'MSFT']"
      ]
     },
     "execution_count": 189,
     "metadata": {},
     "output_type": "execute_result"
    }
   ],
   "source": [
    "techgiants_p.keys()"
   ]
  },
  {
   "cell_type": "code",
   "execution_count": 190,
   "metadata": {
    "collapsed": false,
    "scrolled": true
   },
   "outputs": [
    {
     "data": {
      "text/plain": [
       "DatetimeIndex(['2005-01-03', '2005-01-04', '2005-01-05', '2005-01-06',\n",
       "               '2005-01-07', '2005-01-10', '2005-01-11', '2005-01-12',\n",
       "               '2005-01-13', '2005-01-14',\n",
       "               ...\n",
       "               '2015-12-17', '2015-12-18', '2015-12-21', '2015-12-22',\n",
       "               '2015-12-23', '2015-12-24', '2015-12-28', '2015-12-29',\n",
       "               '2015-12-30', '2015-12-31'],\n",
       "              dtype='datetime64[ns]', name=u'Date', length=2769, freq=None)"
      ]
     },
     "execution_count": 190,
     "metadata": {},
     "output_type": "execute_result"
    }
   ],
   "source": [
    "ba = techgiants_p['AAPL']\n",
    "ba = ba.Close\n",
    "ba.index"
   ]
  },
  {
   "cell_type": "code",
   "execution_count": 191,
   "metadata": {
    "collapsed": false,
    "scrolled": false
   },
   "outputs": [
    {
     "name": "stdout",
     "output_type": "stream",
     "text": [
      "2769\n",
      "2784\n",
      "2769\n",
      "2769\n",
      "2769\n",
      "2769\n",
      "2769\n",
      "911\n",
      "2784\n",
      "2769\n"
     ]
    }
   ],
   "source": [
    "for key in techgiants_p.keys():\n",
    "    print len(techgiants_p[key])"
   ]
  },
  {
   "cell_type": "markdown",
   "metadata": {},
   "source": [
    "### This is a problem in this method: the returns are all different sizes.  This will make these hard to work with."
   ]
  },
  {
   "cell_type": "markdown",
   "metadata": {},
   "source": [
    "### For the purpose of this development, I'll just use the techgiants that have matching length as a market to hedge against.  We will have to build in ways to deal with missing data.  "
   ]
  },
  {
   "cell_type": "code",
   "execution_count": 192,
   "metadata": {
    "collapsed": false
   },
   "outputs": [],
   "source": [
    "market_names=[]\n",
    "for key in techgiants_p.keys():\n",
    "    if len(techgiants_p[key])==2769: \n",
    "        market_names.append(key)"
   ]
  },
  {
   "cell_type": "code",
   "execution_count": 193,
   "metadata": {
    "collapsed": false
   },
   "outputs": [
    {
     "data": {
      "text/plain": [
       "['GOOG', 'IBM', 'INTC', 'AAPL', 'CSCO', 'ORCL', 'MSFT']"
      ]
     },
     "execution_count": 193,
     "metadata": {},
     "output_type": "execute_result"
    }
   ],
   "source": [
    "market_names"
   ]
  },
  {
   "cell_type": "code",
   "execution_count": 194,
   "metadata": {
    "collapsed": false
   },
   "outputs": [],
   "source": [
    "market = np.zeros((len(techgiants_p['AAPL']),len(market_names)))\n",
    "for i,key in enumerate(market_names):\n",
    "    market[:,i] = techgiants_p[key].values.flatten()\n",
    "    "
   ]
  },
  {
   "cell_type": "code",
   "execution_count": 195,
   "metadata": {
    "collapsed": false
   },
   "outputs": [
    {
     "data": {
      "text/plain": [
       "array([[ 101.253921,   79.099823,   16.725715, ...,   16.975329,\n",
       "          12.453647,   20.887241],\n",
       "       [  97.15301 ,   78.250155,   16.392216, ...,   16.307562,\n",
       "          12.128609,   20.965354],\n",
       "       [  96.658507,   78.088317,   16.232715, ...,   16.316349,\n",
       "          12.165756,   20.918487],\n",
       "       ..., \n",
       "       [ 776.599976,  138.366653,   35.130791, ...,   27.555284,\n",
       "          36.887906,   56.14687 ],\n",
       "       [ 771.      ,  137.9311  ,   34.684721, ...,   27.317139,\n",
       "          36.768396,   55.908583],\n",
       "       [ 758.880005,  136.22849 ,   34.149431, ...,   26.949999,\n",
       "          36.379998,   55.084498]])"
      ]
     },
     "execution_count": 195,
     "metadata": {},
     "output_type": "execute_result"
    }
   ],
   "source": [
    "market"
   ]
  },
  {
   "cell_type": "markdown",
   "metadata": {},
   "source": [
    "### I'll just use a simple unweighted mean of these stocks as an example hedging market."
   ]
  },
  {
   "cell_type": "code",
   "execution_count": 196,
   "metadata": {
    "collapsed": false
   },
   "outputs": [],
   "source": [
    "market = np.mean(market, axis=1)"
   ]
  },
  {
   "cell_type": "code",
   "execution_count": 197,
   "metadata": {
    "collapsed": false
   },
   "outputs": [],
   "source": [
    "market = pd.DataFrame(market,index = techgiants_p['AAPL'].Close.index)"
   ]
  },
  {
   "cell_type": "code",
   "execution_count": 198,
   "metadata": {
    "collapsed": true
   },
   "outputs": [],
   "source": [
    "portfolio = pd.DataFrame(techgiants_p['AAPL'].values.flatten(), index = techgiants_p['AAPL'].Close.index)"
   ]
  },
  {
   "cell_type": "code",
   "execution_count": 218,
   "metadata": {
    "collapsed": false
   },
   "outputs": [],
   "source": [
    "beta = get_beta(portfolio, market)"
   ]
  },
  {
   "cell_type": "code",
   "execution_count": 219,
   "metadata": {
    "collapsed": false
   },
   "outputs": [],
   "source": [
    "betas = beta[1]"
   ]
  },
  {
   "cell_type": "markdown",
   "metadata": {},
   "source": [
    "### Notice that betas is shorter than the market and portfolios by the length of the regression window.  So below, I pass in the time after the 60 day window.  "
   ]
  },
  {
   "cell_type": "code",
   "execution_count": 220,
   "metadata": {
    "collapsed": false,
    "scrolled": false
   },
   "outputs": [
    {
     "data": {
      "text/plain": [
       "2709"
      ]
     },
     "execution_count": 220,
     "metadata": {},
     "output_type": "execute_result"
    }
   ],
   "source": [
    "len(market.ix[60:,:])"
   ]
  },
  {
   "cell_type": "code",
   "execution_count": 221,
   "metadata": {
    "collapsed": true
   },
   "outputs": [],
   "source": [
    "betas = pd.DataFrame(betas, index = portfolio.index[60:])"
   ]
  },
  {
   "cell_type": "code",
   "execution_count": 222,
   "metadata": {
    "collapsed": false
   },
   "outputs": [
    {
     "data": {
      "text/plain": [
       "2709"
      ]
     },
     "execution_count": 222,
     "metadata": {},
     "output_type": "execute_result"
    }
   ],
   "source": [
    "len(betas)"
   ]
  },
  {
   "cell_type": "code",
   "execution_count": 223,
   "metadata": {
    "collapsed": true
   },
   "outputs": [],
   "source": [
    "def beta_hedging(betas, market, portfolio):\n",
    "    \"\"\"\n",
    "    Performs beta-hedging, given a portfolio, a market, and beta forecasts.\n",
    "    \n",
    "    Parameters:\n",
    "    -----------\n",
    "    betas: Pandas Series\n",
    "        Beta forecasts matching length and frequency of the provided market and portfolio.\n",
    "    market: Pandas Series\n",
    "        Asset values of the market that is used to hedge the portfolio.\n",
    "    portfolio: Pandas Series\n",
    "        Asset values of the portfolio that is being traded.\n",
    "    \n",
    "    Returns:\n",
    "    --------\n",
    "    returns: Pandas Series\n",
    "        Daily returns of the hedged portfolio\n",
    "    \"\"\"\n",
    "    assert len(betas) == len(market) == len(portfolio), \"Inputs must be same size\"\n",
    "    \n",
    "    betasvals = betas.values.flatten()\n",
    "    marketvals = market.values.flatten()\n",
    "    portfoliovals = portfolio.values.flatten()\n",
    "    \n",
    "    length = len(betas)\n",
    "    datestamps = betas.index\n",
    "    returns = np.zeros(length-1)\n",
    "    \n",
    "    for day in range(length - 1):\n",
    "        # Today and tomorrow's prices\n",
    "        portfolio_buyprice = portfoliovals[day]\n",
    "        portfolio_sellprice = portfoliovals[day+1]\n",
    "        market_buyprice = marketvals[day]\n",
    "        market_sellprice = marketvals[day+1]\n",
    "        \n",
    "        # Ratio used to correct for difference in price between market and portfolio\n",
    "        price_ratio = portfolio_buyprice/market_buyprice\n",
    "        \n",
    "        # Daily returns of the portfolio and the hedge\n",
    "        portfolio_price_change = portfolio_sellprice - portfolio_buyprice\n",
    "        hedge_price_change = betasvals[i]*price_ratio*(market_sellprice-market_buyprice)\n",
    "        \n",
    "        # Daily returns are the difference between the portfolio and the hedge\n",
    "        returns[day] = portfolio_price_change - hedge_price_change\n",
    "    \n",
    "    return pd.DataFrame(returns, datestamps[1:])\n",
    "    "
   ]
  },
  {
   "cell_type": "markdown",
   "metadata": {},
   "source": [
    "### Now we can compare the returns from the hedged and unhedged portfolio"
   ]
  },
  {
   "cell_type": "code",
   "execution_count": 224,
   "metadata": {
    "collapsed": false
   },
   "outputs": [],
   "source": [
    "hedged_returns = beta_hedging(betas, market.ix[60:,:], portfolio.ix[60:,:])"
   ]
  },
  {
   "cell_type": "code",
   "execution_count": 225,
   "metadata": {
    "collapsed": false,
    "scrolled": true
   },
   "outputs": [],
   "source": [
    "portfolio_returns = np.diff(portfolio.values.flatten())"
   ]
  },
  {
   "cell_type": "markdown",
   "metadata": {},
   "source": [
    "### Total returns"
   ]
  },
  {
   "cell_type": "code",
   "execution_count": 226,
   "metadata": {
    "collapsed": false
   },
   "outputs": [
    {
     "data": {
      "text/plain": [
       "0    109.712116\n",
       "dtype: float64"
      ]
     },
     "execution_count": 226,
     "metadata": {},
     "output_type": "execute_result"
    }
   ],
   "source": [
    "np.sum(hedged_returns)"
   ]
  },
  {
   "cell_type": "code",
   "execution_count": 227,
   "metadata": {
    "collapsed": false
   },
   "outputs": [
    {
     "data": {
      "text/plain": [
       "100.50533299999999"
      ]
     },
     "execution_count": 227,
     "metadata": {},
     "output_type": "execute_result"
    }
   ],
   "source": [
    "np.sum(portfolio_returns)"
   ]
  },
  {
   "cell_type": "markdown",
   "metadata": {},
   "source": [
    "### Volatility of returns"
   ]
  },
  {
   "cell_type": "code",
   "execution_count": 228,
   "metadata": {
    "collapsed": false,
    "scrolled": true
   },
   "outputs": [
    {
     "data": {
      "text/plain": [
       "0    1.035375\n",
       "dtype: float64"
      ]
     },
     "execution_count": 228,
     "metadata": {},
     "output_type": "execute_result"
    }
   ],
   "source": [
    "np.std(hedged_returns)"
   ]
  },
  {
   "cell_type": "code",
   "execution_count": 229,
   "metadata": {
    "collapsed": false
   },
   "outputs": [
    {
     "data": {
      "text/plain": [
       "0.96525082598780876"
      ]
     },
     "execution_count": 229,
     "metadata": {},
     "output_type": "execute_result"
    }
   ],
   "source": [
    "np.std(portfolio_returns)"
   ]
  },
  {
   "cell_type": "code",
   "execution_count": null,
   "metadata": {
    "collapsed": true
   },
   "outputs": [],
   "source": []
  }
 ],
 "metadata": {
  "kernelspec": {
   "display_name": "Python 2",
   "language": "python",
   "name": "python2"
  },
  "language_info": {
   "codemirror_mode": {
    "name": "ipython",
    "version": 2
   },
   "file_extension": ".py",
   "mimetype": "text/x-python",
   "name": "python",
   "nbconvert_exporter": "python",
   "pygments_lexer": "ipython2",
   "version": "2.7.11"
  }
 },
 "nbformat": 4,
 "nbformat_minor": 0
}
