{
 "cells": [
  {
   "cell_type": "code",
   "execution_count": 4,
   "metadata": {
    "collapsed": true
   },
   "outputs": [],
   "source": [
    "import pandas as pd\n",
    "import numpy as np\n",
    "import sys\n",
    "sys.path.append('../../source')\n",
    "import matplotlib.pylab as plt\n",
    "%matplotlib inline\n",
    "import seaborn as sns\n",
    "sns.set_style('white')\n",
    "sns.set_context('talk')\n",
    "\n",
    "from BetaUtils import beta_hedging_ret, get_beta\n",
    "from energy_functions import correlation, neg_returns, volatility\n",
    "from Hedge import Hedge\n",
    "\n",
    "import datetime\n",
    "\n",
    "from time import time\n"
   ]
  },
  {
   "cell_type": "markdown",
   "metadata": {},
   "source": [
    "## Generate a portfolio for each of the 40 quarters in the data set that have a low correlation with the S&P, and run 200 simulations for each of these portfolios.  We expect that the hedging should do next to nothing."
   ]
  },
  {
   "cell_type": "code",
   "execution_count": 5,
   "metadata": {
    "collapsed": true
   },
   "outputs": [],
   "source": [
    "begin = ['-01-01', '-04-01', '-07-01', '-10-01']\n",
    "end = ['-03-31', '-06-30', '-09-30', '-12-31']\n",
    "end_2 = ['-12-31', '-03-31', '-06-30', '-09-30']\n",
    "col_1 = []\n",
    "col_2 = []\n",
    "col_3 = []\n",
    "col_4 = []\n",
    "\n",
    "for year in range(2005, 2015):\n",
    "    for date in begin:\n",
    "        col_1.append(str(year) + date)\n",
    "# col_1 = col_1[1:]\n",
    "        \n",
    "col_2.append('2005-12-31')\n",
    "for year in range(2006, 2016):\n",
    "    for date in end:\n",
    "        col_2.append(str(year) + date)\n",
    "col_2 = col_2[:-1]\n",
    "        \n",
    "col_3.append('2005-10-01')\n",
    "for year in range(2006, 2016):\n",
    "    for date in begin:\n",
    "        col_3.append(str(year) + date)\n",
    "col_3 = col_3[:-1]\n",
    "        \n",
    "for year in range(2006, 2016):\n",
    "    for date in end:\n",
    "        col_4.append(str(year) + date)  \n"
   ]
  },
  {
   "cell_type": "code",
   "execution_count": null,
   "metadata": {
    "collapsed": false
   },
   "outputs": [
    {
     "name": "stdout",
     "output_type": "stream",
     "text": [
      "0 0.520690455961\n"
     ]
    }
   ],
   "source": [
    "start = time()\n",
    "count = 0\n",
    "# window=60\n",
    "\n",
    "with open('../../source/files/low_correlation_{}.txt'.format(count), 'w') as f:\n",
    "    pass\n",
    "\n",
    "for idx, years in enumerate(zip(col_1, col_2, col_3, col_4)):\n",
    "    y_1, y_2, y_3, y_4 = years\n",
    "        \n",
    "    best_correlation = np.inf\n",
    "    best_portfolio = None\n",
    "    hedge = Hedge(begindate=y_1, enddate=y_4)\n",
    "    hedge_2 = Hedge(begindate=y_1, enddate=y_2)\n",
    "    for i in range(1000):\n",
    "        # Generate and assign portfolio\n",
    "        portfolio = hedge.generateRandomPort(size=50)\n",
    "        hedge_2.portfolio = portfolio\n",
    "        \n",
    "        # Check returns\n",
    "        spy = hedge.spy.values\n",
    "        unhedged_returns = hedge.dollar_portfolio_sum.values\n",
    "        \n",
    "        corr = correlation(unhedged_returns,spy)\n",
    "        if corr < best_correlation:\n",
    "            best_portfolio = portfolio\n",
    "            best_correlation = corr\n",
    "    \n",
    "    if idx % 5 == 0:\n",
    "        print idx, best_correlation\n",
    "        sys.stdout.flush()\n",
    "    \n",
    "    # Write results\n",
    "    with open('../../source/portfolios_low_correlation.txt', 'a') as f:\n",
    "        f.write('{}'.format(idx))\n",
    "        for stock in best_portfolio:\n",
    "            f.write(',{}'.format(stock))\n",
    "        f.write('\\n')\n",
    "        \n",
    "    for i in range(100):\n",
    "        with open('../../source/files/low_correlation_{}.txt'.format(count), 'w') as f:\n",
    "            f.write('HEADER\\n')\n",
    "            f.write('{},{},{},{},'.format(y_1, y_2, y_3, y_4))\n",
    "            f.write('60,{},{},0.1,0.99,0.001,100,10000,0,1,0,0,0'.format(idx, idx))\n",
    "        count += 1\n",
    "        \n",
    "print 'It took {} seconds'.format(time() - start)"
   ]
  },
  {
   "cell_type": "code",
   "execution_count": null,
   "metadata": {
    "collapsed": true
   },
   "outputs": [],
   "source": []
  },
  {
   "cell_type": "code",
   "execution_count": null,
   "metadata": {
    "collapsed": true
   },
   "outputs": [],
   "source": []
  }
 ],
 "metadata": {
  "kernelspec": {
   "display_name": "Python 2",
   "language": "python",
   "name": "python2"
  },
  "language_info": {
   "codemirror_mode": {
    "name": "ipython",
    "version": 2
   },
   "file_extension": ".py",
   "mimetype": "text/x-python",
   "name": "python",
   "nbconvert_exporter": "python",
   "pygments_lexer": "ipython2",
   "version": "2.7.11"
  }
 },
 "nbformat": 4,
 "nbformat_minor": 0
}
