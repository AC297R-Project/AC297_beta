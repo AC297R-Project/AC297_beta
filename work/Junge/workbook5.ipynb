{
 "cells": [
  {
   "cell_type": "code",
   "execution_count": 1,
   "metadata": {
    "collapsed": true
   },
   "outputs": [],
   "source": [
    "import pandas as pd\n",
    "import numpy as np\n",
    "%matplotlib inline\n",
    "import matplotlib.pyplot as plt\n",
    "import sys\n",
    "import scipy\n",
    "import pickle"
   ]
  },
  {
   "cell_type": "code",
   "execution_count": 2,
   "metadata": {
    "collapsed": false
   },
   "outputs": [],
   "source": [
    "sys.path.append('../../source/')\n",
    "sys.path.append('../Tang/')\n",
    "from JungeUtilities import beta_hedging, portfolio_ize, date_to_int\n",
    "from get_beta import get_beta\n",
    "from energy_functions import correlation, sharpe, volatility\n",
    "from Hedge import Hedge"
   ]
  },
  {
   "cell_type": "code",
   "execution_count": 58,
   "metadata": {
    "collapsed": true
   },
   "outputs": [],
   "source": []
  },
  {
   "cell_type": "code",
   "execution_count": 59,
   "metadata": {
    "collapsed": true
   },
   "outputs": [],
   "source": [
    "def swap(market_symbols, year_symbols):\n",
    "    \"\"\"\n",
    "    Randomly changes the symbols in a market. Can either grow or shrink the market by 1 asset.  \n",
    "    \n",
    "    Inputs:\n",
    "    -------\n",
    "    market_symbols: list of symbols that are in a market\n",
    "    year_symbols:   list of all the possible symbols for a given year\n",
    "    \n",
    "    Output:\n",
    "    -------\n",
    "    symbols: list of symbols in the market after the random change.  \n",
    "    \n",
    "    \"\"\"\n",
    "    coin_flip = np.random.binomial(1, 0.5)\n",
    "    \n",
    "    if (coin_flip == 0) and len(market_symbols)>10: # Shrink the market by one asset\n",
    "        \n",
    "        # Pick a random list index and pop that symbol off\n",
    "        market_symbols.pop(np.random.randint(len(market_symbols)))\n",
    "        return market_symbols\n",
    "    \n",
    "    else: # Grow the market by one asset\n",
    "        \n",
    "        # Get a list of the symbols for that year that are not already in the portfolio\n",
    "        potential_symbols = list(set(year_symbols) - set(market_symbols))\n",
    "        symbol_to_add = np.random.choice(potential_symbols)\n",
    "        market_symbols.append(symbol_to_add)\n",
    "        return market_symbols"
   ]
  },
  {
   "cell_type": "code",
   "execution_count": 80,
   "metadata": {
    "collapsed": false
   },
   "outputs": [],
   "source": [
    "def simulated_annealing(hedge, init_temp, min_temp, cool_by, reanneal, num_iter, energy_func):\n",
    "    \"\"\"\n",
    "    Inputs:\n",
    "    -------\n",
    "    hedge: \n",
    "        hedge object that already has an instantiated market and portfolio. \n",
    "    init_temp: \n",
    "        float that controls the initial temperature of the algorithm\n",
    "    min_temp: \n",
    "        float that acts as a floor for the decreasing temperature.  When this is hit, we heat back up to init_temp.  \n",
    "    cool_by: \n",
    "        float that controls the speed that the cooling occurs\n",
    "    reanneal: \n",
    "        integer that controls how many iterations pass between cooling steps\n",
    "    num_iter: \n",
    "        integer that controls the total number of iterations that the algorithm runs\n",
    "    energy_func:\n",
    "        function that determines the energy state, eg correlation, volatility, sharpe ratio\n",
    "    \n",
    "    Returns:\n",
    "    --------\n",
    "    states: \n",
    "        a history of the current energy state at each iteration\n",
    "    best_market: \n",
    "        list of the symbols for the best hedging market found\n",
    "    \"\"\"\n",
    "\n",
    "    \n",
    "#     hedge.generateRandomMarket()\n",
    "    \n",
    "    portfolio_values = hedge.dollar_portfolio_sum\n",
    "    portfolio_returns = hedge.dollar_portfolio_sum_ret\n",
    "    \n",
    "    market = list(hedge.market)\n",
    "    market_values = hedge.dollar_market_sum\n",
    "    market_returns = hedge.dollar_market_sum_ret\n",
    "    \n",
    "    spy_returns = hedge.spy.pct_change()[61:]\n",
    "    \n",
    "    # Get betas from portfolio returns and market returns.\n",
    "    _, betas = get_beta(portfolio_returns, market_returns)\n",
    "    \n",
    "    # Perform beta hedging.\n",
    "    hedged_returns = beta_hedging(pd.Series(betas, index=market_values[60:].index),\\\n",
    "                                  market_values[60:], portfolio_values[60:])\n",
    "    hedged_returns = hedged_returns.values.reshape(hedged_returns.shape[0])\n",
    "\n",
    "        \n",
    "    # A running account of the best market found.  This is updated as better markets are found.       \n",
    "    best_market_energy = energy_func(hedged_returns[1:], spy_returns[1:])\n",
    "    best_market = hedge.market\n",
    "    \n",
    "    # Initial value for old_E is the initial total value of the starting point.\n",
    "    old_E = best_market_energy\n",
    "    \n",
    "    temperature = init_temp\n",
    "    \n",
    "    # A history of the current state of the algorithm.\n",
    "    states = np.zeros(num_iter)\n",
    "    \n",
    "    for i in range(num_iter):\n",
    "        if i%10==0:\n",
    "            print i\n",
    "        \n",
    "        # Switch the bag up a little bit and recalculate market values and returns.  \n",
    "        market = list(hedge.market)\n",
    "        hedge.market = swap(market, hedge.stockuniverse)\n",
    "        \n",
    "        market_values = hedge.dollar_market_sum\n",
    "        market_returns = hedge.dollar_market_sum_ret\n",
    "            \n",
    "        # Get beta values from portfolio and market.\n",
    "        _, betas = get_beta(portfolio_returns, market_returns)\n",
    "        \n",
    "        # Perform beta hedging.\n",
    "        hedged_returns = beta_hedging(pd.Series(betas, index=market_values[60:].index), \\\n",
    "                                          market_values[60:], portfolio_values[60:])\n",
    "        hedged_returns = hedged_returns.values.reshape(hedged_returns.shape[0])\n",
    "\n",
    "        # Examine energy state of the new bag.\n",
    "        new_E = energy_func(hedged_returns[1:], spy_returns[1:])\n",
    "        \n",
    "        delta_E = new_E - old_E\n",
    "        \n",
    "        # We always accept an improvement.\n",
    "        if new_E < old_E:\n",
    "            #market = proposed_market\n",
    "            states[i] = new_E\n",
    "            old_E = new_E\n",
    "            # Update our running best bag found.\n",
    "            if new_E > best_market_energy:\n",
    "                best_market_energy = new_E\n",
    "                best_market = market\n",
    "        # We sometimes accept a decline because this can get us out of a local minimum.\n",
    "        elif np.random.rand() < np.exp(-delta_E / temperature):\n",
    "            #market = proposed_proposed\n",
    "            states[i] = new_E\n",
    "            old_E = new_E\n",
    "\n",
    "        # And sometimes we just stay where we are until something better comes along.\n",
    "        else: \n",
    "            states[i] = old_E\n",
    "            # Put the old market back in\n",
    "            hedge.market = market\n",
    "            \n",
    "        # Cool down slowly at the defined interval.\n",
    "        if num_iter % reanneal == 0:\n",
    "            temperature = temperature * cool_by\n",
    "            \n",
    "            # Reheat when the temperature gets too cold.\n",
    "            if temperature < min_temp:\n",
    "                temperature = init_temp\n",
    "    \n",
    "    hedge.market = best_market\n",
    "    return accepted, states, best_market"
   ]
  },
  {
   "cell_type": "code",
   "execution_count": 132,
   "metadata": {
    "collapsed": false
   },
   "outputs": [
    {
     "data": {
      "text/plain": [
       "array(['FLIR', 'IVC', 'KNDI', 'MHO', 'EVC', 'PCO', 'COWN', 'NILE', 'MIW',\n",
       "       'ANAC', 'ADHD', 'PLBC', 'ESXB', 'JRO', 'WES', 'HURC', 'MQT', 'EROS',\n",
       "       'RPAI', 'HMNF'], dtype=object)"
      ]
     },
     "execution_count": 132,
     "metadata": {},
     "output_type": "execute_result"
    }
   ],
   "source": [
    "hedge.generateRandomPort()"
   ]
  },
  {
   "cell_type": "code",
   "execution_count": 133,
   "metadata": {
    "collapsed": false
   },
   "outputs": [
    {
     "name": "stdout",
     "output_type": "stream",
     "text": [
      "0\n",
      "10\n",
      "20\n",
      "30\n",
      "40\n",
      "50\n",
      "60\n",
      "70\n",
      "80\n",
      "90\n",
      "50 Accepted\n"
     ]
    }
   ],
   "source": [
    "hedge = Hedge(begindate='2014-01-01', enddate='2014-12-31')\n",
    "hedge.portfolio = ['FLIR', 'IVC', 'KNDI', 'MHO', 'EVC', 'PCO', 'COWN', 'NILE', 'MIW',\n",
    "       'ANAC', 'ADHD', 'PLBC', 'ESXB', 'JRO', 'WES', 'HURC', 'MQT', 'EROS',\n",
    "       'RPAI', 'HMNF']\n",
    "hedge.market = ['GPX', 'GRMN', 'MPWR', 'ENR', 'CTHR', 'PRFZ', 'SUMR', 'CUBE',\n",
    "       'ACTS', 'ANF', 'MYI', 'SON', 'SSL', 'PW', 'KT', 'TWN', 'IPWR',\n",
    "       'AAN', 'CASH', 'DISCA', 'RFP', 'HPS', 'WMB', 'VRSN', 'ETN', 'WPZ',\n",
    "       'RAI', 'BOXC', 'ARCI', 'EMN', 'LMOS', 'EXPD', 'NQS', 'GB', 'KNOP',\n",
    "       'CNL', 'ENDP', 'SPSC', 'SCVL', 'EPAY']\n",
    "\n",
    "\n",
    "ac, st, bm = simulated_annealing(hedge, init_temp=1, min_temp=0.01, cool_by=0.99, reanneal=100, num_iter=10000, \\\n",
    "                    energy_func=sharpe)\n",
    "print ac, \"Accepted\""
   ]
  },
  {
   "cell_type": "code",
   "execution_count": 134,
   "metadata": {
    "collapsed": false
   },
   "outputs": [
    {
     "name": "stdout",
     "output_type": "stream",
     "text": [
      "Number of assets in market at the end: 26\n"
     ]
    }
   ],
   "source": [
    "print \"Number of assets in market at the end:\", len(hedge.market)"
   ]
  },
  {
   "cell_type": "code",
   "execution_count": 138,
   "metadata": {
    "collapsed": false
   },
   "outputs": [
    {
     "ename": "TypeError",
     "evalue": "ylabel() takes at least 1 argument (0 given)",
     "output_type": "error",
     "traceback": [
      "\u001b[0;31m---------------------------------------------------------------------------\u001b[0m",
      "\u001b[0;31mTypeError\u001b[0m                                 Traceback (most recent call last)",
      "\u001b[0;32m<ipython-input-138-9360ad6cc46c>\u001b[0m in \u001b[0;36m<module>\u001b[0;34m()\u001b[0m\n\u001b[1;32m      1\u001b[0m \u001b[0mplt\u001b[0m\u001b[0;34m.\u001b[0m\u001b[0mplot\u001b[0m\u001b[0;34m(\u001b[0m\u001b[0;34m-\u001b[0m\u001b[0mst\u001b[0m\u001b[0;34m)\u001b[0m\u001b[0;34m\u001b[0m\u001b[0m\n\u001b[1;32m      2\u001b[0m \u001b[0mplt\u001b[0m\u001b[0;34m.\u001b[0m\u001b[0mxlabel\u001b[0m\u001b[0;34m(\u001b[0m\u001b[0;34m\"Iterations\"\u001b[0m\u001b[0;34m)\u001b[0m\u001b[0;34m\u001b[0m\u001b[0m\n\u001b[0;32m----> 3\u001b[0;31m \u001b[0mplt\u001b[0m\u001b[0;34m.\u001b[0m\u001b[0mylabel\u001b[0m\u001b[0;34m(\u001b[0m\u001b[0;34m)\u001b[0m\u001b[0;34m\u001b[0m\u001b[0m\n\u001b[0m",
      "\u001b[0;31mTypeError\u001b[0m: ylabel() takes at least 1 argument (0 given)"
     ]
    },
    {
     "data": {
      "image/png": "[encoded data removed]",
      "text/plain": [
       "<matplotlib.figure.Figure at 0x10e3ec950>"
      ]
     },
     "metadata": {},
     "output_type": "display_data"
    }
   ],
   "source": [
    "plt.plot(-st)\n",
    "plt.xlabel(\"Iterations\")\n",
    "plt.ylabel()"
   ]
  },
  {
   "cell_type": "markdown",
   "metadata": {},
   "source": [
    "## Results"
   ]
  },
  {
   "cell_type": "code",
   "execution_count": 136,
   "metadata": {
    "collapsed": false
   },
   "outputs": [
    {
     "name": "stdout",
     "output_type": "stream",
     "text": [
      "Absolute Value of Correlation with S&P: 0.317885530057\n",
      "Volatility: 6.7842260825\n",
      "Sharpe Ratio: 0.05398013245\n",
      "Relative Return: 6.95805502758 %\n",
      "S&P Return 12.3865939845 %\n"
     ]
    }
   ],
   "source": [
    "_,betas = get_beta(hedge.dollar_portfolio_sum_ret, hedge.dollar_market_sum_ret)\n",
    "\n",
    "hedged_returns_dollars = beta_hedging(pd.Series(betas, index=hedge.dollar_market_sum[60:].index), \\\n",
    "                                          hedge.dollar_market_sum[60:], hedge.dollar_portfolio_sum[60:])\n",
    "hedged_returns_dollars = hedged_returns_dollars.values.reshape(hedged_returns_dollars.shape[0])\n",
    "\n",
    "p = hedged_returns_dollars[1:]\n",
    "m = hedge.spy.pct_change()[61:][1:]\n",
    "print \"Absolute Value of Correlation with S&P:\", correlation(p,m)\n",
    "print \"Volatility:\", volatility(p,m)\n",
    "print \"Sharpe Ratio:\", -sharpe(p,m)\n",
    "print \"Relative Return:\", 100*(np.sum(hedged_returns_dollars[1:])/1000.), \"%\"\n",
    "print \"S&P Return\", (hedge.spy[-1]-hedge.spy[0])/hedge.spy[0]*100, \"%\""
   ]
  },
  {
   "cell_type": "markdown",
   "metadata": {},
   "source": [
    "## Baseline"
   ]
  },
  {
   "cell_type": "code",
   "execution_count": 137,
   "metadata": {
    "collapsed": false
   },
   "outputs": [
    {
     "name": "stdout",
     "output_type": "stream",
     "text": [
      "Absolute Value of Correlation with S&P: 0.673705647743\n",
      "Volatility: 10.0105301549\n",
      "Sharpe Ratio: 0.0278680503298\n",
      "Relative Return: 5.3005052055 %\n",
      "S&P Return 12.3865939845 %\n"
     ]
    }
   ],
   "source": [
    "_,betas = get_beta(hedge.dollar_portfolio_sum_ret, hedge.spy)\n",
    "\n",
    "hedged_returns_dollars = beta_hedging(pd.Series(betas, index=hedge.dollar_market_sum[60:].index), \\\n",
    "                                          hedge.spy[60:], hedge.dollar_portfolio_sum[60:])\n",
    "hedged_returns_dollars = hedged_returns_dollars.values.reshape(hedged_returns_dollars.shape[0])\n",
    "\n",
    "p = hedged_returns_dollars[1:]\n",
    "m = hedge.spy.pct_change()[61:][1:]\n",
    "print \"Absolute Value of Correlation with S&P:\", correlation(p,m)\n",
    "print \"Volatility:\", volatility(p,m)\n",
    "print \"Sharpe Ratio:\", -sharpe(p,m)\n",
    "print \"Relative Return:\", 100*(np.sum(hedged_returns_dollars[1:])/1000.), \"%\"\n",
    "print \"S&P Return\", (hedge.spy[-1]-hedge.spy[0])/hedge.spy[0]*100, \"%\""
   ]
  },
  {
   "cell_type": "code",
   "execution_count": null,
   "metadata": {
    "collapsed": true
   },
   "outputs": [],
   "source": []
  }
 ],
 "metadata": {
  "kernelspec": {
   "display_name": "Python 2",
   "language": "python",
   "name": "python2"
  },
  "language_info": {
   "codemirror_mode": {
    "name": "ipython",
    "version": 2
   },
   "file_extension": ".py",
   "mimetype": "text/x-python",
   "name": "python",
   "nbconvert_exporter": "python",
   "pygments_lexer": "ipython2",
   "version": "2.7.10"
  }
 },
 "nbformat": 4,
 "nbformat_minor": 0
}
